{
 "cells": [
  {
   "cell_type": "code",
   "execution_count": 130,
   "metadata": {},
   "outputs": [
    {
     "name": "stdout",
     "output_type": "stream",
     "text": [
      "The autoreload extension is already loaded. To reload it, use:\n",
      "  %reload_ext autoreload\n"
     ]
    }
   ],
   "source": [
    "%matplotlib qt5\n",
    "%load_ext autoreload\n",
    "%autoreload 2\n",
    "import os, sys, fnmatch\n",
    "import cv2, time\n",
    "import numpy as np\n",
    "import argparse, pprint\n",
    "import matplotlib\n",
    "\n",
    "from matplotlib import pyplot as plt\n",
    "from matplotlib.ticker import NullFormatter\n",
    "from matplotlib.transforms import Bbox\n",
    "import matplotlib.gridspec as gridspec\n",
    "\n",
    "import ipywidgets as widgets\n",
    "from IPython.display import display\n",
    "from ipywidgets import interact, interactive, IntSlider, Layout, interact_manual,interact, HBox, Layout,VBox\n",
    "\n",
    "pp = pprint.PrettyPrinter(indent=4)\n",
    "homeDir = os.path.abspath('')\n",
    "\n",
    "from src.UVMappingPipeline import UVMappingPipeline"
   ]
  },
  {
   "cell_type": "code",
   "execution_count": 121,
   "metadata": {
    "scrolled": false
   },
   "outputs": [
    {
     "data": {
      "application/vnd.jupyter.widget-view+json": {
       "model_id": "c684a973ef1e40a198cbad17c3754a12",
       "version_major": 2,
       "version_minor": 0
      },
      "text/plain": [
       "VkJveChjaGlsZHJlbj0oVkJveChjaGlsZHJlbj0oSEJveChjaGlsZHJlbj0oU2VsZWN0KGRlc2NyaXB0aW9uPXUnRmlsZTonLCBsYXlvdXQ9TGF5b3V0KHdpZHRoPXUnMTAwJScpLCBvcHRpb27igKY=\n"
      ]
     },
     "metadata": {},
     "output_type": "display_data"
    }
   ],
   "source": [
    "%reload_ext autoreload\n",
    "plt.close('all')\n",
    "pipe = UVMappingPipeline()\n",
    "p = interactive(pipe.pipeline,\n",
    "    _img = widgets.Select(\n",
    "                        options=sorted(found_imgs),\n",
    "                        value=str(sorted(found_imgs)[0]),\n",
    "                        description='File:',\n",
    "                        layout=Layout(width='100%')\n",
    "                    ),\n",
    "    line_method = {'Standard Hough Transform':0,'Probabilistic Hough Transform':1},\n",
    "    input_method = {'Classic Thresholded':0,'Morphed Thresholded':1,'Canny Edges':2},\n",
    "    e1 = (1,255,1), e2 = (1,255,1),\n",
    "    ang = (0,360,1), rho = (1,1000,1),\n",
    "    minLineLength = (0,255,1), maxLineGap = (0,255,1),\n",
    "    houghThresh = (0,255,1), greyThresh = (0,255,1), cnt_thresh = (0,5000,100),\n",
    "    show_helpers = True, use_umap = True, flip_thresh_bin = False\n",
    ")\n",
    "\n",
    "\n",
    "row1 = HBox([p.children[0]])\n",
    "row2 = HBox([p.children[1], p.children[2]], layout = Layout(flex_flow='row wrap'))\n",
    "row3 = HBox([p.children[3], p.children[4]], layout = Layout(flex_flow='row wrap'))\n",
    "row4 = HBox([p.children[5], p.children[6], p.children[7], p.children[8]], layout = Layout(display='flex',flex_flow='row'))\n",
    "row5 = HBox([p.children[9], p.children[10], p.children[11]], layout = Layout(flex_flow='row wrap'))\n",
    "row6 = HBox([p.children[12], p.children[13], p.children[14]], layout = Layout(flex_flow='row wrap'))\n",
    "controls = VBox([row1,row2,row3,row4,row5,row6], layout = Layout(display='flex'))\n",
    "output = p.children[-1]\n",
    "display(VBox([controls, output]))"
   ]
  },
  {
   "cell_type": "code",
   "execution_count": 128,
   "metadata": {},
   "outputs": [
    {
     "name": "stdout",
     "output_type": "stream",
     "text": [
      "('Raw Contour Areas:', [174.0, 111.0, 42.0, 44.0, 35.0, 233.0, 81.0, 16.0, 16.0, 35.0, 31.0, 2655.5, 2.0, 16.5, 7180.5, 2.0, 60.5, 2.0, 1202.0])\n",
      "('Filtered Contour Areas:', [2655.5, 7180.5, 1202.0])\n",
      "\t[find_contours] --- Took 0.001157 seconds to complete\n",
      "\t[extract_contour_x_bounds] --- Took 0.000438 seconds to complete\n"
     ]
    }
   ],
   "source": [
    "_tmp = np.copy(pipe.greyV)\n",
    "_tmp = cv2.GaussianBlur(_tmp,(5,5),0)\n",
    "plot_image(_tmp,0)\n",
    "cnts, hier = pipe.find_contours(_tmp,500.0)\n",
    "\n",
    "cnts2, limits, ellipses, pts, centers = pipe.extract_contour_x_bounds(_tmp)\n",
    "\n",
    "# pp.pprint(hier)"
   ]
  },
  {
   "cell_type": "code",
   "execution_count": null,
   "metadata": {},
   "outputs": [],
   "source": [
    "print(\"\"\"\n",
    "Good Configuration:    for image = test/test_disparity.png)\n",
    "---------------------------------------------------------------\n",
    "    \n",
    "    * Mapping Space       : U-Map\n",
    "    * Line Finding Method : Probablistic Hough Transform\n",
    "    * Filtering Used      : Composite Filtering -> Blurring\n",
    "    * Kernel Size         : (2, 3)\n",
    "    * Rho, Angle (deg)    :  1, 90\n",
    "    * Min Line Length     :  11\n",
    "    * Max Line Gap        :  22\n",
    "    * Grey Thresholding   :  11\n",
    "    * Hough Threshold     :  46\n",
    "    * Contour Threshold   :  500\n",
    "    \n",
    "    * Raw Contour Areas        : [2762.0, 1751.0, 4845.5, 2999.0, 7708.5, 1574.0, 398.0])\n",
    "    * Filtered Contour Areas   : [2762.0, 1751.0, 4845.5, 2999.0, 7708.5, 1574.0])\n",
    "\"\"\")"
   ]
  },
  {
   "cell_type": "code",
   "execution_count": null,
   "metadata": {},
   "outputs": [],
   "source": [
    "from sklearn.preprocessing import PolynomialFeatures\n",
    "from sklearn.linear_model import LinearRegression,RANSACRegressor\n",
    "from sklearn.metrics import r2_score\n",
    "from sklearn.metrics import mean_squared_error\n",
    "from sklearn.linear_model import (\n",
    "    LinearRegression, TheilSenRegressor, RANSACRegressor, HuberRegressor)\n",
    "from sklearn.metrics import mean_squared_error\n",
    "from sklearn.preprocessing import PolynomialFeatures\n",
    "from sklearn.pipeline import make_pipeline\n",
    "\n",
    "# ransac_img = cv2.imread(\"/home/hunter/devel/vision_playground/input-lines.png\")\n",
    "# nonzero_pxls = ransac_img.nonzero()\n",
    "# nonzero_y = np.array(nonzero_pxls[0]).reshape(-1,1)\n",
    "# nonzero_x = np.array(nonzero_pxls[1]).reshape(-1,1)\n"
   ]
  },
  {
   "cell_type": "code",
   "execution_count": null,
   "metadata": {
    "scrolled": true
   },
   "outputs": [],
   "source": [
    "from sklearn.linear_model import (\n",
    "    LinearRegression, TheilSenRegressor, RANSACRegressor, HuberRegressor)\n",
    "from sklearn.metrics import mean_squared_error\n",
    "from sklearn.preprocessing import PolynomialFeatures\n",
    "from sklearn.pipeline import make_pipeline\n",
    "\n",
    "nonzero_y = np.array(nonzero_pxls[0]).reshape(-1,1)\n",
    "nonzero_x = np.array(nonzero_pxls[1]).reshape(-1,1)\n",
    "ransac = RANSACRegressor()\n",
    "\n",
    "estimators = [('OLS', LinearRegression()),\n",
    "              ('Theil-Sen', TheilSenRegressor(random_state=42)),\n",
    "              ('RANSAC', RANSACRegressor(random_state=42)),\n",
    "              ('HuberRegressor', HuberRegressor())]\n",
    "colors = {'OLS': 'turquoise', 'Theil-Sen': 'gold', 'RANSAC': 'lightgreen', 'HuberRegressor': 'black'}\n",
    "linestyle = {'OLS': '-', 'Theil-Sen': '-.', 'RANSAC': '--', 'HuberRegressor': '--'}\n",
    "lw = 3\n",
    "\n",
    "x_plot = np.linspace(X.min(), X.max())\n",
    "for title, this_X, this_y in [\n",
    "        ('Modeling Errors Only', X, y),\n",
    "        ('Corrupt X, Small Deviants', X_errors, y),\n",
    "        ('Corrupt y, Small Deviants', X, y_errors),\n",
    "        ('Corrupt X, Large Deviants', X_errors_large, y),\n",
    "        ('Corrupt y, Large Deviants', X, y_errors_large)]:\n",
    "    plt.figure(figsize=(5, 4))\n",
    "    plt.plot(this_X[:, 0], this_y, 'b+')\n",
    "\n",
    "    for name, estimator in estimators:\n",
    "        model = make_pipeline(PolynomialFeatures(3), estimator)\n",
    "        model.fit(this_X, this_y)\n",
    "        mse = mean_squared_error(model.predict(X_test), y_test)\n",
    "        y_plot = model.predict(x_plot[:, np.newaxis])\n",
    "        plt.plot(x_plot, y_plot, color=colors[name], linestyle=linestyle[name],\n",
    "                 linewidth=lw, label='%s: error = %.3f' % (name, mse))\n",
    "\n",
    "    legend_title = 'Error of Mean\\nAbsolute Deviation\\nto Non-corrupt Data'\n",
    "    legend = plt.legend(loc='upper right', frameon=False, title=legend_title,\n",
    "                        prop=dict(size='x-small'))\n",
    "    plt.xlim(-4, 10.2)\n",
    "    plt.ylim(-2, 10.2)\n",
    "    plt.title(title)\n",
    "plt.show()"
   ]
  }
 ],
 "metadata": {
  "kernelspec": {
   "display_name": "Python 2",
   "language": "python",
   "name": "python2"
  },
  "language_info": {
   "codemirror_mode": {
    "name": "ipython",
    "version": 2
   },
   "file_extension": ".py",
   "mimetype": "text/x-python",
   "name": "python",
   "nbconvert_exporter": "python",
   "pygments_lexer": "ipython2",
   "version": "2.7.12"
  }
 },
 "nbformat": 4,
 "nbformat_minor": 2
}
