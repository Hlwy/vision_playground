{
 "cells": [
  {
   "cell_type": "code",
   "execution_count": 1,
   "metadata": {},
   "outputs": [],
   "source": [
    "%matplotlib qt5\n",
    "%load_ext autoreload\n",
    "%autoreload 2\n",
    "import os, sys, fnmatch\n",
    "import cv2, time\n",
    "import numpy as np\n",
    "import argparse, pprint\n",
    "\n",
    "\n",
    "from matplotlib import pyplot as plt\n",
    "import matplotlib\n",
    "from matplotlib.ticker import NullFormatter\n",
    "from matplotlib.transforms import Bbox\n",
    "import matplotlib.gridspec as gridspec\n",
    "\n",
    "import ipywidgets as widgets\n",
    "from IPython.display import display\n",
    "from ipywidgets import interact, interactive, IntSlider, Layout, interact_manual,interact, HBox, Layout,VBox\n",
    "\n",
    "pp = pprint.PrettyPrinter(indent=4)\n",
    "homeDir = os.path.abspath('')\n",
    "\n",
    "from src.UVMappingPipeline import UVMappingPipeline\n",
    "from src.VBOATS import VBOATS\n",
    "from utils.sys_utils import *\n",
    "from utils.seg_utils import *\n",
    "from utils.uv_mapping_utils import *"
   ]
  },
  {
   "cell_type": "code",
   "execution_count": 2,
   "metadata": {},
   "outputs": [],
   "source": [
    "pipe = UVMappingPipeline()\n",
    "vboat = VBOATS()"
   ]
  },
  {
   "cell_type": "code",
   "execution_count": null,
   "metadata": {},
   "outputs": [],
   "source": [
    "# tdir = \"/home/hunter/data/images/obstacles\"\n",
    "tdir = \"/home/hunter/data/images/test_cases\"\n",
    "# tdir = \"/home/hyoung/data/images/obstacles\"\n",
    "# tdir = homeDir + \"/test/iai/obstacles\"\n",
    "\n",
    "found_imgs, _ = grab_dir_images(tdir)"
   ]
  },
  {
   "cell_type": "code",
   "execution_count": null,
   "metadata": {
    "scrolled": false
   },
   "outputs": [],
   "source": [
    "%reload_ext autoreload\n",
    "plt.close('all')\n",
    "\n",
    "p = interactive(pipe.pipeline,\n",
    "    _img = widgets.Select(\n",
    "                        options=sorted(found_imgs),\n",
    "                        value=str(sorted(found_imgs)[0]),\n",
    "                        description='File:',\n",
    "                        layout=Layout(width='100%')\n",
    "                    ),\n",
    "    line_method = {'Standard Hough Transform':0,'Probabilistic Hough Transform':1},\n",
    "    input_method = {'Classic Thresholded':0,'Morphed Thresholded':1,'Canny Edges':2},\n",
    "    e1 = (1,255,1), e2 = (1,255,1),\n",
    "    ang = (0,360,1), rho = (1,1000,1),\n",
    "    minLineLength = (0,255,1), maxLineGap = (0,255,1),\n",
    "    houghThresh = (0,255,1), greyThreshU = (0,255,1), greyThreshV = (0,255,1), cnt_thresh = (0,5000,100),\n",
    "    show_helpers = True, use_umap = True, flip_thresh_bin = False, norm_grey_thresh = (0.0,1.0,0.01)\n",
    ")\n",
    "\n",
    "\n",
    "row1 = HBox([p.children[0]])\n",
    "row2 = HBox([p.children[1], p.children[2]], layout = Layout(flex_flow='row wrap'))\n",
    "row3 = HBox([p.children[3], p.children[4], p.children[9]], layout = Layout(flex_flow='row wrap'))\n",
    "row4 = HBox([p.children[5], p.children[6], p.children[7], p.children[8]], layout = Layout(display='flex',flex_flow='row'))\n",
    "\n",
    "row5 = HBox([p.children[10], p.children[11], p.children[12], ], layout = Layout(flex_flow='row wrap'))\n",
    "row6 = HBox([p.children[16]], layout = Layout(flex_flow='row wrap'))\n",
    "row7 = HBox([p.children[13], p.children[14], p.children[15]], layout = Layout(flex_flow='row wrap'))\n",
    "controls = VBox([row1,row2,row3,row4,row5,row6,row7], layout = Layout(display='flex'))\n",
    "output = p.children[-1]\n",
    "display(VBox([controls, output]))"
   ]
  },
  {
   "cell_type": "code",
   "execution_count": null,
   "metadata": {},
   "outputs": [],
   "source": []
  },
  {
   "cell_type": "code",
   "execution_count": null,
   "metadata": {},
   "outputs": [],
   "source": [
    "tmp1 = np.copy(pipe.vmap); tmp0 = cv2.cvtColor(tmp1,cv2.COLOR_GRAY2BGR)\n",
    "\n",
    "normImg = (tmp1 - np.mean(tmp1))/np.std(tmp1)\n",
    "\n",
    "dmax_norm = np.max(normImg)\n",
    "dmin_norm = np.min(normImg)\n",
    "test = cv2.normalize(normImg,None,0,1,cv2.NORM_MINMAX)\n",
    "m = 255.0/(dmax_norm-dmin_norm)\n",
    "print(dmin_norm,dmax_norm,m)\n",
    "tmp = cv2.convertScaleAbs(test, test)#, m)#,np.mean(tmp))\n",
    "print(np.min(tmp),np.max(tmp),np.mean(tmp))\n",
    "\n",
    "fig1 = plt.figure(6)\n",
    "fig1.canvas.set_window_title('Custom Filter Input')\n",
    "plt.imshow(pipe.vmap,cmap='gray')\n",
    "plt.show()\n",
    "\n",
    "iters = 3; kSz = (1,6)\n",
    "thresh = [5, 10, 20, 30]\n",
    "filters = [cv2.THRESH_BINARY,cv2.THRESH_BINARY_INV,cv2.THRESH_TRUNC+cv2.THRESH_BINARY_INV,cv2.THRESH_TOZERO]\n",
    "kernelC = cv2.getStructuringElement(cv2.MORPH_CROSS,kSz)\n",
    "kernelE = cv2.getStructuringElement(cv2.MORPH_RECT,(1,15))\n",
    "\n",
    "_, grey = cv2.threshold(tmp1,5,255,filters[0])#+cv2.THRESH_TRUNC)\n",
    "\n",
    "# gradient = cv2.morphologyEx(grey, cv2.MORPH_CLOSE, kSz)\n",
    "gradient = cv2.morphologyEx(grey, cv2.MORPH_OPEN, kSz)\n",
    "\n",
    "# tmpKernel = cv2.getStructuringElement(cv2.MORPH_ELLIPSE,kSz)\n",
    "tmpKernel = cv2.getStructuringElement(cv2.MORPH_RECT,kSz)\n",
    "\n",
    "gradient2 = cv2.erode(tmp0,kernelE,iterations = 1)\n",
    "gradient2 = cv2.dilate(gradient2,tmpKernel,iterations = 1)\n",
    "# preMorph = cv2.erode(grey,kernelE,iterations = 3)\n",
    "# preMorph = cv2.dilate(grey,tmpKernel,iterations = 3)\n",
    "\n",
    "\n",
    "# # morph = cv2.morphologyEx(grey,cv2.MORPH_CLOSE,(1,2), iterations = 2)\n",
    "# morph = cv2.morphologyEx(grey,cv2.MORPH_OPEN,(2,3), iterations = 1)\n",
    "\n",
    "# _,preMorph = cv2.threshold(preMorph,1,255,cv2.THRESH_BINARY_INV)\n",
    "# tmpKernel = cv2.getStructuringElement(cv2.MORPH_RECT,(3,15))\n",
    "# preMorph = cv2.dilate(preMorph,tmpKernel,iterations = 3)\n",
    "# tmpKernel = cv2.getStructuringElement(cv2.MORPH_RECT,(10,3))\n",
    "# preMorph = cv2.erode(preMorph,kernelE,iterations = 2)\n",
    "# print(preMorph.shape)\n",
    "\n",
    "# mask = cv2.cvtColor(preMorph,cv2.COLOR_BGR2GRAY)\n",
    "# res = cv2.bitwise_and(tmp,tmp, mask=mask)\n",
    "_, res = cv2.threshold(gradient2,5,255,cv2.THRESH_BINARY)\n",
    "\n",
    "out = res\n",
    "\n",
    "fig2 = plt.figure(7)\n",
    "fig2.canvas.set_window_title('Custom Filter Output')\n",
    "plt.imshow(out,cmap='gray')\n",
    "plt.show()"
   ]
  },
  {
   "cell_type": "code",
   "execution_count": null,
   "metadata": {},
   "outputs": [],
   "source": [
    "print(\"\"\"\n",
    "POTENTIALLY GOOD VMAP FILTERING\n",
    "\"\"\")\n",
    "\n",
    "tmp1 = np.copy(pipe.vmap); tmp0 = cv2.cvtColor(tmp1,cv2.COLOR_GRAY2BGR)\n",
    "\n",
    "kSz = (1,6)\n",
    "kernelE = cv2.getStructuringElement(cv2.MORPH_RECT,(1,15))\n",
    "_, grey = cv2.threshold(tmp1,5,255,cv2.THRESH_BINARY)\n",
    "\n",
    "gradient = cv2.morphologyEx(grey, cv2.MORPH_OPEN, kSz)\n",
    "tmpKernel = cv2.getStructuringElement(cv2.MORPH_ELLIPSE,kSz)\n",
    "\n",
    "gradient2 = cv2.erode(tmp0,kernelE,iterations = 1)\n",
    "gradient2 = cv2.dilate(gradient2,tmpKernel,iterations = 1)\n",
    "_, res = cv2.threshold(gradient2,5,255,cv2.THRESH_BINARY)\n",
    "\n",
    "out = res"
   ]
  },
  {
   "cell_type": "code",
   "execution_count": null,
   "metadata": {},
   "outputs": [],
   "source": []
  },
  {
   "cell_type": "code",
   "execution_count": null,
   "metadata": {},
   "outputs": [],
   "source": [
    "# print(pipe.disparityBounds[obsId],pipe.xBounds[obsId])\n",
    "\n",
    "tmp = np.copy(pipe.greyV)\n",
    "tmp2 = np.copy(pipe.img)\n",
    "tmp2 = cv2.cvtColor(tmp2,cv2.COLOR_GRAY2BGR)\n",
    "nObs = len(pipe.disparityBounds)\n",
    "print(nObs)\n",
    "b = 2; d = np.ceil(nObs / float(b))\n",
    "\n",
    "plt.close(7)\n",
    "fig, axes = plt.subplots(nrows=b, ncols=int(d), num=7)\n",
    "obstacleImgs = []\n",
    "for i in range(nObs):\n",
    "    tmp2 = np.copy(pipe.img)\n",
    "    tmp2 = cv2.cvtColor(tmp2,cv2.COLOR_GRAY2BGR)\n",
    "    try:\n",
    "        xs = pipe.xBounds[i]\n",
    "        ys,disp = pipe.find_obstacles(tmp,pipe.disparityBounds[i], _threshold=30, lower_threshold=1, verbose = True)\n",
    "        cv2.rectangle(tmp2,(xs[0],ys[0]),(xs[1],ys[-1]),(150,0,0),1)\n",
    "    except:\n",
    "        pass\n",
    "    fig.axes[i].imshow(disp)\n",
    "    obstacleImgs.append(tmp2)\n",
    "plt.show()"
   ]
  },
  {
   "cell_type": "code",
   "execution_count": null,
   "metadata": {},
   "outputs": [],
   "source": []
  },
  {
   "cell_type": "code",
   "execution_count": null,
   "metadata": {},
   "outputs": [],
   "source": []
  },
  {
   "cell_type": "code",
   "execution_count": null,
   "metadata": {
    "scrolled": true
   },
   "outputs": [],
   "source": [
    "im = np.copy(pipe.img)\n",
    "norm = (im - np.mean(im))/np.std(im)\n",
    "h, w = norm.shape[:2]\n",
    "\n",
    "umapOrig, vmapOrig,_ = pipe.get_uv_map(im,get_overlay=False)\n",
    "\n",
    "plt.figure(0)\n",
    "plt.imshow(im, cmap='gray')\n",
    "plt.show()\n",
    "plt.figure(1)\n",
    "plt.imshow(norm, cmap='gray')\n",
    "plt.show()"
   ]
  },
  {
   "cell_type": "code",
   "execution_count": null,
   "metadata": {},
   "outputs": [],
   "source": []
  },
  {
   "cell_type": "code",
   "execution_count": null,
   "metadata": {},
   "outputs": [],
   "source": []
  },
  {
   "cell_type": "code",
   "execution_count": null,
   "metadata": {},
   "outputs": [],
   "source": []
  },
  {
   "cell_type": "code",
   "execution_count": null,
   "metadata": {},
   "outputs": [],
   "source": []
  },
  {
   "cell_type": "code",
   "execution_count": null,
   "metadata": {},
   "outputs": [],
   "source": []
  },
  {
   "cell_type": "code",
   "execution_count": 6,
   "metadata": {},
   "outputs": [],
   "source": [
    "# tdir = \"/home/hyoung/devel/vision_playground/test/iai/obstacles\"\n",
    "# tdir = \"/home/hunter/data/images/test_cases\"\n",
    "tdir = \"/home/hyoung/Documents/rosbags/extracted/depth\""
   ]
  },
  {
   "cell_type": "code",
   "execution_count": 7,
   "metadata": {},
   "outputs": [
    {
     "data": {
      "application/vnd.jupyter.widget-view+json": {
       "model_id": "4f377e5b3ff04702bb46749bdaeff1bd",
       "version_major": 2,
       "version_minor": 0
      },
      "text/plain": [
       "U2VsZWN0KGRlc2NyaXB0aW9uPXUnRmlsZTonLCBsYXlvdXQ9TGF5b3V0KHdpZHRoPXUnMTAwJScpLCBvcHRpb25zPSgnL2hvbWUvaHlvdW5nL0RvY3VtZW50cy9yb3NiYWdzL2V4dHJhY3RlZC/igKY=\n"
      ]
     },
     "metadata": {},
     "output_type": "display_data"
    }
   ],
   "source": [
    "found_imgs, _ = grab_dir_images(tdir)\n",
    "_imgs = widgets.Select(\n",
    "                        options=sorted(found_imgs),\n",
    "                        value=str(sorted(found_imgs)[0]),\n",
    "                        description='File:',\n",
    "                        layout=Layout(width='100%')\n",
    "                    )\n",
    "\n",
    "display(_imgs)"
   ]
  },
  {
   "cell_type": "code",
   "execution_count": 9,
   "metadata": {},
   "outputs": [],
   "source": [
    "testimg = cv2.imread(_imgs.value, cv2.IMREAD_GRAYSCALE)\n",
    "plt.figure(1)\n",
    "plt.imshow(testimg)\n",
    "plt.show()"
   ]
  },
  {
   "cell_type": "code",
   "execution_count": 10,
   "metadata": {
    "scrolled": true
   },
   "outputs": [
    {
     "name": "stdout",
     "output_type": "stream",
     "text": [
      "------------------------------------\r\n",
      "[U-Mapping] Input Image (480 x 640):\r\n",
      "------------------------------------\n",
      "   * Un-Normalized Disparity Limits      = (0, 255)\n",
      "   * Normalized Disparity Limits         = (-0.500, 4.415)\n",
      "   * U-Map Disparity Limits              = (0.000, 254.000)\n",
      "   * Un-Normalized Statistics   (μ, std) = (25.951, 51.875)\n",
      "   * Normalized Statistics      (μ, std) = (-0.000, 1.000)\n",
      "   * U-Map Statistics           (μ, std) = (1.882, 12.522)\n"
     ]
    },
    {
     "ename": "ValueError",
     "evalue": "autodetected range of [nan, nan] is not finite",
     "output_type": "error",
     "traceback": [
      "\u001b[0;31m---------------------------------------------------------------------------\u001b[0m",
      "\u001b[0;31mValueError\u001b[0m                                Traceback (most recent call last)",
      "\u001b[0;32m<ipython-input-10-1c6700b3c012>\u001b[0m in \u001b[0;36m<module>\u001b[0;34m()\u001b[0m\n\u001b[1;32m     11\u001b[0m \u001b[0;34m\u001b[0m\u001b[0m\n\u001b[1;32m     12\u001b[0m \u001b[0mumap1\u001b[0m\u001b[0;34m,\u001b[0m \u001b[0mvmap1\u001b[0m\u001b[0;34m,\u001b[0m\u001b[0m_\u001b[0m \u001b[0;34m=\u001b[0m \u001b[0mget_uv_map\u001b[0m\u001b[0;34m(\u001b[0m\u001b[0mimg\u001b[0m\u001b[0;34m)\u001b[0m\u001b[0;34m\u001b[0m\u001b[0m\n\u001b[0;32m---> 13\u001b[0;31m \u001b[0mumap2\u001b[0m \u001b[0;34m=\u001b[0m \u001b[0mumapping\u001b[0m\u001b[0;34m(\u001b[0m\u001b[0mimg\u001b[0m\u001b[0;34m)\u001b[0m\u001b[0;34m;\u001b[0m              \u001b[0mvmap2\u001b[0m \u001b[0;34m=\u001b[0m \u001b[0mvmapping\u001b[0m\u001b[0;34m(\u001b[0m\u001b[0mimg\u001b[0m\u001b[0;34m)\u001b[0m\u001b[0;34m;\u001b[0m               \u001b[0moverlay\u001b[0m \u001b[0;34m=\u001b[0m \u001b[0mmake_uv_overlay\u001b[0m\u001b[0;34m(\u001b[0m\u001b[0mimg\u001b[0m\u001b[0;34m,\u001b[0m\u001b[0mumap2\u001b[0m\u001b[0;34m,\u001b[0m\u001b[0mvmap2\u001b[0m\u001b[0;34m)\u001b[0m\u001b[0;34m\u001b[0m\u001b[0m\n\u001b[0m\u001b[1;32m     14\u001b[0m \u001b[0mh\u001b[0m\u001b[0;34m,\u001b[0m\u001b[0mw\u001b[0m \u001b[0;34m=\u001b[0m \u001b[0mumap1\u001b[0m\u001b[0;34m.\u001b[0m\u001b[0mshape\u001b[0m\u001b[0;34m[\u001b[0m\u001b[0;34m:\u001b[0m\u001b[0;36m2\u001b[0m\u001b[0;34m]\u001b[0m\u001b[0;34m\u001b[0m\u001b[0m\n\u001b[1;32m     15\u001b[0m \u001b[0;34m\u001b[0m\u001b[0m\n",
      "\u001b[0;32m/home/hyoung/devel/vision_playground/utils/uv_mapping_utils.pyc\u001b[0m in \u001b[0;36mvmapping\u001b[0;34m(_img, nBins, use_normalized, use_alternate_mapping, mask_deadzones, deadzone, verbose)\u001b[0m\n\u001b[1;32m    110\u001b[0m             \u001b[0mds\u001b[0m \u001b[0;34m=\u001b[0m \u001b[0mnp\u001b[0m\u001b[0;34m.\u001b[0m\u001b[0mlinspace\u001b[0m\u001b[0;34m(\u001b[0m\u001b[0mdminN\u001b[0m\u001b[0;34m,\u001b[0m \u001b[0mdmaxN\u001b[0m\u001b[0;34m,\u001b[0m\u001b[0mnBins\u001b[0m\u001b[0;34m+\u001b[0m\u001b[0;36m1\u001b[0m\u001b[0;34m)\u001b[0m\u001b[0;34m\u001b[0m\u001b[0m\n\u001b[1;32m    111\u001b[0m             \u001b[0;31m# vcol, edges = np.histogram(data,nBins,(dminN,dmaxN))#,ds,(dmin,dmax))\u001b[0m\u001b[0;34m\u001b[0m\u001b[0;34m\u001b[0m\u001b[0m\n\u001b[0;32m--> 112\u001b[0;31m             \u001b[0mvcol\u001b[0m\u001b[0;34m,\u001b[0m \u001b[0medges\u001b[0m \u001b[0;34m=\u001b[0m \u001b[0mnp\u001b[0m\u001b[0;34m.\u001b[0m\u001b[0mhistogram\u001b[0m\u001b[0;34m(\u001b[0m\u001b[0mdata\u001b[0m\u001b[0;34m,\u001b[0m\u001b[0mnBins\u001b[0m\u001b[0;34m)\u001b[0m\u001b[0;34m\u001b[0m\u001b[0m\n\u001b[0m\u001b[1;32m    113\u001b[0m         \u001b[0;32melse\u001b[0m\u001b[0;34m:\u001b[0m\u001b[0;34m\u001b[0m\u001b[0m\n\u001b[1;32m    114\u001b[0m             \u001b[0mvcol\u001b[0m\u001b[0;34m,\u001b[0m \u001b[0medges\u001b[0m \u001b[0;34m=\u001b[0m \u001b[0mnp\u001b[0m\u001b[0;34m.\u001b[0m\u001b[0mhistogram\u001b[0m\u001b[0;34m(\u001b[0m\u001b[0mdata\u001b[0m\u001b[0;34m,\u001b[0m\u001b[0mnBins\u001b[0m\u001b[0;34m,\u001b[0m \u001b[0mdLims\u001b[0m\u001b[0;34m)\u001b[0m\u001b[0;34m\u001b[0m\u001b[0m\n",
      "\u001b[0;32m/usr/local/lib/python2.7/dist-packages/numpy/lib/histograms.pyc\u001b[0m in \u001b[0;36mhistogram\u001b[0;34m(a, bins, range, normed, weights, density)\u001b[0m\n\u001b[1;32m    708\u001b[0m     \u001b[0ma\u001b[0m\u001b[0;34m,\u001b[0m \u001b[0mweights\u001b[0m \u001b[0;34m=\u001b[0m \u001b[0m_ravel_and_check_weights\u001b[0m\u001b[0;34m(\u001b[0m\u001b[0ma\u001b[0m\u001b[0;34m,\u001b[0m \u001b[0mweights\u001b[0m\u001b[0;34m)\u001b[0m\u001b[0;34m\u001b[0m\u001b[0m\n\u001b[1;32m    709\u001b[0m \u001b[0;34m\u001b[0m\u001b[0m\n\u001b[0;32m--> 710\u001b[0;31m     \u001b[0mbin_edges\u001b[0m\u001b[0;34m,\u001b[0m \u001b[0muniform_bins\u001b[0m \u001b[0;34m=\u001b[0m \u001b[0m_get_bin_edges\u001b[0m\u001b[0;34m(\u001b[0m\u001b[0ma\u001b[0m\u001b[0;34m,\u001b[0m \u001b[0mbins\u001b[0m\u001b[0;34m,\u001b[0m \u001b[0mrange\u001b[0m\u001b[0;34m,\u001b[0m \u001b[0mweights\u001b[0m\u001b[0;34m)\u001b[0m\u001b[0;34m\u001b[0m\u001b[0m\n\u001b[0m\u001b[1;32m    711\u001b[0m \u001b[0;34m\u001b[0m\u001b[0m\n\u001b[1;32m    712\u001b[0m     \u001b[0;31m# Histogram is an integer or a float array depending on the weights.\u001b[0m\u001b[0;34m\u001b[0m\u001b[0;34m\u001b[0m\u001b[0m\n",
      "\u001b[0;32m/usr/local/lib/python2.7/dist-packages/numpy/lib/histograms.pyc\u001b[0m in \u001b[0;36m_get_bin_edges\u001b[0;34m(a, bins, range, weights)\u001b[0m\n\u001b[1;32m    361\u001b[0m             \u001b[0;32mraise\u001b[0m \u001b[0mValueError\u001b[0m\u001b[0;34m(\u001b[0m\u001b[0;34m'`bins` must be positive, when an integer'\u001b[0m\u001b[0;34m)\u001b[0m\u001b[0;34m\u001b[0m\u001b[0m\n\u001b[1;32m    362\u001b[0m \u001b[0;34m\u001b[0m\u001b[0m\n\u001b[0;32m--> 363\u001b[0;31m         \u001b[0mfirst_edge\u001b[0m\u001b[0;34m,\u001b[0m \u001b[0mlast_edge\u001b[0m \u001b[0;34m=\u001b[0m \u001b[0m_get_outer_edges\u001b[0m\u001b[0;34m(\u001b[0m\u001b[0ma\u001b[0m\u001b[0;34m,\u001b[0m \u001b[0mrange\u001b[0m\u001b[0;34m)\u001b[0m\u001b[0;34m\u001b[0m\u001b[0m\n\u001b[0m\u001b[1;32m    364\u001b[0m \u001b[0;34m\u001b[0m\u001b[0m\n\u001b[1;32m    365\u001b[0m     \u001b[0;32melif\u001b[0m \u001b[0mnp\u001b[0m\u001b[0;34m.\u001b[0m\u001b[0mndim\u001b[0m\u001b[0;34m(\u001b[0m\u001b[0mbins\u001b[0m\u001b[0;34m)\u001b[0m \u001b[0;34m==\u001b[0m \u001b[0;36m1\u001b[0m\u001b[0;34m:\u001b[0m\u001b[0;34m\u001b[0m\u001b[0m\n",
      "\u001b[0;32m/usr/local/lib/python2.7/dist-packages/numpy/lib/histograms.pyc\u001b[0m in \u001b[0;36m_get_outer_edges\u001b[0;34m(a, range)\u001b[0m\n\u001b[1;32m    259\u001b[0m         \u001b[0;32mif\u001b[0m \u001b[0;32mnot\u001b[0m \u001b[0;34m(\u001b[0m\u001b[0mnp\u001b[0m\u001b[0;34m.\u001b[0m\u001b[0misfinite\u001b[0m\u001b[0;34m(\u001b[0m\u001b[0mfirst_edge\u001b[0m\u001b[0;34m)\u001b[0m \u001b[0;32mand\u001b[0m \u001b[0mnp\u001b[0m\u001b[0;34m.\u001b[0m\u001b[0misfinite\u001b[0m\u001b[0;34m(\u001b[0m\u001b[0mlast_edge\u001b[0m\u001b[0;34m)\u001b[0m\u001b[0;34m)\u001b[0m\u001b[0;34m:\u001b[0m\u001b[0;34m\u001b[0m\u001b[0m\n\u001b[1;32m    260\u001b[0m             raise ValueError(\n\u001b[0;32m--> 261\u001b[0;31m                 \"autodetected range of [{}, {}] is not finite\".format(first_edge, last_edge))\n\u001b[0m\u001b[1;32m    262\u001b[0m \u001b[0;34m\u001b[0m\u001b[0m\n\u001b[1;32m    263\u001b[0m     \u001b[0;31m# expand empty range to avoid divide by zero\u001b[0m\u001b[0;34m\u001b[0m\u001b[0;34m\u001b[0m\u001b[0m\n",
      "\u001b[0;31mValueError\u001b[0m: autodetected range of [nan, nan] is not finite"
     ]
    }
   ],
   "source": [
    "from utils.uv_mapping_utils import *\n",
    "from utils.seg_utils import *\n",
    "\n",
    "_img = _imgs.value\n",
    "img = cv2.imread(_img, cv2.IMREAD_GRAYSCALE)\n",
    "\n",
    "kernelI = cv2.getStructuringElement(cv2.MORPH_RECT,(10,10))\n",
    "img = cv2.morphologyEx(img, cv2.MORPH_CLOSE, kernelI)\n",
    "\n",
    "# umap, vmapMasked, img, obs, nObs, pxls,vmap,mask, maskInv, dt = uv_pipeline(_img, flag_displays=True)\n",
    "\n",
    "umap1, vmap1,_ = get_uv_map(img)\n",
    "umap2 = umapping(img);              vmap2 = vmapping(img);               overlay = make_uv_overlay(img,umap2,vmap2)\n",
    "h,w = umap1.shape[:2]\n",
    "\n",
    "raw_umap = np.copy(umap1)\n",
    "\n",
    "# =================================================================================\n",
    "# =================================================================================\n",
    "# =================================================================================\n",
    "\n",
    "dead_y = 10\n",
    "deadzoneU = raw_umap[1:dead_y+1, :]\n",
    "blankStrip = np.zeros((h-dead_y,w),dtype=np.uint8)\n",
    "\n",
    "print(np.max(deadzoneU))\n",
    "_, deadzoneU = cv2.threshold(deadzoneU, 95, 255,cv2.THRESH_BINARY)\n",
    "cv2.rectangle(raw_umap,(0,0),(raw_umap.shape[1],dead_y),(0,0,0), cv2.FILLED)\n",
    "cv2.rectangle(raw_umap,(0,raw_umap.shape[0]-dead_y),(raw_umap.shape[1],raw_umap.shape[0]),(0,0,0), cv2.FILLED)\n",
    "\n",
    "\n",
    "deadzone_mask = np.concatenate((deadzoneU,blankStrip), axis=0)\n",
    "try: deadzone_mask = cv2.cvtColor(deadzone_mask, cv2.COLOR_GRAY2BGR)\n",
    "except: print(\"[WARNING] ------------  Unnecessary Deadzone Image Color Converting\")\n",
    "\n",
    "kernelD = cv2.getStructuringElement(cv2.MORPH_RECT,(50,5))\n",
    "deadzone_mask = cv2.morphologyEx(deadzone_mask, cv2.MORPH_CLOSE, kernelD)\n",
    "\n",
    "try: raw_umap = cv2.cvtColor(raw_umap, cv2.COLOR_GRAY2BGR)\n",
    "except: print(\"[WARNING] ------------  Unnecessary raw_umap Image Color Converting\")\n",
    "umap = cv2.addWeighted(raw_umap, 1.0, deadzone_mask, 1.0, 0)\n",
    "\n",
    "try: umap = cv2.cvtColor(umap, cv2.COLOR_BGR2GRAY)\n",
    "except: print(\"[WARNING] ------------  Unnecessary stripU1 Image Color Converting\")\n",
    "\n",
    "stripsU = strip_image(umap, nstrips=4, horizontal_strips=False)\n",
    "\n",
    "strips = np.copy(stripsU)\n",
    "print(stripsU.shape, strips.shape)\n",
    "\n",
    "# _, stripU1 = cv2.threshold(stripsU[0], 7, 255,cv2.THRESH_BINARY)\n",
    "# _, stripU2 = cv2.threshold(stripsU[1], 25, 255,cv2.THRESH_BINARY)\n",
    "# _, stripU3 = cv2.threshold(stripsU[2], 30, 255,cv2.THRESH_BINARY)\n",
    "# _, stripU4 = cv2.threshold(stripsU[3], 40, 255,cv2.THRESH_BINARY)\n",
    "\n",
    "\n",
    "# fig, axes = plt.subplots(1,4)\n",
    "# axes[0].imshow(stripsU[0])\n",
    "# axes[1].imshow(stripsU[1])\n",
    "# axes[2].imshow(stripsU[2])\n",
    "# axes[3].imshow(stripsU[3])\n",
    "# fig.show()\n",
    "\n",
    "color = (255,0,255)\n",
    "borderb = np.ones((1,w,3),dtype=np.uint8); borderb[:] = color\n",
    "borders = np.ones((h,1,3),dtype=np.uint8); borders[:] = color\n",
    "# newUdisp = np.concatenate((stripU1,borderb,stripU2,borderb,stripU3,borderb,stripU4), axis=0)\n",
    "# newUdisp = np.concatenate((stripU1,borders,stripU2,borders,stripU3,borders,stripU4), axis=1)\n",
    "\n",
    "\n",
    "# cv2.rectangle(raw_vmap,(0,0),(dead_x, raw_vmap.shape[0]),(0,0,0), cv2.FILLED)\n",
    "# cv2.rectangle(raw_vmap,(raw_vmap.shape[1]-dead_x,0),(raw_vmap.shape[1],raw_vmap.shape[0]),(0,0,0), cv2.FILLED)\n",
    "# newVdisp = np.concatenate((stripV1,borders,stripV2,borders,stripV3,borders,stripV4), axis=1)\n",
    "\n",
    "_, tmp = cv2.threshold(umap, 10, 255,cv2.THRESH_TOZERO)\n",
    "\n",
    "plt.figure(8)\n",
    "plt.imshow(img)\n",
    "plt.show()\n",
    "\n",
    "plt.figure(10)\n",
    "plt.imshow(umap)\n",
    "plt.show()\n",
    "\n",
    "plt.figure(11)\n",
    "plt.imshow(vmap1)\n",
    "plt.show()\n",
    "\n",
    "\n",
    "plt.figure(12)\n",
    "plt.imshow(umap2)\n",
    "plt.show()\n",
    "\n",
    "plt.figure(13)\n",
    "plt.imshow(vmap2)\n",
    "plt.show()"
   ]
  },
  {
   "cell_type": "code",
   "execution_count": null,
   "metadata": {},
   "outputs": [],
   "source": [
    "norm = (vmap1 - np.mean(vmap1))/ np.std(vmap1)\n",
    "\n",
    "plt.figure(14)\n",
    "plt.imshow(norm)\n",
    "plt.show()"
   ]
  },
  {
   "cell_type": "code",
   "execution_count": null,
   "metadata": {},
   "outputs": [],
   "source": [
    "h,w = vmap.shape[:2]\n",
    "# black = np.zeros((h,w,3),dtype=np.uint8)\n",
    "black = np.copy(vmap)\n",
    "black = cv2.cvtColor(black,cv2.COLOR_GRAY2BGR)\n",
    "\n",
    "print(pxls[-1,0],pxls)\n",
    "\n",
    "# ploty = np.linspace(pxls[0,1], pxls[-1,1])\n",
    "plotx = np.linspace(pxls[0,0], pxls[-1,0])\n",
    "try: # Try fitting polynomial nonzero data\n",
    "    fit = np.poly1d(np.polyfit(pxls[:,0],pxls[:,1], 2))\n",
    "    # Generate x and y values for plotting\n",
    "#     plotx = fit(ploty)\n",
    "    ploty = fit(plotx)\n",
    "except:\n",
    "    print(\"ERROR: Function 'polyfit' failed!\")\n",
    "    fit = [0, 0]; plotx = [0, 0]\n",
    "# xs = np.asarray(ploty,dtype=np.int32)\n",
    "# ys = np.asarray(plotx,dtype=np.int32)\n",
    "\n",
    "xs = np.asarray(plotx,dtype=np.int32)\n",
    "ys = np.asarray(ploty,dtype=np.int32)\n",
    "\n",
    "pts = np.vstack(([xs],[ys])).transpose()\n",
    "cv2.polylines(black, [pts], 0, (255,0,255),5)\n",
    "plt.figure(9)\n",
    "plt.imshow(black)\n",
    "# plt.plot(pxls[:,0],pxls[:,1])\n",
    "# plt.plot(ploty,-plotx)\n",
    "\n",
    "plt.show()"
   ]
  },
  {
   "cell_type": "code",
   "execution_count": null,
   "metadata": {
    "scrolled": true
   },
   "outputs": [],
   "source": []
  },
  {
   "cell_type": "code",
   "execution_count": null,
   "metadata": {
    "scrolled": true
   },
   "outputs": [],
   "source": []
  },
  {
   "cell_type": "code",
   "execution_count": null,
   "metadata": {},
   "outputs": [],
   "source": []
  },
  {
   "cell_type": "code",
   "execution_count": null,
   "metadata": {
    "scrolled": true
   },
   "outputs": [],
   "source": []
  },
  {
   "cell_type": "code",
   "execution_count": null,
   "metadata": {},
   "outputs": [],
   "source": []
  },
  {
   "cell_type": "code",
   "execution_count": 3,
   "metadata": {},
   "outputs": [],
   "source": [
    "def tester2(_img, e1=1, e2=5,tmpThresh=3,greyThreshU=7,greyThreshV=5,cnt_thresh=100.0,\n",
    "                 show_helpers=True,use_umap=True, flip_thresh_bin=True, norm_grey_thresh=0.5):\n",
    "    img = cv2.imread(_img, cv2.IMREAD_GRAYSCALE)\n",
    "    pipe.img = img\n",
    "    plt.figure(0)\n",
    "    plt.imshow(img)\n",
    "    plt.show()\n",
    "\n",
    "    if(flip_thresh_bin):\n",
    "        umap, vmap, overlay = pipe.get_uv_map(img, get_overlay=True)\n",
    "        dead_x = 2; dead_y = 10\n",
    "\n",
    "        cv2.rectangle(umap,(0,0),(umap.shape[1],dead_y),(0,0,0), cv2.FILLED)\n",
    "        cv2.rectangle(umap,(0,umap.shape[0]-dead_y),(umap.shape[1],umap.shape[0]),(0,0,0), cv2.FILLED)\n",
    "\n",
    "        cv2.rectangle(vmap,(0,0),(dead_x, vmap.shape[0]),(0,0,0), cv2.FILLED)\n",
    "        cv2.rectangle(vmap,(vmap.shape[1]-dead_x,0),(vmap.shape[1],vmap.shape[0]),(0,0,0), cv2.FILLED)\n",
    "    else:\n",
    "        umap = umapping(img)\n",
    "        vmap = vmapping(img)\n",
    "        overlay = make_uv_overlay(img,umap,vmap)\n",
    "\n",
    "\n",
    "    h,w = umap.shape[:2]\n",
    "    clone = np.copy(umap)\n",
    "#     cv2.rectangle(clone,(0,0),(w,10),(0,0,0), cv2.FILLED)\n",
    "#     cv2.rectangle(clone,(0,h-10),(w,h),(0,0,0), cv2.FILLED)\n",
    "    print(np.max(clone), np.min(clone))\n",
    "\n",
    "\n",
    "\n",
    "    _,tmp = cv2.threshold(clone,greyThreshU,np.max(clone),cv2.THRESH_BINARY)\n",
    "    opening = tmp\n",
    "#     _,tmp = cv2.threshold(clone,greyThreshU,np.max(clone),cv2.THRESH_TOZERO)\n",
    "\n",
    "#     cv2.rectangle(tmp,(0,0),(w,10),(0,0,0), cv2.FILLED)\n",
    "#     cv2.rectangle(tmp,(0,h-10),(w,h),(0,0,0), cv2.FILLED)\n",
    "\n",
    "    kernel = cv2.getStructuringElement(cv2.MORPH_RECT,(e1,e2))\n",
    "#     opening = cv2.morphologyEx(tmp, cv2.MORPH_CLOSE, kernel)\n",
    "#     _,opening = cv2.threshold(opening,tmpThresh,np.max(clone),cv2.THRESH_BINARY)\n",
    "\n",
    "    _,greyV = cv2.threshold(vmap,greyThreshV,np.max(vmap),cv2.THRESH_BINARY)\n",
    "\n",
    "    _, contours, hierarchy = cv2.findContours(opening,cv2.RETR_TREE,cv2.CHAIN_APPROX_SIMPLE)\n",
    "    areas = [cv2.contourArea(cnt) for cnt in contours]\n",
    "    perimeters = [cv2.arcLength(cnt,True) for cnt in contours]\n",
    "\n",
    "    filtered_cnts = [cnt for cnt in contours if cv2.arcLength(cnt,True) >= cnt_thresh]\n",
    "    filtered_perimeters = [cv2.arcLength(cnt,True) for cnt in filtered_cnts]\n",
    "    print(\"Filtered Contour Perimeters:\",filtered_perimeters)\n",
    "\n",
    "    display = cv2.cvtColor(opening, cv2.COLOR_GRAY2BGR)\n",
    "    for cnt in filtered_cnts:\n",
    "        cv2.drawContours(display, [cnt], 0, (255,0,0), 2)\n",
    "\n",
    "    cnts, limits, ellipses, pts, centers = pipe.extract_contour_x_bounds(filtered_cnts)\n",
    "\n",
    "    nObs = len(pipe.disparityBounds)\n",
    "    obsImgs = []\n",
    "    disp = np.copy(img)\n",
    "    display_obstacles = cv2.cvtColor(disp,cv2.COLOR_GRAY2BGR)\n",
    "\n",
    "    for i in range(nObs):\n",
    "        tmp = np.copy(img)\n",
    "        tmp = cv2.cvtColor(tmp,cv2.COLOR_GRAY2BGR)\n",
    "        try:\n",
    "            xs = pipe.xBounds[i]\n",
    "            ys,disp = pipe.find_obstacles(greyV,pipe.disparityBounds[i], _threshold=30, lower_threshold=1, verbose = True, display=greyV)\n",
    "            cv2.rectangle(tmp,(xs[0],ys[0]),(xs[1],ys[-1]),(150,0,0),1)\n",
    "            cv2.rectangle(display_obstacles,(xs[0],ys[0]),(xs[1],ys[-1]),(150,0,0),1)\n",
    "        except: pass\n",
    "        obsImgs.append(tmp)\n",
    "\n",
    "\n",
    "    plt.figure(1)\n",
    "    plt.imshow(opening)\n",
    "    plt.show()\n",
    "\n",
    "    plt.figure(2)\n",
    "    plt.imshow(overlay)\n",
    "    plt.show()\n",
    "\n",
    "    plt.figure(3)\n",
    "    plt.imshow(display)\n",
    "    plt.show()\n",
    "\n",
    "    plt.figure(4)\n",
    "    plt.imshow(display_obstacles)\n",
    "    plt.show()\n",
    "\n",
    "    plt.figure(6)\n",
    "    plt.imshow(greyV)\n",
    "    plt.show()"
   ]
  },
  {
   "cell_type": "code",
   "execution_count": 4,
   "metadata": {},
   "outputs": [],
   "source": [
    "vboat.dead_x = 0\n",
    "vboat.dead_y = 5"
   ]
  },
  {
   "cell_type": "code",
   "execution_count": 5,
   "metadata": {},
   "outputs": [],
   "source": [
    "def thresholding(_img, e1=1, e2=5,tmpThresh=70\n",
    "                 \n",
    "                 ,greyThreshU=7,greyThreshV=20,cnt_thresh=100.0,\n",
    "                 show_helpers=True,use_umap=True, flip_thresh_bin=True, norm_grey_thresh=0.5\n",
    "):\n",
    "    if(show_helpers):\n",
    "        vboat.pipeline(_img, threshU1=greyThreshU,threshU2=greyThreshV, threshV2=tmpThresh)\n",
    "        display_obstacles = cv2.cvtColor(vboat.img, cv2.COLOR_GRAY2BGR)\n",
    "\n",
    "        for ob in vboat.obstacles:\n",
    "            cv2.rectangle(display_obstacles,ob[0],ob[1],(150,0,0),1)\n",
    "        plt.figure(9)\n",
    "        plt.imshow(display_obstacles)\n",
    "        plt.show()\n",
    "    else:\n",
    "        tester2(_img,e1,e2,tmpThresh,greyThreshU,greyThreshV,cnt_thresh,show_helpers,use_umap,flip_thresh_bin, norm_grey_thresh)\n",
    "    \n",
    "        "
   ]
  },
  {
   "cell_type": "code",
   "execution_count": 6,
   "metadata": {
    "scrolled": true
   },
   "outputs": [
    {
     "data": {
      "application/vnd.jupyter.widget-view+json": {
       "model_id": "6373da2f77084483b82e5dea96c65454",
       "version_major": 2,
       "version_minor": 0
      },
      "text/plain": [
       "aW50ZXJhY3RpdmUoY2hpbGRyZW49KFNlbGVjdChkZXNjcmlwdGlvbj11J0ZpbGU6JywgbGF5b3V0PUxheW91dCh3aWR0aD11JzEwMCUnKSwgb3B0aW9ucz0oJy9ob21lL2h1bnRlci9kYXRhL3LigKY=\n"
      ]
     },
     "metadata": {},
     "output_type": "display_data"
    }
   ],
   "source": [
    "# found_imgs, _ = grab_dir_images(\"/home/hyoung/devel/vision_playground/test/iai/obstacles\")\n",
    "# found_imgs, _ = grab_dir_images(\"/home/hunter/data/images/test_cases\")\n",
    "# found_imgs, _ = grab_dir_images(\"/home/hunter/devel/vision_playground/test/frames\")\n",
    "# found_imgs, _ = grab_dir_images(\"/home/hyoung/Documents/rosbags/extracted/depth\")\n",
    "found_imgs, _ = grab_dir_images(\"/home/hunter/data/rosbags/extracted/depth\")\n",
    "ttt = interactive(thresholding,_img = widgets.Select(\n",
    "                        options=sorted(found_imgs),\n",
    "                        value=str(sorted(found_imgs)[0]),\n",
    "                        description='File:',\n",
    "                        layout=Layout(width='100%')\n",
    "                    ), e1 = (1,255,1), e2 = (1,255,1),\n",
    "    tmpThresh = (0,255,1), greyThreshU = (0.0,255.0,0.1), greyThreshV = (0,255,1), cnt_thresh = (0,5000,100),\n",
    "    show_helpers = True, use_umap = True, flip_thresh_bin = False, norm_grey_thresh = (0.0,1.0,0.01)\n",
    ")\n",
    "display(ttt)"
   ]
  },
  {
   "cell_type": "code",
   "execution_count": 14,
   "metadata": {},
   "outputs": [],
   "source": [
    "tImg = np.copy(vboat.img)\n",
    "\n",
    "plt.figure(0)\n",
    "plt.imshow(tImg)\n",
    "plt.show()\n",
    "\n",
    "plt.figure(1)\n",
    "plt.imshow(vboat.umap_raw)\n",
    "plt.show()\n",
    "\n",
    "# plt.figure(2)\n",
    "# plt.imshow(vboat.vmap_raw)\n",
    "# plt.show()\n",
    "\n",
    "\n",
    "\n",
    "raw_umap, raw_vmap, dt = vboat.get_uv_map(tImg)\n",
    "\n",
    "deadzoneU = raw_umap[1:5+1, :]\n",
    "_, deadzoneU = cv2.threshold(deadzoneU, 95, 255,cv2.THRESH_BINARY)\n",
    "\n",
    "\n",
    "\n",
    "cv2.rectangle(raw_umap,(0,0),(raw_umap.shape[1],vboat.dead_y),(0,0,0), cv2.FILLED)\n",
    "cv2.rectangle(raw_umap,(0,raw_umap.shape[0]-vboat.dead_y),(raw_umap.shape[1],raw_umap.shape[0]),(0,0,0), cv2.FILLED)\n",
    "cv2.rectangle(raw_vmap,(0,0),(vboat.dead_x, raw_vmap.shape[0]),(0,0,0), cv2.FILLED)\n",
    "cv2.rectangle(raw_vmap,(raw_vmap.shape[1]-vboat.dead_x,0),(raw_vmap.shape[1],raw_vmap.shape[0]),(0,0,0), cv2.FILLED)\n",
    "\n",
    "\n",
    "_, stripU1 = cv2.threshold(vboat.stripsU_raw[0], 7, 255,cv2.THRESH_BINARY)\n",
    "_, stripU2 = cv2.threshold(vboat.stripsU_raw[1], 20, 255,cv2.THRESH_BINARY)\n",
    "_, stripU3 = cv2.threshold(vboat.stripsU_raw[2], 30, 255,cv2.THRESH_BINARY)\n",
    "_, stripU4 = cv2.threshold(vboat.stripsU_raw[3], 40, 255,cv2.THRESH_BINARY)\n",
    "_, stripU5 = cv2.threshold(vboat.stripsU_raw[4], 40, 255,cv2.THRESH_BINARY)\n",
    "_, stripU6 = cv2.threshold(vboat.stripsU_raw[5], 40, 255,cv2.THRESH_BINARY)\n",
    "\n",
    "plt.figure(4)\n",
    "plt.imshow(stripU1)\n",
    "plt.show()\n",
    "\n",
    "kernel = cv2.getStructuringElement(cv2.MORPH_RECT,(10,2))\n",
    "stripU1 = cv2.morphologyEx(stripU1, cv2.MORPH_CLOSE, kernel)\n",
    "stripU2 = cv2.morphologyEx(stripU2, cv2.MORPH_CLOSE, kernel)\n",
    "stripU3 = cv2.morphologyEx(stripU3, cv2.MORPH_OPEN, kernel)\n",
    "\n",
    "hUs = vboat.stripsU_raw[0].shape[0]\n",
    "blankStrip = np.zeros((hUs-vboat.dead_y,vboat.w),dtype=np.uint8)\n",
    "deadzone_mask = np.concatenate((deadzoneU,blankStrip), axis=0)\n",
    "try: deadzone_mask = cv2.cvtColor(deadzone_mask, cv2.COLOR_GRAY2BGR)\n",
    "except: print(\"[WARNING] ------------  Unnecessary Deadzone Image Color Converting\")\n",
    "\n",
    "kernelD = cv2.getStructuringElement(cv2.MORPH_RECT,(50,5))\n",
    "deadzone_mask = cv2.morphologyEx(deadzone_mask, cv2.MORPH_CLOSE, kernelD)\n",
    "\n",
    "\n",
    "    \n",
    "stripU1 = cv2.addWeighted(stripU1, 1.0, deadzone_mask, 1.0, 0)\n",
    "   \n",
    "umap = np.concatenate((stripU1,stripU2,stripU3,stripU4,stripU5,stripU6), axis=0)\n",
    "\n",
    "\n",
    "\n",
    "\n",
    "# plt.figure(3)\n",
    "# plt.imshow(raw_vmap)\n",
    "# plt.show()\n",
    "\n",
    "\n",
    "\n",
    "\n",
    "\n",
    "\n",
    "\n",
    "\n"
   ]
  },
  {
   "cell_type": "code",
   "execution_count": null,
   "metadata": {},
   "outputs": [],
   "source": []
  },
  {
   "cell_type": "code",
   "execution_count": 11,
   "metadata": {},
   "outputs": [],
   "source": [
    "dispU1,dispU2,compU = vboat.umap_displays()\n",
    "dispV1,dispV2,compV = vboat.vmap_displays()\n",
    "\n",
    "plt.figure(6)\n",
    "plt.imshow(vboat.img)\n",
    "plt.show()\n",
    "\n",
    "plt.figure(0)\n",
    "plt.imshow(dispU1)\n",
    "plt.show()\n",
    "\n",
    "plt.figure(1)\n",
    "plt.imshow(dispU2)\n",
    "plt.show()\n",
    "\n",
    "# plt.figure(2)\n",
    "# plt.imshow(compU)\n",
    "# plt.show()\n",
    "\n",
    "plt.figure(3)\n",
    "plt.imshow(dispV1)\n",
    "plt.show()\n",
    "\n",
    "plt.figure(4)\n",
    "plt.imshow(dispV2)\n",
    "plt.show()\n",
    "\n",
    "# plt.figure(5)\n",
    "# plt.imshow(compV)\n",
    "# plt.show()"
   ]
  },
  {
   "cell_type": "code",
   "execution_count": null,
   "metadata": {},
   "outputs": [],
   "source": [
    "disp = np.copy(vboat.umap_raw)\n",
    "col = cv2.cvtColor(disp,cv2.COLOR_GRAY2BGR)\n",
    "col = cv2.cvtColor(col,cv2.COLOR_BGR2Luv)\n",
    "\n",
    "plt.figure(1)\n",
    "plt.imshow(col)\n",
    "plt.show()"
   ]
  },
  {
   "cell_type": "code",
   "execution_count": 68,
   "metadata": {},
   "outputs": [],
   "source": [
    "ellipses = []\n",
    "disp = np.copy(vboat.umap_processed)\n",
    "disp = cv2.cvtColor(disp,cv2.COLOR_GRAY2BGR)\n",
    "for cnt in vboat.filtered_contours:\n",
    "    ellipse = cv2.fitEllipse(cnt)\n",
    "    ellipses.append(ellipse)\n",
    "    cv2.ellipse(disp,ellipse,(0,255,255),1)\n",
    "    \n",
    "plt.figure(1)\n",
    "plt.imshow(disp)\n",
    "plt.show()"
   ]
  },
  {
   "cell_type": "code",
   "execution_count": 69,
   "metadata": {},
   "outputs": [
    {
     "name": "stdout",
     "output_type": "stream",
     "text": [
      "[(443, 240), (559, 280)]\n",
      "(443, 559)\n",
      "(562, 240)\n",
      "(281, 160)\n",
      "[[501, 260, 116, 40], [281, 160, 562, 240]]\n",
      "2\n"
     ]
    }
   ],
   "source": [
    "img = np.copy(vboat.img)\n",
    "print(vboat.obstacles[0])\n",
    "win = vboat.obstacles[0]\n",
    "print(win[0][0], win[1][0])\n",
    "\n",
    "rectsTypeA = [] # x0, y0, x1, y1\n",
    "rectsTypeB = [] # x, y, w, h\n",
    "for win in vboat.obstacles:\n",
    "    \n",
    "    wid = win[1][0] - win[0][0]\n",
    "    h = win[1][1] - win[0][1]\n",
    "    cx = win[0][0] + wid/2\n",
    "    cy = win[0][1] + h/2\n",
    "    \n",
    "    tmpA = [win[0][0], win[0][1], win[1][0], win[1][1]]\n",
    "    tmpB = [cx, cy, wid, h]\n",
    "    rectsTypeA.append(tmpA)\n",
    "    rectsTypeB.append(tmpB)\n",
    "\n",
    "\n",
    "# cv2.circle(img,(pxl[0],pxl[1]),2,(255,0,255),-1)\n",
    "\n",
    "print(wid, h)\n",
    "print(cx, cy)\n",
    "print(rectsTypeB)\n",
    "print(vboat.nObs)"
   ]
  },
  {
   "cell_type": "code",
   "execution_count": 70,
   "metadata": {},
   "outputs": [],
   "source": [
    "def test_intersection(boxA, boxB):\n",
    "    xA = max(boxA[0], boxB[0])\n",
    "    yA = max(boxA[1], boxB[1])\n",
    "    xB = min(boxA[2], boxB[2])\n",
    "    yB = min(boxA[3], boxB[3])\n",
    "    \n",
    "    \n",
    "    interArea = max(0, xB - xA + 1) * max(0, yB - yA + 1)\n",
    "    boxAArea = (boxA[2] - boxA[0] + 1) * (boxA[3] - boxA[1] + 1)\n",
    "    boxBArea = (boxB[2] - boxB[0] + 1) * (boxB[3] - boxB[1] + 1)\n",
    "    iou = interArea / float(boxAArea + boxBArea - interArea)\n",
    "    return iou\n",
    "\n",
    "def union(a,b):\n",
    "    x = min(a[0], b[0])\n",
    "    y = min(a[1], b[1])\n",
    "    w = max(a[0]+a[2], b[0]+b[2]) - x\n",
    "    h = max(a[1]+a[3], b[1]+b[3]) - y\n",
    "    return (x, y, w, h)"
   ]
  },
  {
   "cell_type": "code",
   "execution_count": 71,
   "metadata": {},
   "outputs": [
    {
     "name": "stdout",
     "output_type": "stream",
     "text": [
      "[0 1]\n",
      "1\n",
      "Window 0 Overlaps 1.0000 with Rectangle 1\n",
      "('suppressing idxs', [1])\n",
      "0\n",
      "('suppressing idxs', [0])\n",
      "[[0, 1]]\n",
      "[0]\n",
      "[0]\n",
      "(array([], dtype=int64),)\n"
     ]
    },
    {
     "ename": "IndexError",
     "evalue": "index 0 is out of bounds for axis 0 with size 0",
     "output_type": "error",
     "traceback": [
      "\u001b[0;31m---------------------------------------------------------------------------\u001b[0m",
      "\u001b[0;31mIndexError\u001b[0m                                Traceback (most recent call last)",
      "\u001b[0;32m<ipython-input-71-af13f28058a5>\u001b[0m in \u001b[0;36m<module>\u001b[0;34m()\u001b[0m\n\u001b[1;32m     76\u001b[0m \u001b[0mremain\u001b[0m \u001b[0;34m=\u001b[0m \u001b[0mnp\u001b[0m\u001b[0;34m.\u001b[0m\u001b[0mwhere\u001b[0m\u001b[0;34m(\u001b[0m\u001b[0mmask\u001b[0m\u001b[0;34m)\u001b[0m\u001b[0;34m\u001b[0m\u001b[0m\n\u001b[1;32m     77\u001b[0m \u001b[0;32mprint\u001b[0m\u001b[0;34m(\u001b[0m\u001b[0mremain\u001b[0m\u001b[0;34m)\u001b[0m\u001b[0;34m\u001b[0m\u001b[0m\n\u001b[0;32m---> 78\u001b[0;31m \u001b[0mrectangles\u001b[0m\u001b[0;34m.\u001b[0m\u001b[0mappend\u001b[0m\u001b[0;34m(\u001b[0m\u001b[0mrectsTypeA\u001b[0m\u001b[0;34m[\u001b[0m\u001b[0mremain\u001b[0m\u001b[0;34m[\u001b[0m\u001b[0;36m0\u001b[0m\u001b[0;34m]\u001b[0m\u001b[0;34m[\u001b[0m\u001b[0;36m0\u001b[0m\u001b[0;34m]\u001b[0m\u001b[0;34m]\u001b[0m\u001b[0;34m)\u001b[0m\u001b[0;34m\u001b[0m\u001b[0m\n\u001b[0m\u001b[1;32m     79\u001b[0m \u001b[0;34m\u001b[0m\u001b[0m\n\u001b[1;32m     80\u001b[0m \u001b[0;32mprint\u001b[0m\u001b[0;34m(\u001b[0m\u001b[0mrectangles\u001b[0m\u001b[0;34m)\u001b[0m\u001b[0;34m\u001b[0m\u001b[0m\n",
      "\u001b[0;31mIndexError\u001b[0m: index 0 is out of bounds for axis 0 with size 0"
     ]
    }
   ],
   "source": [
    "n = vboat.nObs\n",
    "idcs = []\n",
    "pick = []\n",
    "boxes = np.array(rectsTypeA)\n",
    "x1 = boxes[:,0]\n",
    "y1 = boxes[:,1]\n",
    "x2 = boxes[:,2]\n",
    "y2 = boxes[:,3]\n",
    "area = (x2 - x1 + 1) * (y2 - y1 + 1)\n",
    "idxs = np.argsort(y2)\n",
    "overlapThresh = 0.05\n",
    "supressed = []\n",
    "top = []\n",
    "non = []\n",
    "print(idxs)\n",
    "while len(idxs) > 0:\n",
    "    # grab the last index in the indexes list, add the index\n",
    "    # value to the list of picked indexes, then initialize\n",
    "    # the suppression list (i.e. indexes that will be deleted)\n",
    "    # using the last index\n",
    "    last = len(idxs) - 1\n",
    "    i = idxs[last]\n",
    "    pick.append(i)\n",
    "    suppress = [last]\n",
    "    # loop over all indexes in the indexes list\n",
    "    print(i)\n",
    "    overlaps = False\n",
    "    for pos in xrange(0, last):\n",
    "        # grab the current index\n",
    "        j = idxs[pos]\n",
    "\n",
    "        # find the largest (x, y) coordinates for the start of\n",
    "        # the bounding box and the smallest (x, y) coordinates\n",
    "        # for the end of the bounding box\n",
    "        xx1 = max(x1[i], x1[j])\n",
    "        yy1 = max(y1[i], y1[j])\n",
    "        xx2 = min(x2[i], x2[j])\n",
    "        yy2 = min(y2[i], y2[j])\n",
    "\n",
    "        # compute the width and height of the bounding box\n",
    "        w = max(0, xx2 - xx1 + 1)\n",
    "        h = max(0, yy2 - yy1 + 1)\n",
    "\n",
    "        # compute the ratio of overlap between the computed\n",
    "        # bounding box and the bounding box in the area list\n",
    "        \n",
    "        overlap = float(w * h) / area[j]\n",
    "\n",
    "        print(\"Window %d Overlaps %.4f with Rectangle %d\" % (j,overlap, i) )\n",
    "        # if there is sufficient overlap, suppress the\n",
    "        # current bounding box\n",
    "        if overlap > overlapThresh:\n",
    "#             suppress.append(pos)\n",
    "            supressed.append(pos)\n",
    "            top.append([pos,i])\n",
    "            overlaps = True\n",
    "\n",
    "    # delete all indexes from the index list that are in the\n",
    "    # suppression list\n",
    "    print(\"suppressing idxs\", suppress)\n",
    "#     supressed.append(suppress)\n",
    "    idxs = np.delete(idxs, suppress)\n",
    "    if(not overlaps):\n",
    "        non.append(last)\n",
    "\n",
    "rectangles = [] \n",
    "for a,b in top:\n",
    "    rect = union(rectsTypeA[a],rectsTypeA[b])\n",
    "    rectangles.append(rect)\n",
    "    \n",
    "\n",
    "print(top)\n",
    "print(non)\n",
    "print(supressed)\n",
    "mask = np.isin(non, supressed, invert=True)\n",
    "remain = np.where(mask)\n",
    "print(remain)\n",
    "rectangles.append(rectsTypeA[remain[0][0]])\n",
    "\n",
    "print(rectangles)\n",
    "for i in range(n):\n",
    "    has_overlap = False\n",
    "    for j in range(n):\n",
    "        if(i is not j):\n",
    "            iou = test_intersection(rectsTypeA[i],rectsTypeA[j])\n",
    "            if(iou >= 0.05):\n",
    "                has_overlap = True\n",
    "                idcs.append([i, j])\n",
    "                print(\"IoU for Rect %d and Rect %d = %.3f\" % (i, j, iou))\n",
    "    if(not has_overlap):\n",
    "        print(\"Rect %d has no overlapping segments\" % i)"
   ]
  },
  {
   "cell_type": "code",
   "execution_count": 72,
   "metadata": {},
   "outputs": [],
   "source": [
    "disp = np.copy(vboat.img)\n",
    "disp = cv2.cvtColor(disp,cv2.COLOR_GRAY2BGR)\n",
    "for x1,y1,x2,y2 in boxes[pick]:\n",
    "    cv2.rectangle(disp,(x1,y1),(x2,y2),(0,255,255), 1)\n",
    "    \n",
    "plt.figure(10)\n",
    "plt.imshow(disp)\n",
    "plt.show()"
   ]
  },
  {
   "cell_type": "code",
   "execution_count": 77,
   "metadata": {},
   "outputs": [
    {
     "name": "stdout",
     "output_type": "stream",
     "text": [
      "181.435546875\n"
     ]
    }
   ],
   "source": [
    "disp = np.zeros_like(vboat.img)\n",
    "disp = cv2.cvtColor(disp,cv2.COLOR_GRAY2BGR)\n",
    "masks = []\n",
    "for win in vboat.obstacles:\n",
    "    mask = np.copy(disp)\n",
    "    cv2.rectangle(mask,win[0],win[1],(255,255,255), cv2.FILLED)\n",
    "    mask = cv2.cvtColor(mask,cv2.COLOR_BGR2GRAY)\n",
    "    masks.append(mask)\n",
    "    \n",
    "\n",
    "tmp = cv2.bitwise_and(vboat.img,vboat.img, mask=masks[0])\n",
    "\n",
    "tmpMean = np.mean(tmp)\n",
    "print(tmpMean/0.001)\n",
    "plt.figure(2)\n",
    "plt.imshow(tmp)\n",
    "plt.show()"
   ]
  },
  {
   "cell_type": "code",
   "execution_count": null,
   "metadata": {},
   "outputs": [],
   "source": []
  },
  {
   "cell_type": "code",
   "execution_count": null,
   "metadata": {},
   "outputs": [],
   "source": []
  },
  {
   "cell_type": "code",
   "execution_count": 95,
   "metadata": {},
   "outputs": [
    {
     "name": "stdout",
     "output_type": "stream",
     "text": [
      "The autoreload extension is already loaded. To reload it, use:\n",
      "  %reload_ext autoreload\n"
     ]
    }
   ],
   "source": [
    "%load_ext autoreload\n",
    "%autoreload 2\n",
    "import time\n",
    "import numpy as np\n",
    "import cv2, Image\n",
    "import pyrealsense as pyrs\n",
    "from pyrealsense.constants import rs_option\n",
    "\n",
    "from tools.r200_camera import CameraR200"
   ]
  },
  {
   "cell_type": "code",
   "execution_count": 16,
   "metadata": {},
   "outputs": [],
   "source": [
    "serv = pyrs.Service()\n",
    "dev = serv.Device(depth_control_preset=1)"
   ]
  },
  {
   "cell_type": "code",
   "execution_count": 42,
   "metadata": {},
   "outputs": [],
   "source": [
    "try:  # set custom gain/exposure values to obtain good depth image\n",
    "    custom_options = [(rs_option.RS_OPTION_R200_LR_EXPOSURE, 100.0),\n",
    "                      (rs_option.RS_OPTION_R200_LR_GAIN, 100.0)]\n",
    "    dev.set_device_options(*zip(*custom_options))\n",
    "except pyrs.RealsenseError:\n",
    "    pass  # options are not available on all devices"
   ]
  },
  {
   "cell_type": "code",
   "execution_count": 56,
   "metadata": {},
   "outputs": [
    {
     "name": "stdout",
     "output_type": "stream",
     "text": [
      "<pyrealsense.extstruct.c_float_Array_9 object at 0x7fd634354e60>\n",
      "(580.9887084960938, -0.07007873058319092, 0.0010000000474974513)\n"
     ]
    }
   ],
   "source": [
    "dev.apply_ivcam_preset(0)\n",
    "intr = dev.depth_intrinsics\n",
    "extr = dev.get_device_extrinsics(2,3)\n",
    "print(extr.rotation)\n",
    "Fx = intr.fx\n",
    "Fy = intr.fy\n",
    "baseline = extr.translation[0]\n",
    "dscale = dev.depth_scale\n",
    "print(Fx,baseline,dscale)\n",
    "\n",
    "cnt = 0\n",
    "last = time.time()\n",
    "smoothing = 0.9\n",
    "fps_smooth = 30\n"
   ]
  },
  {
   "cell_type": "code",
   "execution_count": 53,
   "metadata": {},
   "outputs": [
    {
     "name": "stdout",
     "output_type": "stream",
     "text": [
      "65535\n",
      "65.53500311274547\n"
     ]
    }
   ],
   "source": [
    "dev.wait_for_frames()\n",
    "c = dev.color\n",
    "cc = cv2.cvtColor(c, cv2.COLOR_RGB2BGR)\n",
    "\n",
    "plt.figure(0)\n",
    "plt.imshow(c)\n",
    "plt.show()\n",
    "\n",
    "d_raw = dev.depth * dev.depth_scale\n",
    "print(np.max(dev.depth))\n",
    "print(np.max(d_raw))\n",
    "\n",
    "plt.figure(1)\n",
    "plt.imshow(dev.depth * dev.depth_scale)\n",
    "plt.show()\n",
    "\n",
    "d_raw = d_raw.astype(np.uint8)\n",
    "norm_image = cv2.normalize(d_raw, None, alpha=0, beta=255, norm_type=cv2.NORM_MINMAX, dtype=cv2.CV_32F)\n",
    "norm_image = cv2.cvtColor(norm_image, cv2.COLOR_GRAY2RGB)\n",
    "depth_raw = cv2.applyColorMap(d_raw, cv2.COLORMAP_RAINBOW)\n",
    "\n",
    "# plt.figure(0)\n",
    "# plt.imshow(d_raw)\n",
    "# plt.show()"
   ]
  },
  {
   "cell_type": "code",
   "execution_count": 94,
   "metadata": {},
   "outputs": [
    {
     "name": "stdout",
     "output_type": "stream",
     "text": [
      "[INFO] Closing CameraR200 object\n"
     ]
    }
   ],
   "source": [
    "dev.stop()\n",
    "serv.stop()\n",
    "r200.__del__()"
   ]
  },
  {
   "cell_type": "code",
   "execution_count": 96,
   "metadata": {},
   "outputs": [
    {
     "name": "stdout",
     "output_type": "stream",
     "text": [
      "[INFO] Closing CameraR200 object\n"
     ]
    }
   ],
   "source": [
    "r200 = CameraR200()"
   ]
  },
  {
   "cell_type": "code",
   "execution_count": 81,
   "metadata": {},
   "outputs": [],
   "source": [
    "intr = r200.get_intrinsics()"
   ]
  },
  {
   "cell_type": "code",
   "execution_count": 82,
   "metadata": {},
   "outputs": [
    {
     "name": "stdout",
     "output_type": "stream",
     "text": [
      "238.56268310546875\n"
     ]
    }
   ],
   "source": [
    "pp.pprint(intr.ppy)"
   ]
  },
  {
   "cell_type": "code",
   "execution_count": null,
   "metadata": {
    "scrolled": false
   },
   "outputs": [
    {
     "name": "stdout",
     "output_type": "stream",
     "text": [
      "[1551581645.175] R200 FPS = 54.26\n",
      "[1551581645.507] R200 FPS = 51.85\n",
      "[1551581645.843] R200 FPS = 49.63\n",
      "[1551581646.172] R200 FPS = 47.71\n",
      "[1551581646.503] R200 FPS = 45.96\n",
      "[1551581646.877] R200 FPS = 44.04\n",
      "[1551581647.201] R200 FPS = 42.72\n",
      "[1551581647.535] R200 FPS = 41.44\n",
      "[1551581647.868] R200 FPS = 40.30\n",
      "[1551581648.203] R200 FPS = 39.25\n",
      "[1551581648.543] R200 FPS = 38.27\n",
      "[1551581648.872] R200 FPS = 37.48\n",
      "[1551581649.207] R200 FPS = 36.72\n",
      "[1551581649.540] R200 FPS = 36.05\n",
      "[1551581649.876] R200 FPS = 35.42\n",
      "[1551581650.207] R200 FPS = 34.90\n",
      "[1551581650.534] R200 FPS = 34.47\n",
      "[1551581650.870] R200 FPS = 34.00\n",
      "[1551581651.201] R200 FPS = 33.62\n",
      "[1551581651.538] R200 FPS = 33.22\n",
      "[1551581651.876] R200 FPS = 32.86\n",
      "[1551581652.200] R200 FPS = 32.66\n",
      "[1551581652.539] R200 FPS = 32.35\n",
      "[1551581652.876] R200 FPS = 32.08\n",
      "[1551581653.208] R200 FPS = 31.88\n",
      "[1551581653.534] R200 FPS = 31.76\n",
      "[1551581653.876] R200 FPS = 31.51\n",
      "[1551581654.203] R200 FPS = 31.42\n",
      "[1551581654.535] R200 FPS = 31.28\n",
      "[1551581654.869] R200 FPS = 31.15\n",
      "[1551581655.203] R200 FPS = 31.03\n",
      "[1551581655.542] R200 FPS = 30.88\n",
      "[1551581655.868] R200 FPS = 30.86\n",
      "[1551581656.200] R200 FPS = 30.78\n",
      "[1551581656.541] R200 FPS = 30.63\n",
      "[1551581656.867] R200 FPS = 30.64\n",
      "[1551581657.199] R200 FPS = 30.59\n",
      "[1551581657.541] R200 FPS = 30.45\n",
      "[1551581657.866] R200 FPS = 30.49\n",
      "[1551581658.208] R200 FPS = 30.36\n",
      "[1551581658.541] R200 FPS = 30.33\n",
      "[1551581658.876] R200 FPS = 30.29\n",
      "[1551581659.206] R200 FPS = 30.29\n",
      "[1551581659.535] R200 FPS = 30.30\n",
      "[1551581659.868] R200 FPS = 30.27\n",
      "[1551581660.205] R200 FPS = 30.21\n",
      "[1551581660.538] R200 FPS = 30.19\n",
      "[1551581660.866] R200 FPS = 30.22\n",
      "[1551581661.208] R200 FPS = 30.13\n",
      "[1551581661.533] R200 FPS = 30.18\n",
      "[1551581661.867] R200 FPS = 30.16\n",
      "[1551581662.207] R200 FPS = 30.08\n",
      "[1551581662.532] R200 FPS = 30.15\n",
      "[1551581662.874] R200 FPS = 30.06\n",
      "[1551581663.200] R200 FPS = 30.13\n",
      "[1551581663.533] R200 FPS = 30.12\n",
      "[1551581663.874] R200 FPS = 30.04\n",
      "[1551581664.200] R200 FPS = 30.10\n",
      "[1551581664.539] R200 FPS = 30.04\n",
      "[1551581664.873] R200 FPS = 30.03\n",
      "[1551581665.206] R200 FPS = 30.03\n",
      "[1551581665.532] R200 FPS = 30.10\n",
      "[1551581665.865] R200 FPS = 30.09\n",
      "[1551581666.199] R200 FPS = 30.07\n",
      "[1551581666.531] R200 FPS = 30.08\n",
      "[1551581666.871] R200 FPS = 30.01\n",
      "[1551581667.206] R200 FPS = 30.00\n",
      "[1551581667.531] R200 FPS = 30.07\n",
      "[1551581667.864] R200 FPS = 30.07\n",
      "[1551581668.198] R200 FPS = 30.06\n",
      "[1551581668.530] R200 FPS = 30.06\n",
      "[1551581668.872] R200 FPS = 29.98\n",
      "[1551581669.197] R200 FPS = 30.06\n",
      "[1551581669.532] R200 FPS = 30.04\n",
      "[1551581669.863] R200 FPS = 30.05\n",
      "[1551581670.197] R200 FPS = 30.04\n",
      "[1551581670.532] R200 FPS = 30.03\n",
      "[1551581670.866] R200 FPS = 30.02\n",
      "[1551581671.200] R200 FPS = 30.01\n",
      "[1551581671.530] R200 FPS = 30.03\n",
      "[1551581671.868] R200 FPS = 29.99\n",
      "[1551581672.196] R200 FPS = 30.04\n",
      "[1551581672.530] R200 FPS = 30.04\n",
      "[1551581672.863] R200 FPS = 30.03\n",
      "[1551581673.198] R200 FPS = 30.01\n",
      "[1551581673.529] R200 FPS = 30.03\n",
      "[1551581673.862] R200 FPS = 30.03\n",
      "[1551581674.198] R200 FPS = 30.01\n"
     ]
    }
   ],
   "source": [
    "r200.loop()"
   ]
  },
  {
   "cell_type": "code",
   "execution_count": null,
   "metadata": {},
   "outputs": [],
   "source": []
  }
 ],
 "metadata": {
  "kernelspec": {
   "display_name": "Python 2",
   "language": "python",
   "name": "python2"
  },
  "language_info": {
   "codemirror_mode": {
    "name": "ipython",
    "version": 2
   },
   "file_extension": ".py",
   "mimetype": "text/x-python",
   "name": "python",
   "nbconvert_exporter": "python",
   "pygments_lexer": "ipython2",
   "version": "2.7.12"
  }
 },
 "nbformat": 4,
 "nbformat_minor": 2
}
