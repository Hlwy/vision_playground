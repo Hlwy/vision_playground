{
 "cells": [
  {
   "cell_type": "code",
   "execution_count": 151,
   "metadata": {},
   "outputs": [
    {
     "name": "stdout",
     "output_type": "stream",
     "text": [
      "The autoreload extension is already loaded. To reload it, use:\n",
      "  %reload_ext autoreload\n"
     ]
    }
   ],
   "source": [
    "%matplotlib qt5\n",
    "%load_ext autoreload\n",
    "%autoreload 2\n",
    "import os, sys, fnmatch\n",
    "import cv2, time\n",
    "import numpy as np\n",
    "import argparse, pprint\n",
    "\n",
    "\n",
    "from matplotlib import pyplot as plt\n",
    "import matplotlib\n",
    "from matplotlib.ticker import NullFormatter\n",
    "from matplotlib.transforms import Bbox\n",
    "import matplotlib.gridspec as gridspec\n",
    "\n",
    "import ipywidgets as widgets\n",
    "from IPython.display import display\n",
    "from ipywidgets import interact, interactive, IntSlider, Layout, interact_manual,interact, HBox, Layout,VBox\n",
    "\n",
    "pp = pprint.PrettyPrinter(indent=4)\n",
    "homeDir = os.path.abspath('')\n",
    "\n",
    "from src.UVMappingPipeline import UVMappingPipeline\n",
    "from utils.sys_utils import *\n",
    "from utils.seg_utils import *\n",
    "from utils.uv_mapping_utils import *"
   ]
  },
  {
   "cell_type": "code",
   "execution_count": 2,
   "metadata": {},
   "outputs": [],
   "source": [
    "pipe = UVMappingPipeline()"
   ]
  },
  {
   "cell_type": "code",
   "execution_count": null,
   "metadata": {},
   "outputs": [],
   "source": [
    "# tdir = \"/home/hunter/data/images/obstacles\"\n",
    "tdir = \"/home/hunter/data/images/test_cases\"\n",
    "# tdir = \"/home/hyoung/data/images/obstacles\"\n",
    "# tdir = homeDir + \"/test/iai/obstacles\"\n",
    "\n",
    "found_imgs, _ = grab_dir_images(tdir)"
   ]
  },
  {
   "cell_type": "code",
   "execution_count": null,
   "metadata": {
    "scrolled": false
   },
   "outputs": [],
   "source": [
    "%reload_ext autoreload\n",
    "plt.close('all')\n",
    "\n",
    "p = interactive(pipe.pipeline,\n",
    "    _img = widgets.Select(\n",
    "                        options=sorted(found_imgs),\n",
    "                        value=str(sorted(found_imgs)[0]),\n",
    "                        description='File:',\n",
    "                        layout=Layout(width='100%')\n",
    "                    ),\n",
    "    line_method = {'Standard Hough Transform':0,'Probabilistic Hough Transform':1},\n",
    "    input_method = {'Classic Thresholded':0,'Morphed Thresholded':1,'Canny Edges':2},\n",
    "    e1 = (1,255,1), e2 = (1,255,1),\n",
    "    ang = (0,360,1), rho = (1,1000,1),\n",
    "    minLineLength = (0,255,1), maxLineGap = (0,255,1),\n",
    "    houghThresh = (0,255,1), greyThreshU = (0,255,1), greyThreshV = (0,255,1), cnt_thresh = (0,5000,100),\n",
    "    show_helpers = True, use_umap = True, flip_thresh_bin = False, norm_grey_thresh = (0.0,1.0,0.01)\n",
    ")\n",
    "\n",
    "\n",
    "row1 = HBox([p.children[0]])\n",
    "row2 = HBox([p.children[1], p.children[2]], layout = Layout(flex_flow='row wrap'))\n",
    "row3 = HBox([p.children[3], p.children[4], p.children[9]], layout = Layout(flex_flow='row wrap'))\n",
    "row4 = HBox([p.children[5], p.children[6], p.children[7], p.children[8]], layout = Layout(display='flex',flex_flow='row'))\n",
    "\n",
    "row5 = HBox([p.children[10], p.children[11], p.children[12], ], layout = Layout(flex_flow='row wrap'))\n",
    "row6 = HBox([p.children[16]], layout = Layout(flex_flow='row wrap'))\n",
    "row7 = HBox([p.children[13], p.children[14], p.children[15]], layout = Layout(flex_flow='row wrap'))\n",
    "controls = VBox([row1,row2,row3,row4,row5,row6,row7], layout = Layout(display='flex'))\n",
    "output = p.children[-1]\n",
    "display(VBox([controls, output]))"
   ]
  },
  {
   "cell_type": "code",
   "execution_count": null,
   "metadata": {},
   "outputs": [],
   "source": []
  },
  {
   "cell_type": "code",
   "execution_count": null,
   "metadata": {},
   "outputs": [],
   "source": [
    "tmp1 = np.copy(pipe.vmap); tmp0 = cv2.cvtColor(tmp1,cv2.COLOR_GRAY2BGR)\n",
    "\n",
    "normImg = (tmp1 - np.mean(tmp1))/np.std(tmp1)\n",
    "\n",
    "dmax_norm = np.max(normImg)\n",
    "dmin_norm = np.min(normImg)\n",
    "test = cv2.normalize(normImg,None,0,1,cv2.NORM_MINMAX)\n",
    "m = 255.0/(dmax_norm-dmin_norm)\n",
    "print(dmin_norm,dmax_norm,m)\n",
    "tmp = cv2.convertScaleAbs(test, test)#, m)#,np.mean(tmp))\n",
    "print(np.min(tmp),np.max(tmp),np.mean(tmp))\n",
    "\n",
    "fig1 = plt.figure(6)\n",
    "fig1.canvas.set_window_title('Custom Filter Input')\n",
    "plt.imshow(pipe.vmap,cmap='gray')\n",
    "plt.show()\n",
    "\n",
    "iters = 3; kSz = (1,6)\n",
    "thresh = [5, 10, 20, 30]\n",
    "filters = [cv2.THRESH_BINARY,cv2.THRESH_BINARY_INV,cv2.THRESH_TRUNC+cv2.THRESH_BINARY_INV,cv2.THRESH_TOZERO]\n",
    "kernelC = cv2.getStructuringElement(cv2.MORPH_CROSS,kSz)\n",
    "kernelE = cv2.getStructuringElement(cv2.MORPH_RECT,(1,15))\n",
    "\n",
    "_, grey = cv2.threshold(tmp1,5,255,filters[0])#+cv2.THRESH_TRUNC)\n",
    "\n",
    "# gradient = cv2.morphologyEx(grey, cv2.MORPH_CLOSE, kSz)\n",
    "gradient = cv2.morphologyEx(grey, cv2.MORPH_OPEN, kSz)\n",
    "\n",
    "# tmpKernel = cv2.getStructuringElement(cv2.MORPH_ELLIPSE,kSz)\n",
    "tmpKernel = cv2.getStructuringElement(cv2.MORPH_RECT,kSz)\n",
    "\n",
    "gradient2 = cv2.erode(tmp0,kernelE,iterations = 1)\n",
    "gradient2 = cv2.dilate(gradient2,tmpKernel,iterations = 1)\n",
    "# preMorph = cv2.erode(grey,kernelE,iterations = 3)\n",
    "# preMorph = cv2.dilate(grey,tmpKernel,iterations = 3)\n",
    "\n",
    "\n",
    "# # morph = cv2.morphologyEx(grey,cv2.MORPH_CLOSE,(1,2), iterations = 2)\n",
    "# morph = cv2.morphologyEx(grey,cv2.MORPH_OPEN,(2,3), iterations = 1)\n",
    "\n",
    "# _,preMorph = cv2.threshold(preMorph,1,255,cv2.THRESH_BINARY_INV)\n",
    "# tmpKernel = cv2.getStructuringElement(cv2.MORPH_RECT,(3,15))\n",
    "# preMorph = cv2.dilate(preMorph,tmpKernel,iterations = 3)\n",
    "# tmpKernel = cv2.getStructuringElement(cv2.MORPH_RECT,(10,3))\n",
    "# preMorph = cv2.erode(preMorph,kernelE,iterations = 2)\n",
    "# print(preMorph.shape)\n",
    "\n",
    "# mask = cv2.cvtColor(preMorph,cv2.COLOR_BGR2GRAY)\n",
    "# res = cv2.bitwise_and(tmp,tmp, mask=mask)\n",
    "_, res = cv2.threshold(gradient2,5,255,cv2.THRESH_BINARY)\n",
    "\n",
    "out = res\n",
    "\n",
    "fig2 = plt.figure(7)\n",
    "fig2.canvas.set_window_title('Custom Filter Output')\n",
    "plt.imshow(out,cmap='gray')\n",
    "plt.show()"
   ]
  },
  {
   "cell_type": "code",
   "execution_count": null,
   "metadata": {},
   "outputs": [],
   "source": [
    "print(\"\"\"\n",
    "POTENTIALLY GOOD VMAP FILTERING\n",
    "\"\"\")\n",
    "\n",
    "tmp1 = np.copy(pipe.vmap); tmp0 = cv2.cvtColor(tmp1,cv2.COLOR_GRAY2BGR)\n",
    "\n",
    "kSz = (1,6)\n",
    "kernelE = cv2.getStructuringElement(cv2.MORPH_RECT,(1,15))\n",
    "_, grey = cv2.threshold(tmp1,5,255,cv2.THRESH_BINARY)\n",
    "\n",
    "gradient = cv2.morphologyEx(grey, cv2.MORPH_OPEN, kSz)\n",
    "tmpKernel = cv2.getStructuringElement(cv2.MORPH_ELLIPSE,kSz)\n",
    "\n",
    "gradient2 = cv2.erode(tmp0,kernelE,iterations = 1)\n",
    "gradient2 = cv2.dilate(gradient2,tmpKernel,iterations = 1)\n",
    "_, res = cv2.threshold(gradient2,5,255,cv2.THRESH_BINARY)\n",
    "\n",
    "out = res"
   ]
  },
  {
   "cell_type": "code",
   "execution_count": null,
   "metadata": {},
   "outputs": [],
   "source": []
  },
  {
   "cell_type": "code",
   "execution_count": null,
   "metadata": {},
   "outputs": [],
   "source": [
    "# print(pipe.disparityBounds[obsId],pipe.xBounds[obsId])\n",
    "\n",
    "tmp = np.copy(pipe.greyV)\n",
    "tmp2 = np.copy(pipe.img)\n",
    "tmp2 = cv2.cvtColor(tmp2,cv2.COLOR_GRAY2BGR)\n",
    "nObs = len(pipe.disparityBounds)\n",
    "print(nObs)\n",
    "b = 2; d = np.ceil(nObs / float(b))\n",
    "\n",
    "plt.close(7)\n",
    "fig, axes = plt.subplots(nrows=b, ncols=int(d), num=7)\n",
    "obstacleImgs = []\n",
    "for i in range(nObs):\n",
    "    tmp2 = np.copy(pipe.img)\n",
    "    tmp2 = cv2.cvtColor(tmp2,cv2.COLOR_GRAY2BGR)\n",
    "    try:\n",
    "        xs = pipe.xBounds[i]\n",
    "        ys,disp = pipe.find_obstacles(tmp,pipe.disparityBounds[i], _threshold=30, lower_threshold=1, verbose = True)\n",
    "        cv2.rectangle(tmp2,(xs[0],ys[0]),(xs[1],ys[-1]),(150,0,0),1)\n",
    "    except:\n",
    "        pass\n",
    "    fig.axes[i].imshow(disp)\n",
    "    obstacleImgs.append(tmp2)\n",
    "plt.show()"
   ]
  },
  {
   "cell_type": "code",
   "execution_count": null,
   "metadata": {},
   "outputs": [],
   "source": []
  },
  {
   "cell_type": "code",
   "execution_count": null,
   "metadata": {},
   "outputs": [],
   "source": []
  },
  {
   "cell_type": "code",
   "execution_count": null,
   "metadata": {
    "scrolled": true
   },
   "outputs": [],
   "source": [
    "im = np.copy(pipe.img)\n",
    "norm = (im - np.mean(im))/np.std(im)\n",
    "h, w = norm.shape[:2]\n",
    "\n",
    "umapOrig, vmapOrig,_ = pipe.get_uv_map(im,get_overlay=False)\n",
    "\n",
    "plt.figure(0)\n",
    "plt.imshow(im, cmap='gray')\n",
    "plt.show()\n",
    "plt.figure(1)\n",
    "plt.imshow(norm, cmap='gray')\n",
    "plt.show()"
   ]
  },
  {
   "cell_type": "code",
   "execution_count": 3,
   "metadata": {},
   "outputs": [],
   "source": []
  },
  {
   "cell_type": "code",
   "execution_count": 4,
   "metadata": {},
   "outputs": [],
   "source": []
  },
  {
   "cell_type": "code",
   "execution_count": 5,
   "metadata": {},
   "outputs": [],
   "source": []
  },
  {
   "cell_type": "code",
   "execution_count": 80,
   "metadata": {},
   "outputs": [],
   "source": []
  },
  {
   "cell_type": "code",
   "execution_count": 82,
   "metadata": {},
   "outputs": [],
   "source": []
  },
  {
   "cell_type": "code",
   "execution_count": 126,
   "metadata": {},
   "outputs": [],
   "source": []
  },
  {
   "cell_type": "code",
   "execution_count": 90,
   "metadata": {},
   "outputs": [
    {
     "data": {
      "application/vnd.jupyter.widget-view+json": {
       "model_id": "48c6dc489ecc4f319d6da3bd98282e77",
       "version_major": 2,
       "version_minor": 0
      },
      "text/plain": [
       "U2VsZWN0KGRlc2NyaXB0aW9uPXUnRmlsZTonLCBsYXlvdXQ9TGF5b3V0KHdpZHRoPXUnMTAwJScpLCBvcHRpb25zPSgnL2hvbWUvaHVudGVyL2RhdGEvaW1hZ2VzL3Rlc3RfY2FzZXMvZnJhbWXigKY=\n"
      ]
     },
     "metadata": {},
     "output_type": "display_data"
    }
   ],
   "source": [
    "found_imgs, _ = grab_dir_images(\"/home/hunter/data/images/test_cases\")\n",
    "_imgs = widgets.Select(\n",
    "                        options=sorted(found_imgs),\n",
    "                        value=str(sorted(found_imgs)[0]),\n",
    "                        description='File:',\n",
    "                        layout=Layout(width='100%')\n",
    "                    )\n",
    "\n",
    "display(_imgs)"
   ]
  },
  {
   "cell_type": "code",
   "execution_count": 286,
   "metadata": {},
   "outputs": [
    {
     "name": "stdout",
     "output_type": "stream",
     "text": [
      "[INFO] Beginning Obstacle Search....\n",
      "\t[uv_pipeline] --- Took 0.024178 seconds to complete\n"
     ]
    }
   ],
   "source": [
    "from utils.uv_mapping_utils import *\n",
    "\n",
    "_img = _imgs.value\n",
    "img = cv2.imread(_img, cv2.IMREAD_GRAYSCALE)\n",
    "\n",
    "umap, vmapMasked, img, obs, nObs, pxls,vmap,mask, maskInv, dt = uv_pipeline(_img, flag_displays=True)\n",
    "\n",
    "\n",
    "\n",
    "# mask, maskInv,mPxls, ground_wins,_ = get_vmap_mask(newV, maxStep = 15)\n",
    "tmpVmap = cv2.bitwise_and(vmap,vmap,mask=mask)\n",
    "\n",
    "# nonzero = tmpVmap.nonzero()\n",
    "# nonzeroy = np.array(nonzero[0])\n",
    "# nonzerox = np.array(nonzero[1])\n",
    "\n",
    "# print(nonzerox.shape)\n",
    "\n",
    "plt.figure(9)\n",
    "plt.imshow(mask)\n",
    "plt.show()\n",
    "\n",
    "# vs = cv2.approxPolyDP(pxls,3,0)\n",
    "# cv2.polylines(tmpVmap, [vs], 0, (255,0,255),20)\n",
    "\n",
    "# vx, vy, cx, cy = cv2.fitLine(pxls,cv2.DIST_L2,0, 0.01, 0.01)\n",
    "# cv2.line(tmpVmap, (int(cx-vx*w), int(cy-vy*w)), (int(cx+vx*w), int(cy+vy*w)), (0, 0, 255))\n",
    "\n",
    "# plt.figure(10)\n",
    "# plt.imshow(tmpVmap)\n",
    "# plt.show()"
   ]
  },
  {
   "cell_type": "code",
   "execution_count": 265,
   "metadata": {},
   "outputs": [
    {
     "name": "stdout",
     "output_type": "stream",
     "text": [
      "(34, array([[  3, 459],\n",
      "       [  3, 448],\n",
      "       [  3, 437],\n",
      "       [  3, 425],\n",
      "       [  3, 414],\n",
      "       [  4, 403],\n",
      "       [  4, 392],\n",
      "       [  4, 381],\n",
      "       [  5, 370],\n",
      "       [  6, 359],\n",
      "       [  7, 347],\n",
      "       [  9, 336],\n",
      "       [ 11, 325],\n",
      "       [ 14, 314],\n",
      "       [ 22, 302],\n",
      "       [ 34, 293]]))\n"
     ]
    }
   ],
   "source": [
    "h,w = vmap.shape[:2]\n",
    "# black = np.zeros((h,w,3),dtype=np.uint8)\n",
    "black = np.copy(vmap)\n",
    "black = cv2.cvtColor(black,cv2.COLOR_GRAY2BGR)\n",
    "\n",
    "print(pxls[-1,0],pxls)\n",
    "\n",
    "# ploty = np.linspace(pxls[0,1], pxls[-1,1])\n",
    "plotx = np.linspace(pxls[0,0], pxls[-1,0])\n",
    "try: # Try fitting polynomial nonzero data\n",
    "    fit = np.poly1d(np.polyfit(pxls[:,0],pxls[:,1], 2))\n",
    "    # Generate x and y values for plotting\n",
    "#     plotx = fit(ploty)\n",
    "    ploty = fit(plotx)\n",
    "except:\n",
    "    print(\"ERROR: Function 'polyfit' failed!\")\n",
    "    fit = [0, 0]; plotx = [0, 0]\n",
    "# xs = np.asarray(ploty,dtype=np.int32)\n",
    "# ys = np.asarray(plotx,dtype=np.int32)\n",
    "\n",
    "xs = np.asarray(plotx,dtype=np.int32)\n",
    "ys = np.asarray(ploty,dtype=np.int32)\n",
    "\n",
    "pts = np.vstack(([xs],[ys])).transpose()\n",
    "cv2.polylines(black, [pts], 0, (255,0,255),5)\n",
    "plt.figure(9)\n",
    "plt.imshow(black)\n",
    "# plt.plot(pxls[:,0],pxls[:,1])\n",
    "# plt.plot(ploty,-plotx)\n",
    "\n",
    "plt.show()"
   ]
  },
  {
   "cell_type": "code",
   "execution_count": null,
   "metadata": {
    "scrolled": true
   },
   "outputs": [],
   "source": []
  },
  {
   "cell_type": "code",
   "execution_count": null,
   "metadata": {
    "scrolled": true
   },
   "outputs": [],
   "source": []
  },
  {
   "cell_type": "code",
   "execution_count": null,
   "metadata": {},
   "outputs": [],
   "source": []
  },
  {
   "cell_type": "code",
   "execution_count": null,
   "metadata": {
    "scrolled": true
   },
   "outputs": [],
   "source": []
  },
  {
   "cell_type": "code",
   "execution_count": null,
   "metadata": {},
   "outputs": [],
   "source": []
  },
  {
   "cell_type": "code",
   "execution_count": 74,
   "metadata": {},
   "outputs": [],
   "source": [
    "def tester2(_img, e1=1, e2=5,tmpThresh=3,greyThreshU=7,greyThreshV=5,cnt_thresh=100.0,\n",
    "                 show_helpers=True,use_umap=True, flip_thresh_bin=True, norm_grey_thresh=0.5):\n",
    "    img = cv2.imread(_img, cv2.IMREAD_GRAYSCALE)\n",
    "    pipe.img = img\n",
    "    plt.figure(0)\n",
    "    plt.imshow(img)\n",
    "    plt.show()\n",
    "\n",
    "    if(flip_thresh_bin):\n",
    "        umap, vmap, overlay = pipe.get_uv_map(img, get_overlay=True)\n",
    "        dead_x = 2; dead_y = 10\n",
    "\n",
    "        cv2.rectangle(umap,(0,0),(umap.shape[1],dead_y),(0,0,0), cv2.FILLED)\n",
    "        cv2.rectangle(umap,(0,umap.shape[0]-dead_y),(umap.shape[1],umap.shape[0]),(0,0,0), cv2.FILLED)\n",
    "\n",
    "        cv2.rectangle(vmap,(0,0),(dead_x, vmap.shape[0]),(0,0,0), cv2.FILLED)\n",
    "        cv2.rectangle(vmap,(vmap.shape[1]-dead_x,0),(vmap.shape[1],vmap.shape[0]),(0,0,0), cv2.FILLED)\n",
    "    else:\n",
    "        umap = umapping(img)\n",
    "        vmap = vmapping(img)\n",
    "        overlay = make_uv_overlay(img,umap,vmap)\n",
    "\n",
    "\n",
    "    h,w = umap.shape[:2]\n",
    "    clone = np.copy(umap)\n",
    "#     cv2.rectangle(clone,(0,0),(w,10),(0,0,0), cv2.FILLED)\n",
    "#     cv2.rectangle(clone,(0,h-10),(w,h),(0,0,0), cv2.FILLED)\n",
    "    print(np.max(clone), np.min(clone))\n",
    "\n",
    "\n",
    "\n",
    "    _,tmp = cv2.threshold(clone,greyThreshU,np.max(clone),cv2.THRESH_BINARY)\n",
    "    opening = tmp\n",
    "#     _,tmp = cv2.threshold(clone,greyThreshU,np.max(clone),cv2.THRESH_TOZERO)\n",
    "\n",
    "#     cv2.rectangle(tmp,(0,0),(w,10),(0,0,0), cv2.FILLED)\n",
    "#     cv2.rectangle(tmp,(0,h-10),(w,h),(0,0,0), cv2.FILLED)\n",
    "\n",
    "    kernel = cv2.getStructuringElement(cv2.MORPH_RECT,(e1,e2))\n",
    "#     opening = cv2.morphologyEx(tmp, cv2.MORPH_CLOSE, kernel)\n",
    "#     _,opening = cv2.threshold(opening,tmpThresh,np.max(clone),cv2.THRESH_BINARY)\n",
    "\n",
    "    _,greyV = cv2.threshold(vmap,greyThreshV,np.max(vmap),cv2.THRESH_BINARY)\n",
    "\n",
    "    _, contours, hierarchy = cv2.findContours(opening,cv2.RETR_TREE,cv2.CHAIN_APPROX_SIMPLE)\n",
    "    areas = [cv2.contourArea(cnt) for cnt in contours]\n",
    "    perimeters = [cv2.arcLength(cnt,True) for cnt in contours]\n",
    "\n",
    "    filtered_cnts = [cnt for cnt in contours if cv2.arcLength(cnt,True) >= cnt_thresh]\n",
    "    filtered_perimeters = [cv2.arcLength(cnt,True) for cnt in filtered_cnts]\n",
    "    print(\"Filtered Contour Perimeters:\",filtered_perimeters)\n",
    "\n",
    "    display = cv2.cvtColor(opening, cv2.COLOR_GRAY2BGR)\n",
    "    for cnt in filtered_cnts:\n",
    "        cv2.drawContours(display, [cnt], 0, (255,0,0), 2)\n",
    "\n",
    "    cnts, limits, ellipses, pts, centers = pipe.extract_contour_x_bounds(filtered_cnts)\n",
    "\n",
    "    nObs = len(pipe.disparityBounds)\n",
    "    obsImgs = []\n",
    "    disp = np.copy(img)\n",
    "    display_obstacles = cv2.cvtColor(disp,cv2.COLOR_GRAY2BGR)\n",
    "\n",
    "    for i in range(nObs):\n",
    "        tmp = np.copy(img)\n",
    "        tmp = cv2.cvtColor(tmp,cv2.COLOR_GRAY2BGR)\n",
    "        try:\n",
    "            xs = pipe.xBounds[i]\n",
    "            ys,disp = pipe.find_obstacles(greyV,pipe.disparityBounds[i], _threshold=30, lower_threshold=1, verbose = True, display=greyV)\n",
    "            cv2.rectangle(tmp,(xs[0],ys[0]),(xs[1],ys[-1]),(150,0,0),1)\n",
    "            cv2.rectangle(display_obstacles,(xs[0],ys[0]),(xs[1],ys[-1]),(150,0,0),1)\n",
    "        except: pass\n",
    "        obsImgs.append(tmp)\n",
    "\n",
    "\n",
    "    plt.figure(1)\n",
    "    plt.imshow(opening)\n",
    "    plt.show()\n",
    "\n",
    "    plt.figure(2)\n",
    "    plt.imshow(overlay)\n",
    "    plt.show()\n",
    "\n",
    "    plt.figure(3)\n",
    "    plt.imshow(display)\n",
    "    plt.show()\n",
    "\n",
    "    plt.figure(4)\n",
    "    plt.imshow(display_obstacles)\n",
    "    plt.show()\n",
    "\n",
    "    plt.figure(6)\n",
    "    plt.imshow(greyV)\n",
    "    plt.show()"
   ]
  },
  {
   "cell_type": "code",
   "execution_count": null,
   "metadata": {},
   "outputs": [],
   "source": []
  },
  {
   "cell_type": "code",
   "execution_count": 295,
   "metadata": {},
   "outputs": [],
   "source": [
    "def thresholding(_img, e1=1, e2=5,tmpThresh=3,greyThreshU=7,greyThreshV=5,cnt_thresh=100.0,\n",
    "                 show_helpers=True,use_umap=True, flip_thresh_bin=True, norm_grey_thresh=0.5\n",
    "):\n",
    "    if(show_helpers):\n",
    "        umap, vmap, img, obs, nObs, pxls,_,_,_, dt = uv_pipeline(_img, flag_displays=flip_thresh_bin)\n",
    "        display_obstacles = cv2.cvtColor(img, cv2.COLOR_GRAY2BGR)\n",
    "\n",
    "        for ob in obs:\n",
    "            cv2.rectangle(display_obstacles,ob[0],ob[1],(150,0,0),1)\n",
    "        plt.figure(0)\n",
    "        plt.imshow(display_obstacles)\n",
    "        plt.show()\n",
    "    else:\n",
    "        tester2(_img,e1,e2,tmpThresh,greyThreshU,greyThreshV,cnt_thresh,show_helpers,use_umap,flip_thresh_bin, norm_grey_thresh)\n",
    "    \n",
    "        "
   ]
  },
  {
   "cell_type": "code",
   "execution_count": 308,
   "metadata": {
    "scrolled": false
   },
   "outputs": [
    {
     "data": {
      "application/vnd.jupyter.widget-view+json": {
       "model_id": "e451b1a402dd4128bfe64f9b557cdc44",
       "version_major": 2,
       "version_minor": 0
      },
      "text/plain": [
       "aW50ZXJhY3RpdmUoY2hpbGRyZW49KFNlbGVjdChkZXNjcmlwdGlvbj11J0ZpbGU6JywgbGF5b3V0PUxheW91dCh3aWR0aD11JzEwMCUnKSwgb3B0aW9ucz0oJy9ob21lL2h1bnRlci9kYXRhL2nigKY=\n"
      ]
     },
     "metadata": {},
     "output_type": "display_data"
    }
   ],
   "source": [
    "found_imgs, _ = grab_dir_images(\"/home/hunter/data/images/test_cases\")\n",
    "# found_imgs, _ = grab_dir_images(\"/home/hunter/devel/vision_playground/test/frames\")\n",
    "ttt = interactive(thresholding,_img = widgets.Select(\n",
    "                        options=sorted(found_imgs),\n",
    "                        value=str(sorted(found_imgs)[0]),\n",
    "                        description='File:',\n",
    "                        layout=Layout(width='100%')\n",
    "                    ), e1 = (1,255,1), e2 = (1,255,1),\n",
    "    tmpThresh = (0,255,1), greyThreshU = (0.0,255.0,0.1), greyThreshV = (0,255,1), cnt_thresh = (0,5000,100),\n",
    "    show_helpers = True, use_umap = True, flip_thresh_bin = False, norm_grey_thresh = (0.0,1.0,0.01)\n",
    ")\n",
    "display(ttt)"
   ]
  },
  {
   "cell_type": "code",
   "execution_count": null,
   "metadata": {},
   "outputs": [],
   "source": []
  },
  {
   "cell_type": "code",
   "execution_count": 193,
   "metadata": {},
   "outputs": [
    {
     "name": "stdout",
     "output_type": "stream",
     "text": [
      "14.2987874628\n",
      "35.3631798571\n"
     ]
    }
   ],
   "source": [
    "print(1/0.069936)\n",
    "print(1/0.028278)"
   ]
  },
  {
   "cell_type": "code",
   "execution_count": null,
   "metadata": {},
   "outputs": [],
   "source": []
  }
 ],
 "metadata": {
  "kernelspec": {
   "display_name": "Python 2",
   "language": "python",
   "name": "python2"
  },
  "language_info": {
   "codemirror_mode": {
    "name": "ipython",
    "version": 2
   },
   "file_extension": ".py",
   "mimetype": "text/x-python",
   "name": "python",
   "nbconvert_exporter": "python",
   "pygments_lexer": "ipython2",
   "version": "2.7.12"
  }
 },
 "nbformat": 4,
 "nbformat_minor": 2
}
