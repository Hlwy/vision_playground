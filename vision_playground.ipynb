{
 "cells": [
  {
   "cell_type": "code",
   "execution_count": null,
   "metadata": {},
   "outputs": [],
   "source": [
    "%matplotlib qt5\n",
    "import cv2, time\n",
    "import numpy as np\n",
    "import argparse, pprint\n",
    "from matplotlib import pyplot as plt\n",
    "\n",
    "import pyrealsense2 as rs\n",
    "\n",
    "from tools.d415_camera import CameraD415\n",
    "from src.VBOATS import VBOATS\n",
    "\n",
    "pp = pprint.PrettyPrinter(indent=4)"
   ]
  },
  {
   "cell_type": "code",
   "execution_count": null,
   "metadata": {},
   "outputs": [],
   "source": [
    "cam = CameraD415()"
   ]
  },
  {
   "cell_type": "code",
   "execution_count": null,
   "metadata": {},
   "outputs": [],
   "source": [
    "vboat = VBOATS()"
   ]
  },
  {
   "cell_type": "code",
   "execution_count": null,
   "metadata": {},
   "outputs": [],
   "source": [
    "extr = cam.get_extrinsics()\n",
    "intr = cam.get_intrinsics()\n",
    "\n",
    "pp.pprint(extr)\n",
    "pp.pprint(intr)"
   ]
  },
  {
   "cell_type": "code",
   "execution_count": null,
   "metadata": {},
   "outputs": [],
   "source": []
  },
  {
   "cell_type": "code",
   "execution_count": null,
   "metadata": {},
   "outputs": [],
   "source": [
    "rgb, depth = cam.read()\n",
    "\n",
    "tmp = depth/cam.dmax_avg\n",
    "depth = np.uint8(tmp*255)\n",
    "\n",
    "\n",
    "plt.figure(0)\n",
    "plt.imshow(depth)\n",
    "plt.show()"
   ]
  },
  {
   "cell_type": "code",
   "execution_count": null,
   "metadata": {
    "scrolled": false
   },
   "outputs": [],
   "source": [
    "vboat.pipeline(depth, threshU1=8,threshU2=20, threshV2=70)"
   ]
  },
  {
   "cell_type": "code",
   "execution_count": null,
   "metadata": {},
   "outputs": [],
   "source": [
    "dispU1, dispU2, compU = vboat.umap_displays()\n",
    "dispV1, dispV2, compV = vboat.vmap_displays()\n",
    "\n",
    "plt.figure(2)\n",
    "# plt.imshow(vboat.vmap_raw)\n",
    "# plt.imshow(vboat.umap_raw)\n",
    "plt.imshow(vboat.umap_processed)\n",
    "plt.imshow(dispU2)\n",
    "plt.show()"
   ]
  },
  {
   "cell_type": "code",
   "execution_count": null,
   "metadata": {},
   "outputs": [],
   "source": [
    "display_obstacles = cv2.cvtColor(vboat.img, cv2.COLOR_GRAY2BGR)\n",
    "\n",
    "for ob in vboat.obstacles:\n",
    "    cv2.rectangle(display_obstacles,ob[0],ob[1],(150,0,0),1)"
   ]
  },
  {
   "cell_type": "code",
   "execution_count": null,
   "metadata": {},
   "outputs": [],
   "source": []
  },
  {
   "cell_type": "code",
   "execution_count": null,
   "metadata": {},
   "outputs": [],
   "source": [
    "cam.__del__()"
   ]
  }
 ],
 "metadata": {
  "kernelspec": {
   "display_name": "Python 2",
   "language": "python",
   "name": "python2"
  },
  "language_info": {
   "codemirror_mode": {
    "name": "ipython",
    "version": 2
   },
   "file_extension": ".py",
   "mimetype": "text/x-python",
   "name": "python",
   "nbconvert_exporter": "python",
   "pygments_lexer": "ipython2",
   "version": "2.7.15rc1"
  }
 },
 "nbformat": 4,
 "nbformat_minor": 2
}
