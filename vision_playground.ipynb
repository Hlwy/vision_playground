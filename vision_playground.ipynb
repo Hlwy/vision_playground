{
 "cells": [
  {
   "cell_type": "code",
   "execution_count": 4,
   "metadata": {},
   "outputs": [],
   "source": [
    "%matplotlib qt5\n",
    "import cv2, time\n",
    "import numpy as np\n",
    "import argparse, pprint\n",
    "from matplotlib import pyplot as plt\n",
    "\n",
    "import pyrealsense2 as rs\n",
    "\n",
    "from tools.d415_camera import CameraD415\n",
    "\n",
    "pp = pprint.PrettyPrinter(indent=4)"
   ]
  },
  {
   "cell_type": "code",
   "execution_count": 2,
   "metadata": {},
   "outputs": [
    {
     "name": "stdout",
     "output_type": "stream",
     "text": [
      "[ERROR] Could not establish CameraD415 VideoWriter's!\n",
      "Calculating Average Max Disparity.....\n",
      "Average Max Disparity, Sum, Count: 23419.035, 14098259.000, 602\n"
     ]
    }
   ],
   "source": [
    "cam = CameraD415()"
   ]
  },
  {
   "cell_type": "code",
   "execution_count": 6,
   "metadata": {},
   "outputs": [
    {
     "name": "stdout",
     "output_type": "stream",
     "text": [
      "rotation: [1, 0.000451149, 0.000541019, -0.000453043, 0.999994, 0.0035053, -0.000539434, -0.00350554, 0.999994]\n",
      "translation: [0.0150125, 2.66028e-05, -0.000210271]\n",
      "{   u'color': width: 640, height: 480, ppx: 326.004, ppy: 241.691, fx: 619.394, fy: 619.259, model: Brown Conrady, coeffs: [0, 0, 0, 0, 0],\n",
      "    u'depth': width: 640, height: 480, ppx: 320.551, ppy: 232.202, fx: 626.464, fy: 626.464, model: Brown Conrady, coeffs: [0, 0, 0, 0, 0]}\n"
     ]
    }
   ],
   "source": [
    "extr = cam.get_extrinsics()\n",
    "intr = cam.get_intrinsics()\n",
    "\n",
    "pp.pprint(extr)\n",
    "pp.pprint(intr)"
   ]
  },
  {
   "cell_type": "code",
   "execution_count": null,
   "metadata": {},
   "outputs": [],
   "source": []
  },
  {
   "cell_type": "code",
   "execution_count": null,
   "metadata": {},
   "outputs": [],
   "source": [
    "rgb, d = cam.read()\n",
    "depth = d*cam.dscale\n",
    "plt.figure(0)\n",
    "plt.imshow(depth)\n",
    "plt.show()\n",
    "np.max(depth)"
   ]
  },
  {
   "cell_type": "code",
   "execution_count": null,
   "metadata": {},
   "outputs": [],
   "source": []
  },
  {
   "cell_type": "code",
   "execution_count": null,
   "metadata": {},
   "outputs": [],
   "source": []
  },
  {
   "cell_type": "code",
   "execution_count": null,
   "metadata": {},
   "outputs": [],
   "source": [
    "cam.__del__()"
   ]
  },
  {
   "cell_type": "code",
   "execution_count": null,
   "metadata": {},
   "outputs": [],
   "source": []
  }
 ],
 "metadata": {
  "kernelspec": {
   "display_name": "Python 2",
   "language": "python",
   "name": "python2"
  },
  "language_info": {
   "codemirror_mode": {
    "name": "ipython",
    "version": 2
   },
   "file_extension": ".py",
   "mimetype": "text/x-python",
   "name": "python",
   "nbconvert_exporter": "python",
   "pygments_lexer": "ipython2",
   "version": "2.7.15rc1"
  }
 },
 "nbformat": 4,
 "nbformat_minor": 2
}
