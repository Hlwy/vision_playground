{
 "cells": [
  {
   "cell_type": "code",
   "execution_count": 1,
   "metadata": {},
   "outputs": [],
   "source": [
    "%matplotlib qt5\n",
    "%load_ext autoreload\n",
    "%autoreload 2\n",
    "import cv2, time\n",
    "import numpy as np\n",
    "import argparse, pprint\n",
    "from matplotlib import pyplot as plt\n",
    "\n",
    "import pyrealsense2 as rs\n",
    "\n",
    "from scripts.devices.d415_camera import CameraD415\n",
    "from scripts.VBOATS import VBOATS\n",
    "\n",
    "# from scripts.devices.r200_camera import CameraR200\n",
    "\n",
    "from scripts.hyutils.sys_utils import *\n",
    "from scripts.hyutils.img_utils import *\n",
    "from scripts.hyutils.debug_utils import *\n",
    "from scripts.hyutils.plotting_utils import *\n",
    "from scripts.hyutils.uv_mapping_utils import *\n",
    "\n",
    "pp = pprint.PrettyPrinter(indent=4)\n",
    "\n",
    "vboat = VBOATS()\n",
    "vboat.debug = False\n",
    "vboat.dead_x = 0\n",
    "vboat.dead_y = 3"
   ]
  },
  {
   "cell_type": "code",
   "execution_count": null,
   "metadata": {},
   "outputs": [],
   "source": [
    "ctx = rs.context()\n",
    "for d in ctx.devices:\n",
    "    print ('Found device: ', \\\n",
    "    d.get_info(rs.camera_info.name), ' ', \\\n",
    "    d.get_info(rs.camera_info.serial_number))\n",
    "dev = ctx.devices[0]\n"
   ]
  },
  {
   "cell_type": "code",
   "execution_count": null,
   "metadata": {},
   "outputs": [],
   "source": [
    "cam.__del__()"
   ]
  },
  {
   "cell_type": "code",
   "execution_count": 2,
   "metadata": {},
   "outputs": [
    {
     "name": "stdout",
     "output_type": "stream",
     "text": [
      "('Found device: ', u'Intel RealSense D415', ' ', u'847412062231')\n",
      "[INFO] CameraD415() -- Resetting Hardware...\n",
      "[INFO] CameraD415() -- Initialization successful!!!\n"
     ]
    }
   ],
   "source": [
    "cam = CameraD415(flag_save=False,use_statistics=False,fps=30, verbose=True)"
   ]
  },
  {
   "cell_type": "code",
   "execution_count": 3,
   "metadata": {},
   "outputs": [
    {
     "name": "stdout",
     "output_type": "stream",
     "text": [
      "rotation: [0.999999, 0.000126028, 0.00157422, -0.000125856, 1, -0.000109517, -0.00157424, 0.000109319, 0.999999]\n",
      "translation: [0.0147318, -6.67465e-05, -0.00013899]\n",
      "{   u'color': width: 640, height: 480, ppx: 322.508, ppy: 234.413, fx: 614.156, fy: 613.426, model: Brown Conrady, coeffs: [0, 0, 0, 0, 0],\n",
      "    u'depth': width: 640, height: 480, ppx: 319.742, ppy: 242.007, fx: 596.392, fy: 596.392, model: Brown Conrady, coeffs: [0, 0, 0, 0, 0]}\n"
     ]
    }
   ],
   "source": [
    "extr = cam.get_extrinsics()\n",
    "intr = cam.get_intrinsics()\n",
    "\n",
    "pp.pprint(extr)\n",
    "pp.pprint(intr)"
   ]
  },
  {
   "cell_type": "code",
   "execution_count": 8,
   "metadata": {
    "code_folding": []
   },
   "outputs": [
    {
     "name": "stdout",
     "output_type": "stream",
     "text": [
      "100 loops, best of 3: 11.2 ms per loop\n"
     ]
    }
   ],
   "source": [
    "rgb, depth = cam.read()\n",
    "pplot(depth,\"depth\")\n",
    "pplot(rgb,\"rgb\")"
   ]
  },
  {
   "cell_type": "code",
   "execution_count": 9,
   "metadata": {},
   "outputs": [
    {
     "name": "stdout",
     "output_type": "stream",
     "text": [
      "100 loops, best of 3: 10.4 ms per loop\n"
     ]
    }
   ],
   "source": [
    "rgba, deptha = cam.read(flag_aligned=True)\n",
    "pplot(depth,\"depth aligned\")\n",
    "pplot(rgb,\"rgb aligned\")"
   ]
  },
  {
   "cell_type": "code",
   "execution_count": null,
   "metadata": {},
   "outputs": [],
   "source": [
    "t0 = tmp.timestamp"
   ]
  },
  {
   "cell_type": "code",
   "execution_count": null,
   "metadata": {},
   "outputs": [],
   "source": [
    "frames = cam.pipeline.wait_for_frames()\n",
    "tmp = frames.get_depth_frame()\n",
    "print(tmp.width, tmp.height)\n",
    "print(tmp.timestamp - t0)"
   ]
  },
  {
   "cell_type": "code",
   "execution_count": null,
   "metadata": {},
   "outputs": [],
   "source": [
    "# ======================================================"
   ]
  },
  {
   "cell_type": "code",
   "execution_count": null,
   "metadata": {},
   "outputs": [],
   "source": []
  },
  {
   "cell_type": "code",
   "execution_count": null,
   "metadata": {},
   "outputs": [],
   "source": [
    "cam = CameraR200()"
   ]
  },
  {
   "cell_type": "code",
   "execution_count": null,
   "metadata": {},
   "outputs": [],
   "source": [
    "intr,scale = cam.get_intrinsics()\n",
    "extr, b = cam.get_extrinsics()"
   ]
  },
  {
   "cell_type": "code",
   "execution_count": null,
   "metadata": {},
   "outputs": [],
   "source": [
    "rgb, depth = cam.read()\n",
    "pplot(depth,\"hey\")\n",
    "pplot(rgb,\"rgb\")"
   ]
  },
  {
   "cell_type": "code",
   "execution_count": null,
   "metadata": {},
   "outputs": [],
   "source": [
    "tmp = depth/avgDisparity\n",
    "tmp = np.uint8(tmp*255)\n",
    "tmp = cv2.cvtColor(tmp,cv2.COLOR_GRAY2BGR)\n",
    "pplot(tmp,\"normalized depth\")"
   ]
  },
  {
   "cell_type": "code",
   "execution_count": null,
   "metadata": {},
   "outputs": [],
   "source": [
    "cam.close()"
   ]
  },
  {
   "cell_type": "code",
   "execution_count": null,
   "metadata": {},
   "outputs": [],
   "source": [
    "# ======================================================"
   ]
  },
  {
   "cell_type": "code",
   "execution_count": null,
   "metadata": {},
   "outputs": [],
   "source": [
    "rgb, depth = cam.read()\n",
    "grey = cv2.cvtColor(rgb,cv2.COLOR_BGR2GRAY)\n",
    "\n",
    "pplot(depth,\"First Raw Depth\")\n",
    "pplot(rgb,\"First Raw RGB\")\n",
    "pplot(grey,\"First Greyscale RGB\")"
   ]
  },
  {
   "cell_type": "code",
   "execution_count": null,
   "metadata": {},
   "outputs": [],
   "source": [
    "rgb2, depth2 = cam.read()\n",
    "grey2 = cv2.cvtColor(rgb2,cv2.COLOR_BGR2GRAY)\n",
    "\n",
    "pplot(depth2,\"Second Raw Depth\")\n",
    "pplot(rgb2,\"Second Raw RGB\")\n",
    "pplot(grey2,\"Second Greyscale RGB\")"
   ]
  },
  {
   "cell_type": "code",
   "execution_count": null,
   "metadata": {},
   "outputs": [],
   "source": [
    "# sift = cv2.xfeatures2d.SIFT_create()\n",
    "# surf = cv2.xfeatures2d.SURF_create()\n",
    "orb = cv2.ORB_create(nfeatures=3000)"
   ]
  },
  {
   "cell_type": "code",
   "execution_count": null,
   "metadata": {},
   "outputs": [],
   "source": [
    "# keypoints_sift, descriptors = sift.detectAndCompute(grey, None)\n",
    "# keypoints_surf, descriptors = surf.detectAndCompute(grey, None)\n",
    "kp1, desc1 = orb.detectAndCompute(grey, None)\n",
    "kp2, desc2 = orb.detectAndCompute(grey2, None)"
   ]
  },
  {
   "cell_type": "code",
   "execution_count": null,
   "metadata": {},
   "outputs": [],
   "source": [
    "# siftimg = cv2.drawKeypoints(grey, keypoints_sift, None)\n",
    "# pplot(siftimg,\"Sift Features\")\n",
    "\n",
    "# surfimg = cv2.drawKeypoints(grey, keypoints_surf, None)\n",
    "# pplot(surfimg,\"Surf Features\")\n",
    "\n",
    "orbimg1 = cv2.drawKeypoints(grey, kp1, None)\n",
    "pplot(orbimg1,\"ORB Features 1\")\n",
    "orbimg2 = cv2.drawKeypoints(grey2, kp2, None)\n",
    "pplot(orbimg2,\"ORB Features 2\")"
   ]
  },
  {
   "cell_type": "code",
   "execution_count": null,
   "metadata": {},
   "outputs": [],
   "source": [
    "print(256/65536.0)"
   ]
  },
  {
   "cell_type": "code",
   "execution_count": null,
   "metadata": {},
   "outputs": [],
   "source": [
    "timeit raw_umap, raw_vmap, dt = vboat.get_uv_map(depth,timing=True)"
   ]
  },
  {
   "cell_type": "code",
   "execution_count": null,
   "metadata": {},
   "outputs": [],
   "source": []
  }
 ],
 "metadata": {
  "kernelspec": {
   "display_name": "Python 2",
   "language": "python",
   "name": "python2"
  },
  "language_info": {
   "codemirror_mode": {
    "name": "ipython",
    "version": 2
   },
   "file_extension": ".py",
   "mimetype": "text/x-python",
   "name": "python",
   "nbconvert_exporter": "python",
   "pygments_lexer": "ipython2",
   "version": "2.7.12"
  }
 },
 "nbformat": 4,
 "nbformat_minor": 2
}
