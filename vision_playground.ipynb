{
 "cells": [
  {
   "cell_type": "code",
   "execution_count": 8,
   "metadata": {},
   "outputs": [],
   "source": [
    "%matplotlib qt5\n",
    "import cv2, time\n",
    "import numpy as np\n",
    "import argparse, pprint\n",
    "from matplotlib import pyplot as plt\n",
    "\n",
    "import pyrealsense2 as rs\n",
    "\n",
    "from scripts.devices.d415_camera import CameraD415\n",
    "# from src.VBOATS import VBOATS\n",
    "\n",
    "# from scripts.devices.r200_camera import CameraR200\n",
    "\n",
    "from scripts.hyutils.sys_utils import *\n",
    "from scripts.hyutils.img_utils import *\n",
    "from scripts.hyutils.debug_utils import *\n",
    "from scripts.hyutils.plotting_utils import *\n",
    "from scripts.hyutils.uv_mapping_utils import *\n",
    "\n",
    "pp = pprint.PrettyPrinter(indent=4)"
   ]
  },
  {
   "cell_type": "code",
   "execution_count": 5,
   "metadata": {},
   "outputs": [
    {
     "name": "stdout",
     "output_type": "stream",
     "text": [
      "('Found device: ', u'Intel RealSense D415', ' ', u'847412062231')\n"
     ]
    }
   ],
   "source": [
    "ctx = rs.context()\n",
    "for d in ctx.devices:\n",
    "    print ('Found device: ', \\\n",
    "    d.get_info(rs.camera_info.name), ' ', \\\n",
    "    d.get_info(rs.camera_info.serial_number))\n",
    "dev = ctx.devices[0]\n"
   ]
  },
  {
   "cell_type": "code",
   "execution_count": 14,
   "metadata": {},
   "outputs": [
    {
     "name": "stdout",
     "output_type": "stream",
     "text": [
      "[INFO] Closing CameraD415 object\n"
     ]
    }
   ],
   "source": [
    "cam.__del__()"
   ]
  },
  {
   "cell_type": "code",
   "execution_count": 11,
   "metadata": {},
   "outputs": [
    {
     "name": "stdout",
     "output_type": "stream",
     "text": [
      "('Found device: ', u'Intel RealSense D415', ' ', u'847412062231')\n",
      "[INFO] CameraD415() -- Resetting Hardware...\n",
      "[INFO] CameraD415() -- Initialization successful!!!\n"
     ]
    }
   ],
   "source": [
    "cam = CameraD415(flag_save=False,use_statistics=False,fps=30, verbose=True)"
   ]
  },
  {
   "cell_type": "code",
   "execution_count": null,
   "metadata": {},
   "outputs": [],
   "source": [
    "vboat = VBOATS()"
   ]
  },
  {
   "cell_type": "code",
   "execution_count": 12,
   "metadata": {},
   "outputs": [
    {
     "name": "stdout",
     "output_type": "stream",
     "text": [
      "rotation: [0.999999, 0.000126028, 0.00157422, -0.000125856, 1, -0.000109517, -0.00157424, 0.000109319, 0.999999]\n",
      "translation: [0.0147318, -6.67465e-05, -0.00013899]\n",
      "{   u'color': width: 640, height: 480, ppx: 322.508, ppy: 234.413, fx: 614.156, fy: 613.426, model: Brown Conrady, coeffs: [0, 0, 0, 0, 0],\n",
      "    u'depth': width: 640, height: 480, ppx: 319.742, ppy: 242.007, fx: 596.392, fy: 596.392, model: Brown Conrady, coeffs: [0, 0, 0, 0, 0]}\n"
     ]
    }
   ],
   "source": [
    "extr = cam.get_extrinsics()\n",
    "intr = cam.get_intrinsics()\n",
    "\n",
    "pp.pprint(extr)\n",
    "pp.pprint(intr)"
   ]
  },
  {
   "cell_type": "code",
   "execution_count": null,
   "metadata": {},
   "outputs": [],
   "source": []
  },
  {
   "cell_type": "code",
   "execution_count": 13,
   "metadata": {},
   "outputs": [],
   "source": [
    "rgb, depth = cam.read()\n",
    "\n",
    "tmp = depth/cam.dmax_avg\n",
    "depth = np.uint8(tmp*255)\n",
    "\n",
    "\n",
    "plt.figure(0)\n",
    "plt.imshow(depth)\n",
    "plt.show()"
   ]
  },
  {
   "cell_type": "code",
   "execution_count": null,
   "metadata": {
    "scrolled": false
   },
   "outputs": [],
   "source": [
    "vboat.pipeline(depth, threshU1=8,threshU2=20, threshV2=70)"
   ]
  },
  {
   "cell_type": "code",
   "execution_count": null,
   "metadata": {},
   "outputs": [],
   "source": [
    "dispU1, dispU2, compU = vboat.umap_displays()\n",
    "dispV1, dispV2, compV = vboat.vmap_displays()\n",
    "\n",
    "plt.figure(2)\n",
    "# plt.imshow(vboat.vmap_raw)\n",
    "# plt.imshow(vboat.umap_raw)\n",
    "plt.imshow(vboat.umap_processed)\n",
    "plt.imshow(dispU2)\n",
    "plt.show()"
   ]
  },
  {
   "cell_type": "code",
   "execution_count": null,
   "metadata": {},
   "outputs": [],
   "source": [
    "display_obstacles = cv2.cvtColor(vboat.img, cv2.COLOR_GRAY2BGR)\n",
    "\n",
    "for ob in vboat.obstacles:\n",
    "    cv2.rectangle(display_obstacles,ob[0],ob[1],(150,0,0),1)"
   ]
  },
  {
   "cell_type": "code",
   "execution_count": null,
   "metadata": {},
   "outputs": [],
   "source": []
  },
  {
   "cell_type": "code",
   "execution_count": null,
   "metadata": {},
   "outputs": [],
   "source": [
    "def calculate_statistics(camera,duration=10.0):\n",
    "    print(\"Calculating Average Max Disparity.....\")\n",
    "    t0 = time.time()\n",
    "    sum, count = 0, 0\n",
    "    while True:\n",
    "        t1 = time.time()\n",
    "        dt = t1 - t0\n",
    "        if(dt<= duration):\n",
    "            _, depth = camera.read()\n",
    "            if(depth is None): continue\n",
    "            sum += np.max(depth)\n",
    "            count+=1\n",
    "        else: break\n",
    "    avg = sum / float(count)\n",
    "    print(\"Average Max Disparity, Sum, Count: %.3f, %.3f, %d\" % (avg,sum,count))\n",
    "    return avg"
   ]
  },
  {
   "cell_type": "code",
   "execution_count": null,
   "metadata": {},
   "outputs": [],
   "source": []
  },
  {
   "cell_type": "code",
   "execution_count": null,
   "metadata": {},
   "outputs": [],
   "source": [
    "cam = CameraR200()"
   ]
  },
  {
   "cell_type": "code",
   "execution_count": null,
   "metadata": {},
   "outputs": [],
   "source": [
    "intr,scale = cam.get_intrinsics()\n",
    "extr, b = cam.get_extrinsics()"
   ]
  },
  {
   "cell_type": "code",
   "execution_count": null,
   "metadata": {},
   "outputs": [],
   "source": [
    "avgDisparity = calculate_statistics(cam)"
   ]
  },
  {
   "cell_type": "code",
   "execution_count": null,
   "metadata": {},
   "outputs": [],
   "source": [
    "print(scale,avgDisparity)"
   ]
  },
  {
   "cell_type": "code",
   "execution_count": null,
   "metadata": {},
   "outputs": [],
   "source": [
    "rgb, depth = cam.read()\n",
    "pplot(depth,\"hey\")\n",
    "pplot(rgb,\"rgb\")"
   ]
  },
  {
   "cell_type": "code",
   "execution_count": null,
   "metadata": {},
   "outputs": [],
   "source": [
    "tmp = depth/avgDisparity\n",
    "tmp = np.uint8(tmp*255)\n",
    "tmp = cv2.cvtColor(tmp,cv2.COLOR_GRAY2BGR)\n",
    "pplot(tmp,\"normalized depth\")"
   ]
  },
  {
   "cell_type": "code",
   "execution_count": null,
   "metadata": {},
   "outputs": [],
   "source": [
    "print(np.max(depth))"
   ]
  },
  {
   "cell_type": "code",
   "execution_count": null,
   "metadata": {},
   "outputs": [],
   "source": [
    "cam.close()"
   ]
  },
  {
   "cell_type": "code",
   "execution_count": 1,
   "metadata": {},
   "outputs": [],
   "source": [
    "import smbus"
   ]
  },
  {
   "cell_type": "code",
   "execution_count": 6,
   "metadata": {},
   "outputs": [],
   "source": [
    "bus.close()"
   ]
  },
  {
   "cell_type": "code",
   "execution_count": 7,
   "metadata": {},
   "outputs": [
    {
     "data": {
      "text/plain": [
       "-612.8566666666667"
      ]
     },
     "execution_count": 7,
     "metadata": {},
     "output_type": "execute_result"
    }
   ],
   "source": [
    "(69.81*2 - 1978.19)/ 3"
   ]
  },
  {
   "cell_type": "code",
   "execution_count": null,
   "metadata": {},
   "outputs": [],
   "source": []
  }
 ],
 "metadata": {
  "kernelspec": {
   "display_name": "Python 2",
   "language": "python",
   "name": "python2"
  },
  "language_info": {
   "codemirror_mode": {
    "name": "ipython",
    "version": 2
   },
   "file_extension": ".py",
   "mimetype": "text/x-python",
   "name": "python",
   "nbconvert_exporter": "python",
   "pygments_lexer": "ipython2",
   "version": "2.7.12"
  }
 },
 "nbformat": 4,
 "nbformat_minor": 2
}
