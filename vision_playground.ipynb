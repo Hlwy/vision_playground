{
 "cells": [
  {
   "cell_type": "code",
   "execution_count": 16,
   "metadata": {},
   "outputs": [],
   "source": [
    "%matplotlib qt5\n",
    "import cv2, time\n",
    "import numpy as np\n",
    "import argparse, pprint\n",
    "import matplotlib\n",
    "\n",
    "from matplotlib import pyplot as plt\n",
    "from matplotlib.ticker import NullFormatter\n",
    "from matplotlib.transforms import Bbox\n",
    "import matplotlib.gridspec as gridspec"
   ]
  },
  {
   "cell_type": "code",
   "execution_count": 50,
   "metadata": {},
   "outputs": [],
   "source": [
    "def method1(img,angle=120,rho=141,greyThresh=11,houghThresh=5,lineGap=4,lineLength=14,kernelSize=(5,5),show_helpers=False):\n",
    "    copy = np.copy(img)\n",
    "    tmp = cv2.cvtColor(copy,cv2.COLOR_GRAY2BGR)\n",
    "\n",
    "    # get current positions of four trackbars\n",
    "    n,m,_ = tmp.shape\n",
    "    filtered = np.zeros((n,m,3))\n",
    "\n",
    "    ret, grey = cv2.threshold(copy,greyThresh,255,cv2.THRESH_BINARY)\n",
    "\n",
    "    kernel = np.ones(kernelSize,np.uint8)\n",
    "    closing = cv2.morphologyEx(grey,cv2.MORPH_CLOSE,kernel, iterations = 2)\n",
    "\n",
    "    ret, helper = cv2.threshold(grey,greyThresh,255,cv2.THRESH_BINARY)\n",
    "    ret, helper3 = cv2.threshold(closing,greyThresh,255,cv2.THRESH_BINARY)\n",
    "    hlines = helper3\n",
    "    ang = angle * np.pi/180\n",
    "\n",
    "    lines = cv2.HoughLinesP(hlines,rho,ang,houghThresh,lineLength,lineGap)\n",
    "    for x in range(0, len(lines)):\n",
    "        for x1,y1,x2,y2 in lines[x]:\n",
    "            cv2.line(tmp,(x1,y1),(x2,y2),(0,255,0),2)\n",
    "            cv2.line(filtered,(x1,y1),(x2,y2),(255,255,255),2)\n",
    "\n",
    "    if(show_helpers):\n",
    "        cv2.imshow('threshold grey',grey)\n",
    "        cv2.imshow('closed',closing)\n",
    "        cv2.imshow('threshold',helper)\n",
    "        cv2.imshow('threshold closed',helper3)\n",
    "\n",
    "    cv2.imshow('Probablistic Lines',tmp)\n",
    "    cv2.imshow('Probablistic Filtered',filtered)\n",
    "    return filtered"
   ]
  },
  {
   "cell_type": "code",
   "execution_count": 58,
   "metadata": {},
   "outputs": [],
   "source": [
    "def uvMapping(_img, get_overlay=True,verbose=False):\n",
    "    overlay = None\n",
    "    h,w = _img.shape\n",
    "    histRange = (0,256)\n",
    "    histSz = np.max(_img) + 1\n",
    "    if(verbose): print(\"[UV Mapping] Input Image Size: (%d, %d)\" % (h,w))\n",
    "\n",
    "    umap = np.zeros((histSz,w,1), dtype=np.uint8)\n",
    "    vmap = np.zeros((h,histSz,1), dtype=np.uint8)\n",
    "\n",
    "    for i in range(0,h):\n",
    "        vscan = _img[i,:]\n",
    "        vrow = cv2.calcHist([vscan],[0],None,[histSz],histRange)\n",
    "        if(verbose): print(\"\\t[V Mapping] Scan [%d] (%s) ---- Scan Histogram (%s)\" % (i,', '.join(map(str, vscan.shape)), ', '.join(map(str, vrow.shape))))\n",
    "        vmap[i,:] = vrow\n",
    "\n",
    "    for i in range(0,w):\n",
    "        uscan = _img[:,i]\n",
    "        urow = cv2.calcHist([uscan],[0],None,[histSz],histRange)\n",
    "        if(verbose): print(\"\\t[U Mapping] Scan[%d] (%s) ---- Scan Histogram (%s)\" % (i,', '.join(map(str, uscan.shape)), ', '.join(map(str, urow.shape))))\n",
    "        umap[:,i] = urow\n",
    "\n",
    "    umap = np.reshape(umap,(histSz,w))\n",
    "    vmap = np.reshape(vmap,(h,histSz))\n",
    "\n",
    "    if(get_overlay):\n",
    "        blank = np.ones((umap.shape[0],vmap.shape[1]),np.uint8)*255\n",
    "        pt1 = np.concatenate((_img, vmap), axis=1)\n",
    "        pt2 = np.concatenate((umap,blank),axis=1)\n",
    "        overlay = np.concatenate((pt1,pt2),axis=0)\n",
    "\n",
    "    if(verbose):\n",
    "        print(\"\\t[UV Mapping] U Map = (%s) ----- V Map = (%s)\" % (', '.join(map(str, umap.shape)),', '.join(map(str, vmap.shape)) ))\n",
    "    return umap,vmap,overlay"
   ]
  },
  {
   "cell_type": "code",
   "execution_count": 60,
   "metadata": {},
   "outputs": [],
   "source": [
    "# plt.ion()\n",
    "imgname = \"frames/frame_509.jpg\"\n",
    "img = cv2.imread(imgname,cv2.IMREAD_GRAYSCALE)\n",
    "umap,vmap, overlay = uvMapping(img)\n",
    "overlay = cv2.cvtColor(overlay,cv2.COLOR_GRAY2BGR)\n",
    "plt.imshow(overlay)\n",
    "plt.yticks([''])\n",
    "plt.xticks([''])\n",
    "plt.show()"
   ]
  },
  {
   "cell_type": "code",
   "execution_count": 53,
   "metadata": {},
   "outputs": [],
   "source": [
    "n1,m1 = umap.shape\n",
    "n2,m2 = vmap.shape\n",
    "blank = np.ones((n1,m2),np.uint8)*255\n",
    "\n",
    "plt.figure(figsize=(8,8))\n",
    "\n",
    "cd = np.concatenate((img, vmap), axis=1)\n",
    "cd2 = np.concatenate((umap,blank),axis=1)\n",
    "overlay = np.concatenate((cd,cd2),axis=0)\n",
    "overlay = cv2.cvtColor(overlay,cv2.COLOR_GRAY2BGR)\n",
    "\n",
    "plt.imshow(overlay)\n",
    "plt.yticks([''])\n",
    "plt.xticks([''])\n",
    "# ax.set_yticklabels('')\n",
    "\n",
    "plt.show()"
   ]
  },
  {
   "cell_type": "code",
   "execution_count": 57,
   "metadata": {},
   "outputs": [
    {
     "name": "stdout",
     "output_type": "stream",
     "text": [
      "\t[V Mapping] V Scan (26, 22, 2) ---- Scan Histogram (1, 2, 3)\n"
     ]
    }
   ],
   "source": [
    "vscan = np.zeros((26, 22, 2))\n",
    "vrow = np.zeros((1, 2, 3))\n",
    "\n",
    "print(\"\\t[V Mapping] V Scan (%s) ---- Scan Histogram (%s)\" % (', '.join(map(str, vscan.shape)), ', '.join(map(str, vrow.shape))))"
   ]
  },
  {
   "cell_type": "code",
   "execution_count": null,
   "metadata": {},
   "outputs": [],
   "source": []
  }
 ],
 "metadata": {
  "kernelspec": {
   "display_name": "Python 2",
   "language": "python",
   "name": "python2"
  },
  "language_info": {
   "codemirror_mode": {
    "name": "ipython",
    "version": 2
   },
   "file_extension": ".py",
   "mimetype": "text/x-python",
   "name": "python",
   "nbconvert_exporter": "python",
   "pygments_lexer": "ipython2",
   "version": "2.7.12"
  }
 },
 "nbformat": 4,
 "nbformat_minor": 2
}
