{
 "cells": [
  {
   "cell_type": "code",
   "execution_count": 1,
   "metadata": {},
   "outputs": [],
   "source": [
    "%matplotlib qt5\n",
    "%load_ext autoreload\n",
    "%autoreload 2\n",
    "import cv2, time\n",
    "import numpy as np\n",
    "import argparse, pprint\n",
    "from matplotlib import pyplot as plt\n",
    "import open3d as o3\n",
    "from open3d import JVisualizer\n",
    "# from pyntcloud import PyntCloud\n",
    "\n",
    "import pyrealsense2 as rs\n",
    "\n",
    "from scripts.devices.d415_camera import CameraD415\n",
    "from scripts.VBOATS import VBOATS\n",
    "\n",
    "# from scripts.devices.r200_camera import CameraR200\n",
    "\n",
    "from scripts.hyutils.sys_utils import *\n",
    "from scripts.hyutils.img_utils import *\n",
    "from scripts.hyutils.debug_utils import *\n",
    "from scripts.hyutils.plotting_utils import *\n",
    "from scripts.hyutils.uv_mapping_utils import *\n",
    "\n",
    "pp = pprint.PrettyPrinter(indent=4)\n",
    "\n",
    "vboat = VBOATS()\n",
    "vboat.debug = False\n",
    "vboat.dead_x = 0\n",
    "vboat.dead_y = 3"
   ]
  },
  {
   "cell_type": "code",
   "execution_count": 2,
   "metadata": {},
   "outputs": [],
   "source": [
    "def create_disparity_img(_depth, focal, baseline, dscale=0.001):\n",
    "    tmp2 = _depth*dscale\n",
    "    loc = np.where(tmp2 == 0.0)\n",
    "    tmp2[loc] = 1.0\n",
    "    disparity = (focal*baseline)/tmp2\n",
    "    disparity[loc] = 0.0\n",
    "    dmax = np.max(disparity)\n",
    "    disparity2uintGain = (255)/(dmax)\n",
    "    print(dmax, disparity2uintGain)\n",
    "    disparity = np.uint8(disparity*disparity2uintGain)\n",
    "    return disparity, disparity2uintGain"
   ]
  },
  {
   "cell_type": "code",
   "execution_count": null,
   "metadata": {},
   "outputs": [],
   "source": [
    "ctx = rs.context()\n",
    "for d in ctx.devices:\n",
    "    print ('Found device: ', \\\n",
    "    d.get_info(rs.camera_info.name), ' ', \\\n",
    "    d.get_info(rs.camera_info.serial_number))\n",
    "dev = ctx.devices[0]\n"
   ]
  },
  {
   "cell_type": "code",
   "execution_count": null,
   "metadata": {},
   "outputs": [],
   "source": [
    "cam.close()"
   ]
  },
  {
   "cell_type": "code",
   "execution_count": null,
   "metadata": {},
   "outputs": [],
   "source": [
    "cam.__del__()"
   ]
  },
  {
   "cell_type": "code",
   "execution_count": 3,
   "metadata": {},
   "outputs": [
    {
     "name": "stdout",
     "output_type": "stream",
     "text": [
      "('Found device: ', u'Intel RealSense D415', ' ', u'847412062231')\n",
      "[INFO] CameraD415() -- Resetting Hardware...\n",
      "[INFO] CameraD415() -- Initialization successful!!!\n"
     ]
    }
   ],
   "source": [
    "cam = CameraD415(flag_save=False,use_statistics=False,fps=30, verbose=True)"
   ]
  },
  {
   "cell_type": "code",
   "execution_count": 4,
   "metadata": {},
   "outputs": [
    {
     "name": "stdout",
     "output_type": "stream",
     "text": [
      "rotation: [0.999999, 0.000126028, 0.00157422, -0.000125856, 1, -0.000109517, -0.00157424, 0.000109319, 0.999999]\n",
      "translation: [0.0147318, -6.67465e-05, -0.00013899]\n",
      "{   u'color': width: 640, height: 480, ppx: 322.508, ppy: 234.413, fx: 614.156, fy: 613.426, model: 2, coeffs: [0, 0, 0, 0, 0],\n",
      "    u'depth': width: 640, height: 480, ppx: 319.742, ppy: 242.007, fx: 596.392, fy: 596.392, model: 4, coeffs: [0, 0, 0, 0, 0]}\n"
     ]
    }
   ],
   "source": [
    "extr = cam.get_extrinsics()\n",
    "intr = cam.get_intrinsics()\n",
    "\n",
    "pp.pprint(extr)\n",
    "pp.pprint(intr)"
   ]
  },
  {
   "cell_type": "code",
   "execution_count": null,
   "metadata": {},
   "outputs": [],
   "source": [
    "pts_path = \"1.ply\"\n",
    "fragment = o3.io.read_point_cloud(pts_path)\n",
    "visualizer = o3.JVisualizer()\n",
    "visualizer.add_geometry(fragment)\n",
    "visualizer.show()"
   ]
  },
  {
   "cell_type": "code",
   "execution_count": 8,
   "metadata": {},
   "outputs": [],
   "source": [
    "# pc = rs.pointcloud()\n",
    "points = cam.get_pointcloud()\n",
    "# arra = np.asarray(points.get_vertices())"
   ]
  },
  {
   "cell_type": "code",
   "execution_count": 21,
   "metadata": {},
   "outputs": [
    {
     "name": "stdout",
     "output_type": "stream",
     "text": [
      "(-0., -0., 0.)\n"
     ]
    }
   ],
   "source": [
    "tmp = np.asarray(points.get_vertices())\n",
    "# print(tmp.shape,tmp)\n",
    "print(tmp[0])"
   ]
  },
  {
   "cell_type": "code",
   "execution_count": 22,
   "metadata": {},
   "outputs": [
    {
     "name": "stdout",
     "output_type": "stream",
     "text": [
      "(288582, 3)\n"
     ]
    }
   ],
   "source": [
    "tmp = np.concatenate([points]).T\n",
    "print(tmp.shape)"
   ]
  },
  {
   "cell_type": "code",
   "execution_count": null,
   "metadata": {},
   "outputs": [],
   "source": [
    "import rospy\n",
    "from std_msgs.msg import Header\n",
    "from sensor_msgs import point_cloud2\n",
    "from sensor_msgs.msg import Image,CameraInfo,CompressedImage, PointCloud2, PointField\n",
    "\n",
    "pc2_msg_fields = [PointField('x', 0, PointField.FLOAT32, 1),PointField('y', 4, PointField.FLOAT32, 1),PointField('z', 8, PointField.FLOAT32, 1)]\n",
    "\n",
    "header = Header()\n",
    "header.seq = 0\n",
    "header.stamp = rospy.Time.now()\n",
    "header.frame_id = \"d415/depth_optical_frame\"\n",
    "# pc2_msg = point_cloud2.create_cloud(header, self.pc2_msg_fields, points )"
   ]
  },
  {
   "cell_type": "code",
   "execution_count": 23,
   "metadata": {},
   "outputs": [
    {
     "ename": "TypeError",
     "evalue": "list indices must be integers, not tuple",
     "output_type": "error",
     "traceback": [
      "\u001b[0;31m---------------------------------------------------------------------------\u001b[0m",
      "\u001b[0;31mTypeError\u001b[0m                                 Traceback (most recent call last)",
      "\u001b[0;32m<ipython-input-23-23e996634b05>\u001b[0m in \u001b[0;36m<module>\u001b[0;34m()\u001b[0m\n\u001b[0;32m----> 1\u001b[0;31m \u001b[0;32mprint\u001b[0m\u001b[0;34m(\u001b[0m\u001b[0mpoints\u001b[0m\u001b[0;34m[\u001b[0m\u001b[0;36m0\u001b[0m\u001b[0;34m,\u001b[0m\u001b[0;34m:\u001b[0m\u001b[0;34m]\u001b[0m\u001b[0;34m)\u001b[0m\u001b[0;34m\u001b[0m\u001b[0m\n\u001b[0m",
      "\u001b[0;31mTypeError\u001b[0m: list indices must be integers, not tuple"
     ]
    }
   ],
   "source": [
    "print(points[0,:])"
   ]
  },
  {
   "cell_type": "code",
   "execution_count": null,
   "metadata": {},
   "outputs": [],
   "source": [
    "pc.map_to(cam.frames.get_color_frame())\n",
    "points = pc.calculate(cam.frames.get_depth_frame())\n",
    "# vtx = np.asarray(points.get_vertices())\n",
    "# points.(\"1.ply\", cam.frames.get_color_frame())"
   ]
  },
  {
   "cell_type": "code",
   "execution_count": 5,
   "metadata": {
    "code_folding": []
   },
   "outputs": [
    {
     "name": "stdout",
     "output_type": "stream",
     "text": [
      "(6.508079, 39.182068620195246)\n",
      "255\n"
     ]
    }
   ],
   "source": [
    "rgb, depth = cam.read()\n",
    "disparity, _ = create_disparity_img(depth,cam.intrinsics[\"depth\"].fx,cam.extrinsics.translation[0], cam.dscale)\n",
    "print(np.max(disparity))\n",
    "pplot(depth,\"depth\")\n",
    "pplot(disparity,\"disparity\")\n",
    "pplot(rgb,\"rgb\")"
   ]
  },
  {
   "cell_type": "code",
   "execution_count": null,
   "metadata": {},
   "outputs": [],
   "source": [
    "raw_umap, raw_vmap, dt = vboat.get_uv_map(disparity,timing=True)\n",
    "pplot(raw_umap,\"raw_umap\")\n",
    "pplot(raw_vmap,\"raw_vmap\")"
   ]
  },
  {
   "cell_type": "code",
   "execution_count": null,
   "metadata": {},
   "outputs": [],
   "source": [
    "normvmap = cv2.normalize(raw_vmap,None,0.0, 1.0, cv2.NORM_MINMAX)\n",
    "equmap = cv2.equalizeHist(raw_vmap)\n",
    "pplot(normvmap,\"norm vmap\")\n",
    "pplot(equmap,\"equmap vmap\")"
   ]
  },
  {
   "cell_type": "code",
   "execution_count": null,
   "metadata": {},
   "outputs": [],
   "source": [
    "_,thresh = cv2.threshold(raw_vmap, 8, 255,cv2.THRESH_TOZERO)\n",
    "pplot(thresh,\"thresh\")\n",
    "# print(np.argmax(disparity))"
   ]
  },
  {
   "cell_type": "code",
   "execution_count": null,
   "metadata": {},
   "outputs": [],
   "source": [
    "rgba, deptha = cam.read(flag_aligned=True)\n",
    "pplot(depth,\"depth aligned\")\n",
    "pplot(rgb,\"rgb aligned\")"
   ]
  },
  {
   "cell_type": "code",
   "execution_count": null,
   "metadata": {},
   "outputs": [],
   "source": [
    "t0 = tmp.timestamp"
   ]
  },
  {
   "cell_type": "code",
   "execution_count": null,
   "metadata": {},
   "outputs": [],
   "source": [
    "frames = cam.pipeline.wait_for_frames()\n",
    "tmp = frames.get_depth_frame()\n",
    "print(tmp.width, tmp.height)\n",
    "print(tmp.timestamp - t0)"
   ]
  },
  {
   "cell_type": "code",
   "execution_count": null,
   "metadata": {},
   "outputs": [],
   "source": [
    "# ======================================================"
   ]
  },
  {
   "cell_type": "code",
   "execution_count": null,
   "metadata": {},
   "outputs": [],
   "source": [
    "boo"
   ]
  },
  {
   "cell_type": "code",
   "execution_count": null,
   "metadata": {},
   "outputs": [],
   "source": [
    "cam = CameraR200()"
   ]
  },
  {
   "cell_type": "code",
   "execution_count": null,
   "metadata": {},
   "outputs": [],
   "source": [
    "intr,scale = cam.get_intrinsics()\n",
    "extr, b = cam.get_extrinsics()"
   ]
  },
  {
   "cell_type": "code",
   "execution_count": null,
   "metadata": {},
   "outputs": [],
   "source": [
    "rgb, depth = cam.read()\n",
    "pplot(depth,\"hey\")\n",
    "pplot(rgb,\"rgb\")"
   ]
  },
  {
   "cell_type": "code",
   "execution_count": null,
   "metadata": {},
   "outputs": [],
   "source": [
    "tmp = depth/avgDisparity\n",
    "tmp = np.uint8(tmp*255)\n",
    "tmp = cv2.cvtColor(tmp,cv2.COLOR_GRAY2BGR)\n",
    "pplot(tmp,\"normalized depth\")"
   ]
  },
  {
   "cell_type": "code",
   "execution_count": null,
   "metadata": {},
   "outputs": [],
   "source": [
    "cam.close()"
   ]
  },
  {
   "cell_type": "code",
   "execution_count": null,
   "metadata": {},
   "outputs": [],
   "source": [
    "# ======================================================"
   ]
  },
  {
   "cell_type": "code",
   "execution_count": null,
   "metadata": {},
   "outputs": [],
   "source": [
    "rgb, depth = cam.read()\n",
    "grey = cv2.cvtColor(rgb,cv2.COLOR_BGR2GRAY)\n",
    "\n",
    "pplot(depth,\"First Raw Depth\")\n",
    "pplot(rgb,\"First Raw RGB\")\n",
    "pplot(grey,\"First Greyscale RGB\")"
   ]
  },
  {
   "cell_type": "code",
   "execution_count": null,
   "metadata": {},
   "outputs": [],
   "source": [
    "rgb2, depth2 = cam.read()\n",
    "grey2 = cv2.cvtColor(rgb2,cv2.COLOR_BGR2GRAY)\n",
    "\n",
    "pplot(depth2,\"Second Raw Depth\")\n",
    "pplot(rgb2,\"Second Raw RGB\")\n",
    "pplot(grey2,\"Second Greyscale RGB\")"
   ]
  },
  {
   "cell_type": "code",
   "execution_count": null,
   "metadata": {},
   "outputs": [],
   "source": [
    "# sift = cv2.xfeatures2d.SIFT_create()\n",
    "# surf = cv2.xfeatures2d.SURF_create()\n",
    "orb = cv2.ORB_create(nfeatures=3000)"
   ]
  },
  {
   "cell_type": "code",
   "execution_count": null,
   "metadata": {},
   "outputs": [],
   "source": [
    "# keypoints_sift, descriptors = sift.detectAndCompute(grey, None)\n",
    "# keypoints_surf, descriptors = surf.detectAndCompute(grey, None)\n",
    "kp1, desc1 = orb.detectAndCompute(grey, None)\n",
    "kp2, desc2 = orb.detectAndCompute(grey2, None)"
   ]
  },
  {
   "cell_type": "code",
   "execution_count": null,
   "metadata": {},
   "outputs": [],
   "source": [
    "# siftimg = cv2.drawKeypoints(grey, keypoints_sift, None)\n",
    "# pplot(siftimg,\"Sift Features\")\n",
    "\n",
    "# surfimg = cv2.drawKeypoints(grey, keypoints_surf, None)\n",
    "# pplot(surfimg,\"Surf Features\")\n",
    "\n",
    "orbimg1 = cv2.drawKeypoints(grey, kp1, None)\n",
    "pplot(orbimg1,\"ORB Features 1\")\n",
    "orbimg2 = cv2.drawKeypoints(grey2, kp2, None)\n",
    "pplot(orbimg2,\"ORB Features 2\")"
   ]
  },
  {
   "cell_type": "code",
   "execution_count": null,
   "metadata": {},
   "outputs": [],
   "source": [
    "print(256/65536.0)"
   ]
  },
  {
   "cell_type": "code",
   "execution_count": null,
   "metadata": {},
   "outputs": [],
   "source": []
  },
  {
   "cell_type": "code",
   "execution_count": null,
   "metadata": {},
   "outputs": [],
   "source": []
  }
 ],
 "metadata": {
  "kernelspec": {
   "display_name": "Python 2",
   "language": "python",
   "name": "python2"
  },
  "language_info": {
   "codemirror_mode": {
    "name": "ipython",
    "version": 2
   },
   "file_extension": ".py",
   "mimetype": "text/x-python",
   "name": "python",
   "nbconvert_exporter": "python",
   "pygments_lexer": "ipython2",
   "version": "2.7.12"
  }
 },
 "nbformat": 4,
 "nbformat_minor": 2
}
