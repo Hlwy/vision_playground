{
 "cells": [
  {
   "cell_type": "code",
   "execution_count": null,
   "metadata": {},
   "outputs": [],
   "source": [
    "%matplotlib qt5\n",
    "%load_ext autoreload\n",
    "%autoreload 2\n",
    "\n",
    "import cv2\n",
    "import rospy\n",
    "import rosbag\n",
    "import numpy as np\n",
    "import os, csv, time, argparse\n",
    "from matplotlib import pyplot as plt\n",
    "\n",
    "from nav_msgs.msg import Odometry\n",
    "from geometry_msgs.msg import Twist\n",
    "from gazebo_msgs.msg import ModelStates\n",
    "from sensor_msgs.msg import Image, CameraInfo\n",
    "from cv_bridge import CvBridge, CvBridgeError\n",
    "from tf.transformations import euler_from_quaternion, quaternion_from_euler\n",
    "\n",
    "from src.VBOATS import VBOATS"
   ]
  },
  {
   "cell_type": "code",
   "execution_count": null,
   "metadata": {},
   "outputs": [],
   "source": [
    "class image_converter:\n",
    "    def __init__(self):\n",
    "        rospy.init_node('vboat_pipeline')\n",
    "        self.bridge = CvBridge()\n",
    "        self.image_pub = rospy.Publisher(\"/obstacles\",Image,queue_size=1000)\n",
    "        self.image_sub = rospy.Subscriber(\"/ugv/d415/depth/image_raw\",Image,self.callback)\n",
    "        \n",
    "        self.vboat = VBOATS()\n",
    "        self.vboat.dead_x = 0\n",
    "        self.vboat.dead_y = 5\n",
    "        self.r = rospy.Rate(40)\n",
    "        self.img = []\n",
    "        self.obs_disp = []\n",
    "        \n",
    "    def callback(self,data):\n",
    "        try:\n",
    "            cv_image = self.bridge.imgmsg_to_cv2(data, \"16UC1\")\n",
    "            cv_image = np.float32(cv_image*0.001)\n",
    "            self.img = np.copy(cv_image)\n",
    "        except CvBridgeError as e:\n",
    "            print(e)\n",
    "\n",
    "        self.vboat.pipeline(np.uint8(cv_image), threshU1=8,threshU2=20, threshV2=70)\n",
    "        display_obstacles = cv2.cvtColor(self.vboat.img, cv2.COLOR_GRAY2BGR)\n",
    "\n",
    "        for ob in self.vboat.obstacles:\n",
    "            cv2.rectangle(display_obstacles,ob[0],ob[1],(150,0,0),1)\n",
    "\n",
    "        try:\n",
    "            self.obs_disp = np.copy(display_obstacles)\n",
    "            self.image_pub.publish(self.bridge.cv2_to_imgmsg(display_obstacles, \"bgr8\"))\n",
    "        except CvBridgeError as e:\n",
    "            print(e)\n",
    "            \n",
    "    def start(self):\n",
    "        while not rospy.is_shutdown():\n",
    "            self.r.sleep()"
   ]
  },
  {
   "cell_type": "code",
   "execution_count": null,
   "metadata": {},
   "outputs": [],
   "source": [
    "io = image_converter()"
   ]
  },
  {
   "cell_type": "code",
   "execution_count": null,
   "metadata": {},
   "outputs": [],
   "source": [
    "tmp = cv2.convertScaleAbs(io.vboat.img, None,0,0.001)\n",
    "plt.figure(2)\n",
    "plt.imshow(io.vboat.umap_raw)\n",
    "plt.show()"
   ]
  },
  {
   "cell_type": "code",
   "execution_count": null,
   "metadata": {
    "scrolled": true
   },
   "outputs": [],
   "source": [
    "disp = np.zeros_like(io.vboat.img)\n",
    "disp = cv2.cvtColor(disp,cv2.COLOR_GRAY2BGR)\n",
    "\n",
    "umap = io.vboat.umap_processed\n",
    "umap.astype\n",
    "xs = io.vboat.xBounds\n",
    "ds = io.vboat.dbounds\n",
    "obs = io.vboat.obstacles\n",
    "\n",
    "# masks = []\n",
    "# for win in io.vboat.obstacles:\n",
    "#     mask = np.copy(disp)\n",
    "#     cv2.rectangle(mask,win[0],win[1],(255,255,255), cv2.FILLED)\n",
    "#     mask = cv2.cvtColor(mask,cv2.COLOR_BGR2GRAY)\n",
    "#     masks.append(mask)\n",
    "    \n",
    "\n",
    "# # tmp = cv2.bitwise_and(io.vboat.umap_raw,io.vboat.umap_raw, mask=masks[0])\n",
    "# tmp = cv2.bitwise_and(io.vboat.img,io.vboat.img, mask=masks[0])\n",
    "\n",
    "\n",
    "# tmpMean = np.mean(tmp)\n",
    "# # tmpMean = cv2.meanStdDev(io.vboat.umap_raw,mask=masks[0])\n",
    "# print(tmpMean)\n",
    "\n",
    "plt.figure(1)\n",
    "plt.imshow(io.obs_disp)\n",
    "plt.show()\n",
    "\n",
    "\n",
    "\n",
    "plt.figure(3)\n",
    "plt.imshow(io.vboat.umap_raw)\n",
    "plt.show()\n",
    "\n",
    "print(ds)\n",
    "\n",
    "fx = 462.13797\n",
    "b = 55\n",
    "d = np.mean(ds[0])\n",
    "# d = tmpMean\n",
    "dist = ((fx*b)/d)*0.001\n",
    "\n",
    "x0 = 1.177564+0.26\n",
    "y0 = -0.067304\n",
    "\n",
    "x1 = 4.000000\n",
    "y1 = -1.000000\n",
    "\n",
    "dx = x1 - x0\n",
    "dy = y1 - y0\n",
    "\n",
    "dd = np.sqrt(dx*dx + dy*dy)\n",
    "dd, dist,d, obs[1]"
   ]
  },
  {
   "cell_type": "code",
   "execution_count": null,
   "metadata": {},
   "outputs": [],
   "source": [
    "i = 1\n",
    "dss = ds[i]\n",
    "xs = [obs[i][0][0], obs[i][1][0]]\n",
    "ys = [obs[i][0][1], obs[i][1][1]]\n",
    "\n",
    "io.vboat.calculate_distance(umap,xs,dss, ys)"
   ]
  },
  {
   "cell_type": "code",
   "execution_count": null,
   "metadata": {},
   "outputs": [],
   "source": [
    "bot = [0.444806, -0.559817]\n",
    "obs = [2.000000, -2]\n",
    "dx = bot[0] - obs[0]\n",
    "dy = bot[1] - obs[1]\n",
    "dist = np.sqrt(dx*dx + dy*dy)\n",
    "print(dist)"
   ]
  },
  {
   "cell_type": "code",
   "execution_count": null,
   "metadata": {},
   "outputs": [],
   "source": [
    "win = io.vboat.obstacles_umap[0]\n",
    "print(win)\n",
    "crop_img = io.vboat.umap_raw[win[0][1]:win[1][1], win[0][0]:win[1][0]]\n",
    "\n",
    "tmpMean = np.mean(crop_img)\n",
    "print(tmpMean)\n",
    "\n",
    "plt.figure(3)\n",
    "plt.imshow(crop_img)\n",
    "plt.show()"
   ]
  },
  {
   "cell_type": "code",
   "execution_count": null,
   "metadata": {},
   "outputs": [],
   "source": []
  }
 ],
 "metadata": {
  "kernelspec": {
   "display_name": "Python 2",
   "language": "python",
   "name": "python2"
  },
  "language_info": {
   "codemirror_mode": {
    "name": "ipython",
    "version": 2
   },
   "file_extension": ".py",
   "mimetype": "text/x-python",
   "name": "python",
   "nbconvert_exporter": "python",
   "pygments_lexer": "ipython2",
   "version": "2.7.15rc1"
  }
 },
 "nbformat": 4,
 "nbformat_minor": 2
}
