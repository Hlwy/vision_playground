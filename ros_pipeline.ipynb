{
 "cells": [
  {
   "cell_type": "code",
   "execution_count": 31,
   "metadata": {},
   "outputs": [
    {
     "ename": "ImportError",
     "evalue": "No module named src.VBOATS",
     "output_type": "error",
     "traceback": [
      "\u001b[0;31m---------------------------------------------------------------------------\u001b[0m",
      "\u001b[0;31mImportError\u001b[0m                               Traceback (most recent call last)",
      "\u001b[0;32m<ipython-input-31-f333ce72ba6a>\u001b[0m in \u001b[0;36m<module>\u001b[0;34m()\u001b[0m\n\u001b[1;32m     16\u001b[0m \u001b[0;32mfrom\u001b[0m \u001b[0mtf\u001b[0m\u001b[0;34m.\u001b[0m\u001b[0mtransformations\u001b[0m \u001b[0;32mimport\u001b[0m \u001b[0meuler_from_quaternion\u001b[0m\u001b[0;34m,\u001b[0m \u001b[0mquaternion_from_euler\u001b[0m\u001b[0;34m\u001b[0m\u001b[0m\n\u001b[1;32m     17\u001b[0m \u001b[0;34m\u001b[0m\u001b[0m\n\u001b[0;32m---> 18\u001b[0;31m \u001b[0;32mfrom\u001b[0m \u001b[0msrc\u001b[0m\u001b[0;34m.\u001b[0m\u001b[0mVBOATS\u001b[0m \u001b[0;32mimport\u001b[0m \u001b[0mVBOATS\u001b[0m\u001b[0;34m\u001b[0m\u001b[0m\n\u001b[0m",
      "\u001b[0;31mImportError\u001b[0m: No module named src.VBOATS"
     ]
    }
   ],
   "source": [
    "%matplotlib qt5\n",
    "%load_ext autoreload\n",
    "%autoreload 2\n",
    "\n",
    "import cv2\n",
    "import numpy as np\n",
    "import rospy, rosbag, tf\n",
    "import os, csv, time, argparse, math\n",
    "from matplotlib import pyplot as plt\n",
    "\n",
    "from nav_msgs.msg import Odometry\n",
    "from geometry_msgs.msg import Twist\n",
    "from gazebo_msgs.msg import ModelStates\n",
    "from sensor_msgs.msg import Image, CameraInfo\n",
    "from cv_bridge import CvBridge, CvBridgeError\n",
    "from tf.transformations import euler_from_quaternion, quaternion_from_euler\n",
    "\n",
    "from src.VBOATS import VBOATS"
   ]
  },
  {
   "cell_type": "code",
   "execution_count": null,
   "metadata": {},
   "outputs": [],
   "source": [
    "class image_converter:\n",
    "    def __init__(self):\n",
    "        rospy.init_node('vboat_pipeline')\n",
    "        self.bridge = CvBridge()\n",
    "        self.image_pub = rospy.Publisher(\"/obstacles\",Image,queue_size=1000)\n",
    "        self.image_sub = rospy.Subscriber(\"/ugv1/d415/depth/image_raw\",Image,self.callback)\n",
    "        \n",
    "        self.vboat = VBOATS()\n",
    "        self.vboat.dead_x = 0\n",
    "        self.vboat.dead_y = 3\n",
    "        self.vboat.flag_simulation = True\n",
    "        self.r = rospy.Rate(40)\n",
    "        self.img = []\n",
    "        self.obs_disp = []\n",
    "        self.flag_initialization = False\n",
    "        self.nSamples = 100\n",
    "        self.dSum = 0\n",
    "        self.dmaxAvg = 0\n",
    "        self.count = 0\n",
    "        self.disp_obs = None\n",
    "        \n",
    "    def callback(self,data):\n",
    "        try:\n",
    "            cv_image = self.bridge.imgmsg_to_cv2(data, \"16UC1\")\n",
    "            cv_image = np.float32(cv_image)\n",
    "        except CvBridgeError as e: print(e)\n",
    "                \n",
    "        if(not self.flag_initialization):\n",
    "            tmp = cv_image/65535\n",
    "            depth = np.uint8(tmp*255)\n",
    "            self.img = np.copy(depth)\n",
    "            self.vboat.pipeline(depth, threshU1=5,threshU2=20, threshV2=70)\n",
    "            display_obstacles = cv2.cvtColor(self.vboat.img, cv2.COLOR_GRAY2BGR)\n",
    "\n",
    "            for ob in self.vboat.obstacles:\n",
    "                cv2.rectangle(display_obstacles,ob[0],ob[1],(150,0,0),1)\n",
    "\n",
    "            self.disp_obs = np.copy(display_obstacles)\n",
    "            try:\n",
    "                self.obs_disp = np.copy(display_obstacles)\n",
    "                self.image_pub.publish(self.bridge.cv2_to_imgmsg(display_obstacles, \"bgr8\"))\n",
    "            except CvBridgeError as e:\n",
    "                print(e)\n",
    "            \n",
    "    def start(self):\n",
    "        while not rospy.is_shutdown():\n",
    "            self.r.sleep()"
   ]
  },
  {
   "cell_type": "code",
   "execution_count": null,
   "metadata": {},
   "outputs": [],
   "source": [
    "io = image_converter()"
   ]
  },
  {
   "cell_type": "code",
   "execution_count": 32,
   "metadata": {},
   "outputs": [],
   "source": [
    "def pplot(img,num = 0):\n",
    "    plt.figure(num)\n",
    "    plt.imshow(img)\n",
    "    plt.show()"
   ]
  },
  {
   "cell_type": "code",
   "execution_count": null,
   "metadata": {},
   "outputs": [],
   "source": [
    "plt.figure(1)\n",
    "plt.imshow(io.vboat.umap_raw)\n",
    "plt.show()\n",
    "\n",
    "plt.figure(3)\n",
    "plt.imshow(io.vboat.vmap_raw)\n",
    "plt.show()"
   ]
  },
  {
   "cell_type": "code",
   "execution_count": null,
   "metadata": {},
   "outputs": [],
   "source": [
    "# D415 Parameters returned from real camera\n",
    "rotation = [1, 0.000451149, 0.000541019, -0.000453043, 0.999994, 0.0035053, -0.000539434, -0.00350554, 0.999994]\n",
    "translation = [0.0150125, 2.66028e-05, -0.000210271]\n",
    "intrinsics = {\n",
    "    \"width\": 640, \"height\": 480, \n",
    "    \"ppx\": 320.551, \"ppy\": 232.202, \n",
    "    \"fx\": 626.464, \"fy\": 626.464, \n",
    "    \"model\": \"Brown Conrady\", \n",
    "    \"coeffs\": [0, 0, 0, 0, 0]\n",
    "}\n",
    "\n",
    "F = np.array([\n",
    "    [intrinsics['fx'], 0, intrinsics['ppx']],\n",
    "    [0, intrinsics['fy'], intrinsics['ppy']],\n",
    "    [0,0,1]\n",
    "])\n",
    "R = np.array(rotation).reshape((3, 3))\n",
    "Rinv = np.linalg.inv(R)\n",
    "T = np.array(translation).reshape((3, 1))\n",
    "T2 = np.array([intrinsics['ppx']*0.001, intrinsics['ppy']*0.001, 0, 0]).T\n",
    "print T.T\n",
    "print T2.T"
   ]
  },
  {
   "cell_type": "code",
   "execution_count": null,
   "metadata": {
    "scrolled": true
   },
   "outputs": [],
   "source": [
    "def get_camera_pose(cam_frame = '/ugv1/d415_camera_depth_optical_frame',base_frame = '/ugv/odom'):\n",
    "    listener = tf.TransformListener()\n",
    "    listener.waitForTransform(base_frame,cam_frame, rospy.Time(0), rospy.Duration(8.0))\n",
    "    (trans,rot) = listener.lookupTransform(base_frame,cam_frame, rospy.Time(0))\n",
    "    roll,pitch,yaw = tf.transformations.euler_from_quaternion(rot)\n",
    "\n",
    "    pose = np.array(trans+[np.rad2deg(yaw)])\n",
    "    Tmat = np.array(trans).T\n",
    "    Rmat = tf.transformations.euler_matrix(roll,pitch,yaw,axes='sxyz')\n",
    "    return pose, Rmat, Tmat\n",
    "\n",
    "def get_distance(umap, xs, ds, ys, focal=[462.138,462.138], baseline=0.055, dscale=0.001, pp=[320.551,232.202], method=0, use_principle_point=False):\n",
    "        nonzero = umap.nonzero()\n",
    "        nonzeroy = np.array(nonzero[0])\n",
    "        nonzerox = np.array(nonzero[1])\n",
    "\n",
    "        good_inds = ((nonzeroy >= ds[0]) & (nonzeroy < ds[1]) &\n",
    "                     (nonzerox >= xs[0]) &  (nonzerox < xs[1])).nonzero()[0]\n",
    "\n",
    "        xmean = np.int(np.mean(nonzerox[good_inds]))\n",
    "        ymean = np.mean(ys)\n",
    "        dmean = np.mean(nonzeroy[good_inds])\n",
    "        \n",
    "        if(method == 1): \n",
    "            dist = (focal[0]*baseline)/dmean\n",
    "            z = dist*dscale\n",
    "        else:\n",
    "#             z = np.min(ds)*(65535/255)*dscale\n",
    "            z = dmean*(65535/255)*dscale\n",
    "\n",
    "        if use_principle_point:\n",
    "            px = pp[0]\n",
    "            py = pp[1]\n",
    "        else:\n",
    "            px = 0\n",
    "            py = 0\n",
    "            \n",
    "        x = (xmean - px)/focal[0]\n",
    "        y = (ymean - py)/focal[1]\n",
    "        \n",
    "        x = x * z\n",
    "        y = y * z\n",
    "#         print(\"Distance, X, Y: %.3f, %.3f, %.3f\" % (z, x,y))\n",
    "        return z, x,y, dmean"
   ]
  },
  {
   "cell_type": "code",
   "execution_count": null,
   "metadata": {},
   "outputs": [],
   "source": [
    "test_terra = False\n",
    "umap = io.vboat.umap_raw\n",
    "xs = io.vboat.xBounds\n",
    "ds = np.array(io.vboat.dbounds)\n",
    "obs = io.vboat.obstacles\n",
    "\n",
    "ppx = 320.551; ppy = 232.202; fx = 626.464; fy = 626.464; b = 0.055\n",
    "pp = [ppx, ppy];   focal = [fx,fy]\n",
    "dGain = (65535/255)\n",
    "\n",
    "if(test_terra):\n",
    "    obid = 2\n",
    "    i = 1\n",
    "    # Obstacles terra world\n",
    "    X0 = np.array([\n",
    "        [4.0, -1.0, 0.227],\n",
    "        [3.0, 0, 0.177],\n",
    "        [2.0, -2.0, 0.344]\n",
    "    ])\n",
    "else:\n",
    "    obid = 0\n",
    "    i = 0\n",
    "    # Obstacles offset world\n",
    "#     X0 = np.array([\n",
    "#         [11.59, -3.6, 0.21336],\n",
    "#         [8.576193, -1.165787, 0.21336],\n",
    "#         [5.694473, 2.2, 0.21336]\n",
    "#     ])\n",
    "    X0 = np.array([ [5.0, -3.0, 0.21336] ])\n",
    "\n",
    "\n",
    "pose,RotM,Tmat = get_camera_pose()\n",
    "RotM = RotM[:3,:3]\n",
    "Xk = pose[:2]; yaw = pose[-1]; ang = np.deg2rad(yaw)\n",
    "x1 = X0[obid,0];     y1 = X0[obid,1]\n",
    "dx = x1 - Xk[0];     dy = y1 - Xk[1]\n",
    "true_dist = np.sqrt(dx*dx + dy*dy)-X0[obid,2]\n",
    "\n",
    "print \"Obstacle Disparities: \", ds\n",
    "\n",
    "d = np.mean(ds[i,0])#-1\n",
    "z2 = d * dGain * 0.001\n",
    "\n",
    "# Method 2: --------\n",
    "disparities = ds[i]\n",
    "disparities[0] = disparities[0] - 1\n",
    "us = [obs[i][0][0], obs[i][1][0]]\n",
    "vs = [obs[i][0][1], obs[i][1][1]]\n",
    "z,ux,uy,_ = get_distance(umap,us,disparities,vs, focal=focal,pp=pp,use_principle_point=True)\n",
    "\n",
    "\n",
    "theta = math.atan((ux/z))\n",
    "heading = math.atan(dy/dx)\n",
    "print(yaw,np.rad2deg(heading),np.rad2deg(theta))\n",
    "\n",
    "# print(\"True Dist, Est. Dist (Method #1), (Method #2): %.3f, %.3f, %.3f\" % (true_dist, z, z2) )\n",
    "\n",
    "pxl = np.array([ [ux],[uy],[z] ])\n",
    "RotMinv = np.linalg.inv(RotM.T)\n",
    "print(', '.join(map(str, np.around(Tmat.T,3))))\n",
    "Tmat = Tmat.reshape((3, 1))*-1\n",
    "pos = np.dot(RotMinv, pxl)\n",
    "tmp1 = pos - Tmat\n",
    "# tmp1[0] = tmp1[0] + Xk[0]\n",
    "\n",
    "print \"Camera Location: \", Xk#, yaw\n",
    "# print \"Obstacle Estimated Location: \", tmp1.T[0]\n",
    "# print \"Obstacle True Location: \", X0[obid,:2]\n",
    "\n",
    "strs = []\n",
    "strs.append(', '.join(map(str, np.around(pxl.T[0],3))))\n",
    "strs.append(', '.join(map(str, np.around(pos.T[0],3))))\n",
    "strs.append(', '.join(map(str, np.around(Tmat.T[0],3))))\n",
    "strs.append(', '.join(map(str, np.around(tmp1.T[0][:2],3))))\n",
    "strs.append(', '.join(map(str, np.around(X0[obid,:2],3))))\n",
    "# strs.append(', '.join(map(str, np.around(tmp1.T[0],3))))\n",
    "\n",
    "print(\n",
    "\"\"\"\n",
    "Detected Obstacle Stats:\n",
    "========================\n",
    "\n",
    "    * Distances (True, Est.)    : %.3f, %.3f\n",
    "    * Pixel (X,Y,Z)             : %s\n",
    "    * Rotated Position (X,Y,Z)  : %s\n",
    "    * Translation (X,Y,Z)       : %s\n",
    "    \n",
    "    * Estimated Position (X,Y,Z): %s\n",
    "    * True Position (X,Y,Z)     : %s\n",
    "\"\"\" % (true_dist,z,strs[0],strs[1],strs[2],strs[3],strs[4]) )"
   ]
  },
  {
   "cell_type": "code",
   "execution_count": null,
   "metadata": {},
   "outputs": [],
   "source": [
    "def process_umap(umap):\n",
    "    h, w = umap.shape[:2]\n",
    "    print(\"Umap H,W: %d, %d\"%(h,w))\n",
    "    umax = np.max(umap)\n",
    "    histRange = (0,h)\n",
    "    umean = np.mean(umap)\n",
    "    ustd = np.std(umap)\n",
    "    print(\"Umap mean, std: %.3f, %.3f\"%(umean,ustd))\n",
    "    \n",
    "#     processed = np.zeros((h,w,1), dtype=np.uint8)\n",
    "    processed = np.zeros_like(umap, dtype=np.uint8)\n",
    "\n",
    "    for i in range(0,w):\n",
    "        scan = umap[:,i]\n",
    "        scan = (scan - umean)/ustd\n",
    "        scan = np.reshape(scan,(scan.shape[0],))\n",
    "#         hist = cv2.calcHist([scan],[0],None,[h],histRange)\n",
    "        hist = cv2.equalizeHist(scan)\n",
    "        \n",
    "        processed[:,i] = hist\n",
    "        \n",
    "    processed = np.reshape(processed,(h,w))\n",
    "    return processed\n",
    "    "
   ]
  },
  {
   "cell_type": "code",
   "execution_count": null,
   "metadata": {},
   "outputs": [],
   "source": [
    "umaps = []\n",
    "img = io.img\n",
    "umapRaw = io.vboat.umap_raw\n",
    "umapZoned = io.vboat.umap_deadzoned\n",
    "umaps.append(umapRaw)\n",
    "umaps.append(io.vboat.umap_processed)\n",
    "\n",
    "umean = np.mean(umapRaw)\n",
    "ustd = np.std(umapRaw)\n",
    "imean = np.mean(img)\n",
    "istd = np.std(img)\n",
    "\n",
    "tmp = (umapRaw - umean)/ustd\n",
    "tmp = (img - imean)/istd\n",
    "# tumap, tvmap = io.vboat.get_uv_map(tmp)\n",
    "\n",
    "# tmpU = process_umap(umapRaw)\n",
    "tmpU = cv2.equalizeHist(umapRaw)\n",
    "umaps.append(tmpU)\n",
    "tmpi = tmpU = cv2.equalizeHist(img)\n",
    "umaps.append(img)\n",
    "umaps.append(tmp)\n",
    "umaps.append(tmpi)\n",
    "\n",
    "for i, umap in enumerate(umaps):\n",
    "    pplot(umap,i)"
   ]
  },
  {
   "cell_type": "code",
   "execution_count": null,
   "metadata": {},
   "outputs": [],
   "source": [
    "np.max(umapZoned)"
   ]
  },
  {
   "cell_type": "code",
   "execution_count": null,
   "metadata": {
    "scrolled": true
   },
   "outputs": [],
   "source": [
    "pxl = np.array([ [ux],[uy],[z] ])\n",
    "RotMinv = np.linalg.inv(RotM.T)\n",
    "# Tmat = Tmat.reshape((3, 1))*-1\n",
    "\n",
    "pos = np.dot(RotMinv, pxl)\n",
    "\n",
    "tmp1 = pos - Tmat\n",
    "tmp1[0] = tmp1[0] + Xk[0]\n",
    "\n",
    "print \"Pixel (X,Y,Z): \", pxl.T[0]\n",
    "print \"Position (X,Y,Z): \", pos.T[0]\n",
    "print Tmat.T\n",
    "print \"Temp (X,Y,Z): \", tmp1.T\n",
    "\n",
    "print \"Camera Location: \", Xk, yaw\n",
    "print \"Obstacle Estimated Location: \", tmp1.T\n",
    "print \"Obstacle True Location: \", X0[obid,:2]"
   ]
  },
  {
   "cell_type": "code",
   "execution_count": null,
   "metadata": {},
   "outputs": [],
   "source": [
    "xoff = np.tan(ang)*z\n",
    "yoff = z / np.cos(ang)\n",
    "zoff = (fx*0.001)/np.tan(ang)\n",
    "\n",
    "offs = [xoff, yoff, zoff]\n",
    "location = [yoff, np.asscalar(xoff-pos[0])]\n",
    "# location = [yoff, np.asscalar(xoff+pos[0][0])]\n",
    "\n",
    "print \"Offsets: \", offs\n",
    "print \"Obstacle Estimated Location: \", location"
   ]
  },
  {
   "cell_type": "code",
   "execution_count": null,
   "metadata": {},
   "outputs": [],
   "source": [
    "tpp = [0,1]\n",
    "t,p = tpp \n",
    "print(t,p)"
   ]
  },
  {
   "cell_type": "code",
   "execution_count": null,
   "metadata": {},
   "outputs": [],
   "source": [
    "bot = [0.444806, -0.559817]\n",
    "obs = [2.000000, -2]\n",
    "dx = bot[0] - obs[0]\n",
    "dy = bot[1] - obs[1]\n",
    "dist = np.sqrt(dx*dx + dy*dy)\n",
    "print(dist)"
   ]
  },
  {
   "cell_type": "code",
   "execution_count": null,
   "metadata": {},
   "outputs": [],
   "source": [
    "win = io.vboat.obstacles_umap[0]\n",
    "print(win)\n",
    "crop_img = io.vboat.umap_raw[win[0][1]:win[1][1], win[0][0]:win[1][0]]\n",
    "\n",
    "tmpMean = np.mean(crop_img)\n",
    "print(tmpMean)\n",
    "\n",
    "plt.figure(3)\n",
    "plt.imshow(crop_img)\n",
    "plt.show()"
   ]
  },
  {
   "cell_type": "code",
   "execution_count": null,
   "metadata": {},
   "outputs": [],
   "source": []
  },
  {
   "cell_type": "code",
   "execution_count": null,
   "metadata": {
    "scrolled": true
   },
   "outputs": [],
   "source": [
    "# cam_frame = '/ugv/d415_camera_depth_optical_frame'\n",
    "cam_frame = '/ugv/d415_camera_depth_optical_frame'\n",
    "base_frame = '/ugv/odom'\n",
    "listener = tf.TransformListener()\n",
    "listener.waitForTransform(base_frame,cam_frame, rospy.Time(0), rospy.Duration(8.0))\n",
    "(trans,rot) = listener.lookupTransform(base_frame,cam_frame, rospy.Time(0))\n",
    "roll,pitch,yaw = tf.transformations.euler_from_quaternion(rot)\n",
    "\n",
    "print\n",
    "print np.rad2deg([roll,pitch,yaw])\n",
    "print\n",
    "print(tf.transformations.quaternion_matrix(rot))\n",
    "print\n",
    "rotot = tf.transformations.euler_matrix(roll,pitch,yaw).T\n",
    "print(rotot)\n",
    "print \n",
    "R11 = np.cos(pitch)*np.cos(yaw)\n",
    "R12 = np.cos(pitch)*np.sin(yaw)\n",
    "R13 = -np.sin(pitch)\n",
    "R1 = [R11, R12, R13]\n",
    "\n",
    "R21 = -(np.cos(roll)*np.sin(yaw)) + (np.sin(roll)*np.sin(pitch)*np.cos(yaw))\n",
    "R22 = (np.cos(roll)*np.cos(yaw)) + np.sin(roll)*np.sin(pitch)*np.sin(yaw)\n",
    "R23 = np.sin(roll)*np.cos(pitch)\n",
    "R2 = [R21,R22,R23]\n",
    "\n",
    "R31 = (np.sin(roll)*np.sin(yaw))+(np.cos(roll)*np.sin(pitch)*np.cos(yaw))\n",
    "R32 = -(np.sin(roll)*np.cos(yaw)) + (np.cos(roll)*np.sin(pitch)*np.sin(yaw))\n",
    "R33 = np.cos(roll)*np.cos(pitch)\n",
    "R3 = [R31,R32,R33]\n",
    "\n",
    "testRot = np.array([R1,R2,R3])\n",
    "print(testRot)\n",
    "print(testRot - rotot[:3,:3])"
   ]
  },
  {
   "cell_type": "code",
   "execution_count": null,
   "metadata": {},
   "outputs": [],
   "source": [
    "pxl = np.array([ [ux],[uy],[z] ])\n",
    "RotMinvT = np.linalg.inv(testRot)\n",
    "# Tmat = Tmat.reshape((3, 1))*-1\n",
    "\n",
    "poss = np.dot(RotMinvT, pxl)\n",
    "\n",
    "tmp1s = poss - Tmat\n",
    "# tmp1s[0] = tmp1s[0] + Xk[0]\n",
    "\n",
    "print \"Pixel (X,Y,Z): \", pxl.T[0]\n",
    "print \"Position (X,Y,Z): \", poss.T[0]\n",
    "print Tmat.T\n",
    "print \"Temp (X,Y,Z): \", tmp1s.T\n",
    "\n",
    "print \"Camera Location: \", Xk\n",
    "print \"Obstacle Estimated Location: \", tmp1s.T\n",
    "print \"Obstacle True Location: \", X0[obid,:2]"
   ]
  },
  {
   "cell_type": "code",
   "execution_count": null,
   "metadata": {},
   "outputs": [],
   "source": [
    "tmp = np.dot(mat,np.vstack([pos,1]))\n",
    "print tmp\n",
    "print\n",
    "print pos\n",
    "print\n",
    "print xoff,yoff,zoff"
   ]
  },
  {
   "cell_type": "code",
   "execution_count": null,
   "metadata": {},
   "outputs": [],
   "source": [
    "(t,r) = listener.lookupTransform(\"ugv/base_link\",cam_frame, rospy.Time(0))\n",
    "print(t)"
   ]
  },
  {
   "cell_type": "code",
   "execution_count": null,
   "metadata": {},
   "outputs": [],
   "source": [
    "math.atan((0.5*640)/626.464)/0.5"
   ]
  },
  {
   "cell_type": "code",
   "execution_count": null,
   "metadata": {},
   "outputs": [],
   "source": [
    "tImg = np.copy(io.vboat.img)\n",
    "umap = io.vboat.umap_raw\n",
    "vmap = io.vboat.vmap_raw\n",
    "deadu = io.vboat.umap_deadzoned\n",
    "pv = io.vboat.vmap_processed\n",
    "\n",
    "\n",
    "pplot(tImg,'Input')\n",
    "pplot(umap,'Raw Umap')\n",
    "# pplot(vmap,'Raw Vmap')\n",
    "pplot(deadu,'Deadzoned Umap')\n",
    "\n",
    "# pplot(pU,1)\n",
    "pplot(io.vboat.umap_processed,'Processed Umap')\n",
    "\n",
    "# tmpU = cv2.equalizeHist(deadu)\n",
    "_, tmpU = cv2.threshold(deadu, 10, 255,cv2.THRESH_TOZERO)\n",
    "pplot(tmpU,1)"
   ]
  },
  {
   "cell_type": "code",
   "execution_count": null,
   "metadata": {},
   "outputs": [],
   "source": []
  },
  {
   "cell_type": "code",
   "execution_count": 306,
   "metadata": {},
   "outputs": [],
   "source": [
    "def generate_waypoints(initial_conditions, trajectory_type=\"line\", x_offset=None, y_offset=None, input_range=(0,45),dInput=5,input_offset=0, ccw=False, radius=None, verbose=False):\n",
    "        trajectory_type = str(trajectory_type)\n",
    "        x0, y0, z0, yaw0 = initial_conditions[:4]\n",
    "        v0, wmax = initial_conditions[-2:]\n",
    "        if radius is None: radius = v0 / wmax\n",
    "\n",
    "        if(x_offset is None): x_offset = x0\n",
    "        if(y_offset is None): y_offset = y0\n",
    "\n",
    "        ins = []\n",
    "        if(trajectory_type == \"line\"):\n",
    "            in_start = input_range[0] + input_offset; in_end = input_range[-1] + dInput\n",
    "            ins = np.arange(in_start,in_end,dInput)\n",
    "            xs = ins * np.cos(np.deg2rad(yaw0)) + x_offset\n",
    "            ys = ins * np.sin(np.deg2rad(yaw0)) + y_offset\n",
    "        elif(trajectory_type == \"circle\"):\n",
    "            if(ccw):\n",
    "                in_end = input_range[0]; in_start = input_range[-1] + dInput\n",
    "                dInput = -dInput\n",
    "            else:\n",
    "                in_start = input_range[0]; in_end = input_range[-1] + dInput\n",
    "            ins = np.deg2rad(np.arange(in_start,in_end,dInput) + input_offset)\n",
    "            xs = radius * np.cos(ins) + x_offset\n",
    "            ys = radius * np.sin(ins) + y_offset#- radius\n",
    "        else:\n",
    "            print(\"[WARNING] ----- Trajectory [%s] defined for \\'generate_waypoints()\\' is either invalid or not yet supported!\" % (trajectory_type))\n",
    "            xs = np.array([])\n",
    "            ys = np.array([])\n",
    "\n",
    "        if(verbose): print(x0, y0, z0, yaw0, v0, wmax,trajectory_type)\n",
    "        nPts = xs.shape[0]\n",
    "        # TODO:\n",
    "        zs = np.ones_like(xs) * z0\n",
    "        return nPts, xs, ys, zs"
   ]
  },
  {
   "cell_type": "code",
   "execution_count": 364,
   "metadata": {},
   "outputs": [
    {
     "name": "stdout",
     "output_type": "stream",
     "text": [
      "('states: ', [0, -3.79386, -50.939762, [120], 1.534077, 0.09746662053397685])\n"
     ]
    }
   ],
   "source": [
    "gzX = 0; gzY = -3.79386; gzZ = -50.939762; gzYaw = -61.267316; desired_vel = 1.534077; omega_max = 5.584426\n",
    "\n",
    "ins = np.arange(0,360,15)\n",
    "start = random.sample(ins,1)\n",
    "\n",
    "states = [gzX,gzY,gzZ, start, desired_vel,np.deg2rad(omega_max)]\n",
    "print(\"states: \", states)\n",
    "# n, xs, ys, zs = generate_waypoints(states, trajectory_type='circle', input_offset=start, dInput=15, input_range=(0,360), radius=10, x_offset=0,y_offset=-0, ccw=True)\n",
    "# n, xs, ys, zs = generate_waypoints(states, trajectory_type='circle', input_offset=-45, dInput=15, input_range=(0,360), radius=10.0, x_offset=0,y_offset=0, ccw=False)\n",
    "\n",
    "\n",
    "n, xs, ys, zs = generate_waypoints(states, trajectory_type='line', y_offset=38.0, input_offset=-20.0, dInput=15)\n",
    "\n",
    "plt.figure(\"Circle Trajectory\")\n",
    "plt.clf()\n",
    "plt.plot(xs,ys, 'g-')\n",
    "plt.plot(0,0, 'rX')\n",
    "plt.plot(0,38, 'rx')\n",
    "# plt.plot(gzX,gzY, marker=(1, 1, start[0]+15),markersize=20)\n",
    "plt.plot(xs[0],ys[0], 'kD')\n",
    "plt.plot(xs[1],ys[1], 'kx')\n",
    "plt.axis('equal')\n",
    "plt.show()"
   ]
  },
  {
   "cell_type": "code",
   "execution_count": 145,
   "metadata": {},
   "outputs": [
    {
     "data": {
      "text/plain": [
       "120"
      ]
     },
     "execution_count": 145,
     "metadata": {},
     "output_type": "execute_result"
    }
   ],
   "source": [
    "import random\n",
    "ins = np.arange(0,360,15)\n",
    "start = random.sample(ins,1)\n",
    "start[0]"
   ]
  },
  {
   "cell_type": "code",
   "execution_count": 202,
   "metadata": {},
   "outputs": [
    {
     "name": "stdout",
     "output_type": "stream",
     "text": [
      "1.3089969389957472\n",
      "77.5742455730295\n",
      "-0.2168703267948966\n"
     ]
    }
   ],
   "source": [
    "print(np.deg2rad(75.0))\n",
    "print(np.rad2deg(1.353926))\n",
    "print( 1.353926 - np.deg2rad(90))"
   ]
  },
  {
   "cell_type": "code",
   "execution_count": 297,
   "metadata": {},
   "outputs": [
    {
     "name": "stdout",
     "output_type": "stream",
     "text": [
      "(281.84645024349976, 0.7668346149621814, 216.12961415093176)\n"
     ]
    }
   ],
   "source": [
    "forceGain = 250\n",
    "std = 100\n",
    "fz = random.gauss(forceGain,std)\n",
    "g = random.random()\n",
    "print(fz, g, fz*g)"
   ]
  },
  {
   "cell_type": "code",
   "execution_count": null,
   "metadata": {},
   "outputs": [],
   "source": []
  },
  {
   "cell_type": "code",
   "execution_count": null,
   "metadata": {},
   "outputs": [],
   "source": []
  },
  {
   "cell_type": "code",
   "execution_count": 8,
   "metadata": {},
   "outputs": [],
   "source": [
    "import fnmatch, pprint, os\n",
    "import numpy as np\n",
    "def grab_dir_images(_dir, patterns = ['*png','*jpg'],verbose=False):\n",
    "    found_paths = []\n",
    "    for root, dirs, files in os.walk(_dir):\n",
    "        for pat in patterns:\n",
    "            for file in files:\n",
    "                if fnmatch.fnmatch(file, pat):\n",
    "                    found_paths.append(os.path.join(root, file))\n",
    "\n",
    "    imgs = [cv2.imread(path) for path in found_paths]\n",
    "    if(verbose): print(\"Found [%d] Images in [%s]\" % (len(imgs),_dir))\n",
    "    return found_paths, imgs\n",
    "\n",
    "def get_collection_image_stats(_dir, patterns = ['*truth*.png'],verbose=True):\n",
    "    paths,imgs = grab_dir_images(_dir,patterns=patterns)\n",
    "    nTotal = len(paths)\n",
    "    nPipes = nOnlyGnd = nNoData = 0\n",
    "    pipeImgPaths = []\n",
    "    pipeImgs = []\n",
    "    for i,img in enumerate(imgs):\n",
    "        has_pipe = False\n",
    "        has_gnd = False\n",
    "\n",
    "        uniquePipe = np.unique(img[:,:,1])\n",
    "        uniqueGnd = np.unique(img[:,:,0])\n",
    "\n",
    "        if 255 in uniquePipe: has_pipe = True\n",
    "        if 255 in uniqueGnd: has_gnd = True\n",
    "\n",
    "        if has_pipe:\n",
    "            pipeImgPaths.append(paths[i])\n",
    "            pipeImgs.append(imgs[i])\n",
    "            nPipes+=1\n",
    "        elif not has_pipe and has_gnd: nOnlyGnd+=1\n",
    "        elif not has_pipe and not has_gnd: nNoData+=1\n",
    "    if(verbose):\n",
    "        print(\"[Total] -- Have Pipe --|-- Only Ground --|-- No Data --|\")\n",
    "        print(\"========================================================\")\n",
    "        print(\"[%d] --\\t%d\\t|\\t%d\\t|\\t%d\\t|\" % (nTotal,nPipes,nOnlyGnd,nNoData))\n",
    "        \n",
    "    return nTotal,nPipes,nOnlyGnd,nNoData,pipeImgPaths,pipeImgs"
   ]
  },
  {
   "cell_type": "code",
   "execution_count": 58,
   "metadata": {},
   "outputs": [
    {
     "name": "stdout",
     "output_type": "stream",
     "text": [
      "[Total] -- Have Pipe --|-- Only Ground --|-- No Data --|\n",
      "========================================================\n",
      "[32040] --\t8913\t|\t21807\t|\t1320\t|\n"
     ]
    }
   ],
   "source": [
    "import cv2\n",
    "\n",
    "# tmpDir = \"/home/hyoung/aauuvsim_ws/src/aa_s4/experiments/datasets-03_20_2019-13_11_07\"\n",
    "tmpDir = \"/home/hyoung/data/assured_autonomy/experiments\"\n",
    "\n",
    "\n",
    "nTot,nPipes,nOnlyGnd,nNoData,pipeImgPaths,pipeImgs = get_collection_image_stats(tmpDir)\n",
    "\n",
    "\n",
    "\n",
    "# tmpDir = os.path.dirname(paths[i])\n",
    "# imgName = os.path.basename(paths[i])\n",
    "# tmp = string.split(tmp,'/')\n",
    "# foundPath = tmp[-3:]+ [imgName]\n",
    "# fPath = string.join(foundPath,'/')\n",
    "\n"
   ]
  },
  {
   "cell_type": "code",
   "execution_count": 65,
   "metadata": {},
   "outputs": [
    {
     "name": "stdout",
     "output_type": "stream",
     "text": [
      "validation\n"
     ]
    }
   ],
   "source": [
    "tmps = [os.path.dirname(p).split('/') for p in pipeImgPaths]\n",
    "# tmps = np.array(tmps)\n",
    "# print(np.unique(tmps))\n",
    "# print(tmps[4])\n",
    "\n",
    "if \"training\" in tmps[4]: dataTypes = 'training'\n",
    "else: dataTypes = 'validation'\n",
    "    \n",
    "print(dataTypes)"
   ]
  },
  {
   "cell_type": "code",
   "execution_count": 73,
   "metadata": {
    "scrolled": true
   },
   "outputs": [
    {
     "name": "stdout",
     "output_type": "stream",
     "text": [
      "[Total] -- Have Pipe --|-- Only Ground --|-- No Data --|\n",
      "========================================================\n",
      "[13570] --\t1998\t|\t10322\t|\t1250\t|\n",
      "[INFO] create_pipe_only_dataset --- Finished Creating New Dataset Directory\n"
     ]
    }
   ],
   "source": [
    "import string, sys\n",
    "\n",
    "sys.path.append(\"/home/hyoung/aa_ws/src/assured_autonomy/aa_s4/scripts/utils\")\n",
    "\n",
    "from misc_utils import *\n",
    "\n",
    "# tmpDir = \"/home/hyoung/data/assured_autonomy/experiments/cron_generated-3-21-19\"\n",
    "tmpDir = \"/home/hyoung/data/assured_autonomy/experiments\"\n",
    "\n",
    "p1, p2 = create_pipe_only_dataset(tmpDir,\"/home/hyoung/tmp/pipe_compilation_dataset\", verbose=True)\n",
    "# print(p1[0])"
   ]
  },
  {
   "cell_type": "code",
   "execution_count": 72,
   "metadata": {},
   "outputs": [
    {
     "name": "stdout",
     "output_type": "stream",
     "text": [
      "['training']\n",
      "/home/hyoung/tmp/pipe_compilation_dataset/training/raw_image_left_1926.png\n"
     ]
    }
   ],
   "source": [
    "ts = np.array(ts)\n",
    "print(np.unique(ts))\n",
    "print(p1[1926])"
   ]
  },
  {
   "cell_type": "code",
   "execution_count": 42,
   "metadata": {},
   "outputs": [],
   "source": [
    "idx = 20\n",
    "pplot(rawImgs[idx],'raw')\n",
    "pplot(pipeImgs[idx],'gt')"
   ]
  },
  {
   "cell_type": "code",
   "execution_count": 406,
   "metadata": {},
   "outputs": [
    {
     "name": "stdout",
     "output_type": "stream",
     "text": [
      "[Time]\t\tnSyncs,\t nImgs,\t totalImgs\n",
      "==============================================================\n",
      "[1553132197.44]\t 15,\t 15,\t 45"
     ]
    }
   ],
   "source": [
    "import time,sys\n",
    "from __future__ import print_function\n",
    "nimgs = 0\n",
    "\n",
    "print(\"[Time]\\t\\tnSyncs,\\t nImgs,\\t totalImgs\")\n",
    "print(\"==============================================================\")\n",
    "for i in range(3):\n",
    "    for exp in range(15):\n",
    "        t = time.time()\n",
    "        nimgs+=1\n",
    "        strDesc = str(\"\\r[%.2f]\\t %d,\\t %d,\\t %d\" % (t,exp+1,exp+1,nimgs))\n",
    "        print(strDesc,end=\"\")\n",
    "        sys.stdout.flush()\n",
    "        time.sleep(0)"
   ]
  },
  {
   "cell_type": "code",
   "execution_count": 68,
   "metadata": {},
   "outputs": [
    {
     "data": {
      "text/plain": [
       "3996"
      ]
     },
     "execution_count": 68,
     "metadata": {},
     "output_type": "execute_result"
    }
   ],
   "source": [
    "1998*2"
   ]
  },
  {
   "cell_type": "code",
   "execution_count": 14,
   "metadata": {},
   "outputs": [
    {
     "name": "stdout",
     "output_type": "stream",
     "text": [
      "['DEFAULT_MASTER_PORT', 'Master', 'NAME', 'NUM_WORKERS', 'Node', 'Process', 'RLException', 'ROSLaunch', 'ROSLaunchConfig', 'ROSLaunchRunner', 'Test', 'XmlLoader', 'XmlParseException', '__builtins__', '__doc__', '__file__', '__name__', '__package__', '__path__', '_get_optparse', '_validate_args', 'config', 'configure_logging', 'core', 'depends', 'handle_exception', 'launch', 'loader', 'logging', 'main', 'node_args', 'nodeprocess', 'os', 'param_dump', 'parent', 'pmon', 'print_function', 'rlutil', 'roslaunch_core', 'roslaunch_param_dump', 'rospkg', 'scriptapi', 'server', 'substitution_args', 'sys', 'traceback', 'write_pid_file', 'xmlloader']\n"
     ]
    },
    {
     "data": {
      "text/plain": [
       "'roslaunch'"
      ]
     },
     "execution_count": 14,
     "metadata": {},
     "output_type": "execute_result"
    }
   ],
   "source": [
    "import roslaunch\n",
    "print(dir(roslaunch))\n",
    "roslaunch.__package__"
   ]
  },
  {
   "cell_type": "code",
   "execution_count": null,
   "metadata": {},
   "outputs": [],
   "source": []
  }
 ],
 "metadata": {
  "kernelspec": {
   "display_name": "Python 2",
   "language": "python",
   "name": "python2"
  },
  "language_info": {
   "codemirror_mode": {
    "name": "ipython",
    "version": 2
   },
   "file_extension": ".py",
   "mimetype": "text/x-python",
   "name": "python",
   "nbconvert_exporter": "python",
   "pygments_lexer": "ipython2",
   "version": "2.7.12"
  }
 },
 "nbformat": 4,
 "nbformat_minor": 2
}
