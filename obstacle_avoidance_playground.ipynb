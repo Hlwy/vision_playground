{
 "cells": [
  {
   "cell_type": "code",
   "execution_count": 5,
   "metadata": {},
   "outputs": [
    {
     "name": "stdout",
     "output_type": "stream",
     "text": [
      "The autoreload extension is already loaded. To reload it, use:\n",
      "  %reload_ext autoreload\n"
     ]
    }
   ],
   "source": [
    "%matplotlib qt5\n",
    "%load_ext autoreload\n",
    "%autoreload 2\n",
    "from __future__ import print_function\n",
    "\n",
    "import os, sys, fnmatch, math\n",
    "import cv2, time\n",
    "import numpy as np\n",
    "import argparse, pprint\n",
    "from matplotlib import pyplot as plt\n",
    "\n",
    "import ipywidgets as widgets\n",
    "from IPython.display import display\n",
    "from ipywidgets import interact, interactive, IntSlider, Layout, interact_manual,interact, HBox, Layout,VBox\n",
    "\n",
    "pp = pprint.PrettyPrinter(indent=4)\n",
    "homeDir = os.path.abspath('')"
   ]
  },
  {
   "cell_type": "code",
   "execution_count": null,
   "metadata": {},
   "outputs": [],
   "source": [
    "k = 0.1  # look forward gain\n",
    "Lfc = 1.0  # look-ahead distance\n",
    "Kp = 1.0  # speed propotional gain\n",
    "dt = 0.1  # [s]\n",
    "b = 2.9  # [m] wheel base of vehicle\n",
    "epsilon = 0.5\n",
    "angles = []\n",
    "show_animation = True\n",
    "\n",
    "class State:\n",
    "    def __init__(self, x=0.0, y=0.0, yaw=0.0, v=0.0):\n",
    "        self.x = x\n",
    "        self.y = y\n",
    "        self.yaw = yaw\n",
    "        self.v = v\n",
    "\n",
    "\n",
    "def update(state, a, delta):\n",
    "    state.x = state.x + state.v * math.cos(state.yaw) * dt\n",
    "    state.y = state.y + state.v * math.sin(state.yaw) * dt\n",
    "    state.yaw = state.yaw + state.v / b * math.tan(delta) * dt\n",
    "    state.v = state.v + a * dt\n",
    "    return state\n",
    "\n",
    "def calcAvoidance(state, obs, dc=2.0, d0=1):\n",
    "    xk = state.x;    yk = state.y;    yawk = state.yaw\n",
    "    dxs = obs[:,0] - xk;        dys = obs[:,1] - yk\n",
    "    ds = np.sqrt(dxs ** 2 + dys ** 2)\n",
    "    \n",
    "    fx, fy = 0,0\n",
    "    d = 0\n",
    "    angD = -180.0\n",
    "    flag_skip = False\n",
    "    Ravoids = []\n",
    "    for i,dist in enumerate(ds):\n",
    "        if(dist<=dc):\n",
    "            d = dist\n",
    "            dx = obs[i,0] - xk\n",
    "            dy = obs[i,1] - yk\n",
    "            alpha_i = math.atan2(dy,dx) - yawk\n",
    "            angD = np.rad2deg(alpha_i)\n",
    "#             print(\"Angle to Obstacle: %.3f\" % angD)\n",
    "            angles.append(angD)\n",
    "            if(angD > 90.0 or angD < -90.0):\n",
    "                flag_skip = True\n",
    "            holo_dist_i = (dist*alpha_i)/math.sin(alpha_i)\n",
    "            c1 = dc+d0\n",
    "            c2 = holo_dist_i + d0\n",
    "            const1 = -((1/(c1*c1))-(1/(c2*c2)))\n",
    "            fxi = const1*(dx/dist)\n",
    "            fyi = const1*(dy/dist)\n",
    "            Fi = np.sqrt(fxi*fxi+fyi*fyi)\n",
    "            fx += fxi;        fy += fyi\n",
    "            ka = (2/(Fi*Lfc))+5\n",
    "            if(alpha_i == 0): Ravoids.append(1/(ka*Fi))\n",
    "            else: Ravoids.append((-1*np.sign(alpha_i))/(ka*Fi))\n",
    "   \n",
    "    if(len(Ravoids) is not 0):\n",
    "        R = np.max(Ravoids)\n",
    "        Kavoid = 1/(R)\n",
    "        gain = (d/dc)\n",
    "        gain = 1 - gain\n",
    "        Kavoid = Kavoid * (gain)\n",
    "    else:\n",
    "        Kavoid = 0\n",
    "    if(flag_skip):\n",
    "        Kavoid = 0\n",
    "    return Kavoid\n",
    "\n",
    "def PIDControl(target, current):\n",
    "    return Kp * (target - current)\n",
    "\n",
    "def update_target(state, targets, pind, obs):\n",
    "    nMax = targets.shape[0]\n",
    "\n",
    "    tx = targets[pind,0];    ty = targets[pind,1]\n",
    "    dx = tx - state.x;       dy = ty - state.y\n",
    "    dist = np.sqrt(dx*dx + dy*dy)\n",
    "    if(dist <= epsilon): ind = pind + 1\n",
    "    else: ind = pind\n",
    "    if ind >= nMax: ind = nMax - 1\n",
    "\n",
    "    alpha = math.atan2(ty - state.y, tx - state.x) - state.yaw\n",
    "    if state.v < 0: alpha = math.pi - alpha\n",
    "\n",
    "    Lf = k * state.v + Lfc\n",
    "    Ktrack = (2*math.sin(alpha))/Lf\n",
    "    Kavoid = calcAvoidance(state,obs,5)\n",
    "    Ktotal = Ktrack + Kavoid\n",
    "#     print(Ktotal)\n",
    "    stre = (\"\\rKtrack, Kavoid: %.3f, %.3f\"% (Ktrack,Kavoid))\n",
    "    print(stre,end=\"\")\n",
    "    sys.stdout.flush()\n",
    "#     delta = math.atan2(2.0 * b * math.sin(alpha) / Lf, 1.0)\n",
    "    delta = math.atan2(Ktotal * b, 1.0)\n",
    "    return delta, ind\n",
    "\n",
    "history = []\n",
    "def main():\n",
    "    cx = np.arange(0, 50, 10)\n",
    "    cy = [math.sin(ix / 5.0) * ix / 2.0 for ix in cx]\n",
    "    targets = np.array([cx, cy]).T\n",
    "      \n",
    "    ox = [5,15]\n",
    "    oy = [2.5,-1.3]\n",
    "    obs = np.array([ox,oy]).T\n",
    "    target_speed = 10.0 / 3.6  # [m/s]\n",
    "    T = 100.0  # max simulation time\n",
    "\n",
    "    # initial state\n",
    "    state = State(x=-0.0, y=-3.0, yaw=0.0, v=0.0)\n",
    "\n",
    "    lastIndex = len(cx) - 1\n",
    "    time = 0.0\n",
    "    x = [state.x];    y = [state.y];    yaw = [state.yaw];    v = [state.v];    t = [0.0]\n",
    "    target_ind = 0\n",
    "\n",
    "    history.append([t,x,y,yaw, v])\n",
    "    while T >= time and lastIndex > target_ind:\n",
    "        ai = PIDControl(target_speed, state.v)\n",
    "        di, target_ind = update_target(state, targets, target_ind,obs)\n",
    "        state = update(state, ai, di)\n",
    "\n",
    "        time = time + dt\n",
    "\n",
    "        x.append(state.x)\n",
    "        y.append(state.y)\n",
    "        yaw.append(state.yaw)\n",
    "        v.append(state.v)\n",
    "        t.append(time)\n",
    "        history.append([time,state.x,state.y,state.yaw, state.v])\n",
    "        \n",
    "        if show_animation:  # pragma: no cover\n",
    "            plt.cla()\n",
    "            plt.plot(cx, cy, \".r\", label=\"course\")\n",
    "            plt.plot(ox, oy, \"s\", label=\"obstacle\")\n",
    "            plt.plot(x, y, \"-b\", label=\"trajectory\")\n",
    "            plt.plot(cx[target_ind], cy[target_ind], \"xg\", label=\"target\")\n",
    "            plt.axis(\"equal\")\n",
    "            plt.grid(True)\n",
    "            plt.title(\"Speed[km/h]:\" + str(state.v * 3.6)[:4])\n",
    "            plt.pause(0.001)\n",
    "\n",
    "    # Test\n",
    "    assert lastIndex >= target_ind, \"Cannot goal\"\n",
    "\n",
    "    if show_animation:  # pragma: no cover\n",
    "        plt.cla()\n",
    "        plt.plot(cx, cy, \".r\", label=\"course\")\n",
    "        plt.plot(ox, oy, \"s\", label=\"obstacle\")\n",
    "        plt.plot(x, y, \"-b\", label=\"trajectory\")\n",
    "        plt.legend()\n",
    "        plt.xlabel(\"x[m]\")\n",
    "        plt.ylabel(\"y[m]\")\n",
    "        plt.axis(\"equal\")\n",
    "        plt.grid(True)"
   ]
  },
  {
   "cell_type": "code",
   "execution_count": null,
   "metadata": {
    "scrolled": true
   },
   "outputs": [],
   "source": [
    "print(\"Pure pursuit path tracking simulation start\")\n",
    "main()"
   ]
  },
  {
   "cell_type": "code",
   "execution_count": null,
   "metadata": {},
   "outputs": [],
   "source": []
  },
  {
   "cell_type": "code",
   "execution_count": null,
   "metadata": {},
   "outputs": [],
   "source": [
    "for i in range(29):\n",
    "    stre = (\"\\rAngle: %d\"%i)\n",
    "    print(stre,end=\"\")\n",
    "    time.sleep(0.5)\n",
    "    sys.stdout.flush()"
   ]
  },
  {
   "cell_type": "code",
   "execution_count": 12,
   "metadata": {},
   "outputs": [
    {
     "data": {
      "text/plain": [
       "53.438011686150105"
      ]
     },
     "execution_count": 12,
     "metadata": {},
     "output_type": "execute_result"
    }
   ],
   "source": [
    "np.rad2deg(0.9326692496425261)"
   ]
  },
  {
   "cell_type": "code",
   "execution_count": 13,
   "metadata": {},
   "outputs": [
    {
     "data": {
      "text/plain": [
       "4.0"
      ]
     },
     "execution_count": 13,
     "metadata": {},
     "output_type": "execute_result"
    }
   ],
   "source": [
    "(2*math.sin(np.deg2rad(90)))/0.5"
   ]
  },
  {
   "cell_type": "code",
   "execution_count": null,
   "metadata": {},
   "outputs": [],
   "source": []
  }
 ],
 "metadata": {
  "kernelspec": {
   "display_name": "Python 2",
   "language": "python",
   "name": "python2"
  },
  "language_info": {
   "codemirror_mode": {
    "name": "ipython",
    "version": 2
   },
   "file_extension": ".py",
   "mimetype": "text/x-python",
   "name": "python",
   "nbconvert_exporter": "python",
   "pygments_lexer": "ipython2",
   "version": "2.7.15rc1"
  }
 },
 "nbformat": 4,
 "nbformat_minor": 2
}
