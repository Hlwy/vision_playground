{
 "cells": [
  {
   "cell_type": "code",
   "execution_count": 42,
   "metadata": {},
   "outputs": [
    {
     "name": "stdout",
     "output_type": "stream",
     "text": [
      "The autoreload extension is already loaded. To reload it, use:\n",
      "  %reload_ext autoreload\n"
     ]
    }
   ],
   "source": [
    "%matplotlib qt5\n",
    "%load_ext autoreload\n",
    "%autoreload 2\n",
    "import os, sys, fnmatch\n",
    "import cv2, time\n",
    "import numpy as np\n",
    "import argparse, pprint\n",
    "import matplotlib\n",
    "\n",
    "from matplotlib import pyplot as plt\n",
    "from matplotlib.ticker import NullFormatter\n",
    "from matplotlib.transforms import Bbox\n",
    "import matplotlib.gridspec as gridspec\n",
    "\n",
    "import ipywidgets as widgets\n",
    "from IPython.display import display\n",
    "from ipywidgets import interact, interactive, IntSlider, Layout, interact_manual,interact, HBox, Layout,VBox\n",
    "\n",
    "pp = pprint.PrettyPrinter(indent=4)\n",
    "homeDir = os.path.abspath('')\n",
    "\n",
    "# if homeDir not in sys.path:\n",
    "#     sys.path.append(homeDir)\n",
    "\n",
    "from utils.playground_utils import *\n",
    "from src.UVMappingPipeline import UVMappingPipeline"
   ]
  },
  {
   "cell_type": "code",
   "execution_count": 47,
   "metadata": {
    "scrolled": false
   },
   "outputs": [
    {
     "data": {
      "application/vnd.jupyter.widget-view+json": {
       "model_id": "cf4878b8872043f88ec58f8137e30b3c",
       "version_major": 2,
       "version_minor": 0
      },
      "text/plain": [
       "VkJveChjaGlsZHJlbj0oVkJveChjaGlsZHJlbj0oSEJveChjaGlsZHJlbj0oU2VsZWN0KGRlc2NyaXB0aW9uPXUnRmlsZTonLCBsYXlvdXQ9TGF5b3V0KHdpZHRoPXUnMTAwJScpLCBvcHRpb27igKY=\n"
      ]
     },
     "metadata": {},
     "output_type": "display_data"
    }
   ],
   "source": [
    "%reload_ext autoreload\n",
    "plt.close('all')\n",
    "pipe = UVMappingPipeline()\n",
    "p = interactive(pipe.pipeline,\n",
    "    _img = widgets.Select(\n",
    "                        options=sorted(found_imgs),\n",
    "                        value=str(sorted(found_imgs)[0]),\n",
    "                        description='File:',\n",
    "                        layout=Layout(width='100%')\n",
    "                    ),\n",
    "    line_method = {'Standard Hough Transform':0,'Probabilistic Hough Transform':1},\n",
    "    input_method = {'Classic Thresholded':0,'Morphed Thresholded':1,'Canny Edges':2},\n",
    "    e1 = (1,255,1), e2 = (1,255,1),\n",
    "    ang = (0,360,1), rho = (1,1000,1),\n",
    "    minLineLength = (0,255,1), maxLineGap = (0,255,1),\n",
    "    houghThresh = (0,255,1), greyThresh = (0,255,1), cnt_thresh = (0,5000,100),\n",
    "    show_helpers = True, use_umap = True, flip_thresh_bin = False\n",
    ")\n",
    "\n",
    "\n",
    "row1 = HBox([p.children[0]])\n",
    "row2 = HBox([p.children[1], p.children[2]], layout = Layout(flex_flow='row wrap'))\n",
    "row3 = HBox([p.children[3], p.children[4]], layout = Layout(flex_flow='row wrap'))\n",
    "row4 = HBox([p.children[5], p.children[6], p.children[7], p.children[8]], layout = Layout(display='flex',flex_flow='row'))\n",
    "row5 = HBox([p.children[9], p.children[10], p.children[11]], layout = Layout(flex_flow='row wrap'))\n",
    "row6 = HBox([p.children[12], p.children[13], p.children[14]], layout = Layout(flex_flow='row wrap'))\n",
    "controls = VBox([row1,row2,row3,row4,row5,row6], layout = Layout(display='flex'))\n",
    "output = p.children[-1]\n",
    "display(VBox([controls, output]))"
   ]
  },
  {
   "cell_type": "code",
   "execution_count": 41,
   "metadata": {},
   "outputs": [
    {
     "data": {
      "text/plain": [
       "0"
      ]
     },
     "execution_count": 41,
     "metadata": {},
     "output_type": "execute_result"
    }
   ],
   "source": [
    "plot_image(pipe.greyV,0)\n"
   ]
  },
  {
   "cell_type": "code",
   "execution_count": null,
   "metadata": {},
   "outputs": [],
   "source": [
    "found_imgs = grab_dir_images(homeDir)\n",
    "\n",
    "e1 = 2; e2 = 5; houghThresh = 50; greyThresh = 11; cnt_thresh = 500.0\n",
    "# img = cv2.imread('/home/hunter/devel/vision_playground/test/frames/frame_545.jpg',cv2.IMREAD_GRAYSCALE)\n",
    "img = cv2.imread('/home/hunter/devel/vision_playground/test/frames/frame_300.jpg',cv2.IMREAD_GRAYSCALE)\n",
    "umap,vmap, overlay = uvMapping(img)\n",
    "\n",
    "tmpIn = np.copy(vmap)\n",
    "tmp = cv2.cvtColor(tmpIn,cv2.COLOR_GRAY2BGR)\n",
    "n,m,_ = tmp.shape\n",
    "filtered = np.zeros((n,m,3),dtype=np.uint8)\n",
    "masking = cv2.THRESH_BINARY\n",
    "            \n",
    "kernel = np.ones((2,5),np.uint8)\n",
    "kernel2 = np.ones((4,4),np.uint8)\n",
    "\n",
    "ret, grey = cv2.threshold(tmpIn,greyThresh,255,masking)\n",
    "dilation = cv2.dilate(grey,kernel,iterations = 1)\n",
    "blur = cv2.GaussianBlur(dilation,(5,5),0)\n",
    "closing = cv2.morphologyEx(grey,cv2.MORPH_CLOSE,kernel, iterations = 2)\n",
    "\n",
    "plot_image(grey,3)\n",
    "\n",
    "# helper_imgs = [tmp,grey,dilation,blur,closing,canny]"
   ]
  },
  {
   "cell_type": "code",
   "execution_count": null,
   "metadata": {},
   "outputs": [],
   "source": [
    "x_subset = np.array(x_subset)\n",
    "y_subset = np.array(y_subset)\n",
    "\n",
    "# print(x_subset.shape)\n",
    "pts = np.array([y_subset,x_subset]).transpose()\n",
    "\n",
    "plt.figure(2)\n",
    "plt.clf()\n",
    "plt.title('Histogram of the image')\n",
    "plt.plot(x_subset[:], -y_subset[:])\n",
    "plt.axis('equal')\n"
   ]
  },
  {
   "cell_type": "code",
   "execution_count": null,
   "metadata": {},
   "outputs": [],
   "source": [
    "cpy = cv2.cvtColor(tmpIn,cv2.COLOR_GRAY2BGR)\n",
    "mask = cv2.cvtColor(black,cv2.COLOR_BGR2GRAY)\n",
    "mask_inv = cv2.bitwise_not(mask)\n",
    "\n",
    "res_hsv = cv2.bitwise_and(cpy, cpy, mask = mask_inv)\n",
    "plt.figure(3)\n",
    "plt.clf()\n",
    "plt.imshow(res_hsv)\n",
    "plt.show()\n",
    "\n",
    "\n",
    "masking = cv2.THRESH_BINARY\n",
    "            \n",
    "kernel = np.ones((5,2),np.uint8)\n",
    "\n",
    "ret, grey = cv2.threshold(res_hsv,greyThresh,255,masking)\n",
    "dilation = cv2.dilate(grey,kernel,iterations = 1)\n",
    "close = cv2.morphologyEx(grey, cv2.MORPH_CLOSE, (4,4))\n",
    "blur = cv2.GaussianBlur(dilation,(5,5),0)\n",
    "plot_image(close,5)"
   ]
  },
  {
   "cell_type": "code",
   "execution_count": null,
   "metadata": {},
   "outputs": [],
   "source": [
    "nonzero = res_hsv.nonzero()\n",
    "nonzeroy = np.array(nonzero[0])\n",
    "nonzerox = np.array(nonzero[1])\n",
    "\n",
    "ploty = np.linspace(0, w)\n",
    "\n",
    "\n",
    "# poly_left = np.poly1d(np.polyfit(\n",
    "#     left_line_y,\n",
    "#     left_line_x,\n",
    "#     deg=1\n",
    "# ))\n",
    "# left_x_start = int(poly_left(max_y))\n",
    "# left_x_end = int(poly_left(min_y))\n",
    "\n",
    "# line_image = draw_lines(\n",
    "#     image,\n",
    "#     [left_x_start, max_y, left_x_end, min_y],\n",
    "#     thickness=5,\n",
    "# )\n",
    "# plt.figure()\n",
    "# plt.imshow(line_image)\n",
    "# plt.show()\n",
    "\n",
    "\n",
    "# Try fitting polynomial to left side\n",
    "try:\n",
    "    # Fit a second order polynomial to each\n",
    "    fit = np.poly1d(np.polyfit(nonzeroy, nonzerox, 3))\n",
    "    print(fit)\n",
    "    # Generate x and y values for plotting\n",
    "    plot_x = fit(ploty)\n",
    "except:\n",
    "    print(\"ERROR: Function 'polyfit' failed for LEFT SIDE!\")\n",
    "    fit = [0, 0]\n",
    "    plot_x = [0, 0]\n",
    "    pass\n",
    "\n",
    "# cv2.line(res_hsv,(int(plot_x[0]),int(ploty[0])),(int(plot_x[-1]),int(ploty[-1])),(0,0,255))\n",
    "plt.imshow(res_hsv)\n",
    "plt.plot(ploty,plot_x,'r-')\n",
    "plt.show()"
   ]
  },
  {
   "cell_type": "code",
   "execution_count": null,
   "metadata": {},
   "outputs": [],
   "source": [
    "print(\"\"\"\n",
    "Good Configuration:    for image = test/test_disparity.png)\n",
    "---------------------------------------------------------------\n",
    "    \n",
    "    * Mapping Space       : U-Map\n",
    "    * Line Finding Method : Probablistic Hough Transform\n",
    "    * Filtering Used      : Composite Filtering -> Blurring\n",
    "    * Kernel Size         : (2, 3)\n",
    "    * Rho, Angle (deg)    :  1, 90\n",
    "    * Min Line Length     :  11\n",
    "    * Max Line Gap        :  22\n",
    "    * Grey Thresholding   :  11\n",
    "    * Hough Threshold     :  46\n",
    "    * Contour Threshold   :  500\n",
    "    \n",
    "    * Raw Contour Areas        : [2762.0, 1751.0, 4845.5, 2999.0, 7708.5, 1574.0, 398.0])\n",
    "    * Filtered Contour Areas   : [2762.0, 1751.0, 4845.5, 2999.0, 7708.5, 1574.0])\n",
    "\"\"\")"
   ]
  },
  {
   "cell_type": "code",
   "execution_count": null,
   "metadata": {},
   "outputs": [],
   "source": []
  },
  {
   "cell_type": "code",
   "execution_count": null,
   "metadata": {},
   "outputs": [],
   "source": [
    "from sklearn.preprocessing import PolynomialFeatures\n",
    "from sklearn.linear_model import LinearRegression,RANSACRegressor\n",
    "from sklearn.metrics import r2_score\n",
    "from sklearn.metrics import mean_squared_error\n",
    "from sklearn.linear_model import (\n",
    "    LinearRegression, TheilSenRegressor, RANSACRegressor, HuberRegressor)\n",
    "from sklearn.metrics import mean_squared_error\n",
    "from sklearn.preprocessing import PolynomialFeatures\n",
    "from sklearn.pipeline import make_pipeline\n",
    "\n",
    "# ransac_img = cv2.imread(\"/home/hunter/devel/vision_playground/input-lines.png\")\n",
    "# nonzero_pxls = ransac_img.nonzero()\n",
    "# nonzero_y = np.array(nonzero_pxls[0]).reshape(-1,1)\n",
    "# nonzero_x = np.array(nonzero_pxls[1]).reshape(-1,1)\n"
   ]
  },
  {
   "cell_type": "code",
   "execution_count": null,
   "metadata": {},
   "outputs": [],
   "source": []
  },
  {
   "cell_type": "code",
   "execution_count": null,
   "metadata": {},
   "outputs": [],
   "source": []
  },
  {
   "cell_type": "code",
   "execution_count": null,
   "metadata": {},
   "outputs": [],
   "source": []
  },
  {
   "cell_type": "code",
   "execution_count": null,
   "metadata": {
    "scrolled": true
   },
   "outputs": [],
   "source": [
    "from sklearn.linear_model import (\n",
    "    LinearRegression, TheilSenRegressor, RANSACRegressor, HuberRegressor)\n",
    "from sklearn.metrics import mean_squared_error\n",
    "from sklearn.preprocessing import PolynomialFeatures\n",
    "from sklearn.pipeline import make_pipeline\n",
    "\n",
    "nonzero_y = np.array(nonzero_pxls[0]).reshape(-1,1)\n",
    "nonzero_x = np.array(nonzero_pxls[1]).reshape(-1,1)\n",
    "ransac = RANSACRegressor()\n",
    "\n",
    "estimators = [('OLS', LinearRegression()),\n",
    "              ('Theil-Sen', TheilSenRegressor(random_state=42)),\n",
    "              ('RANSAC', RANSACRegressor(random_state=42)),\n",
    "              ('HuberRegressor', HuberRegressor())]\n",
    "colors = {'OLS': 'turquoise', 'Theil-Sen': 'gold', 'RANSAC': 'lightgreen', 'HuberRegressor': 'black'}\n",
    "linestyle = {'OLS': '-', 'Theil-Sen': '-.', 'RANSAC': '--', 'HuberRegressor': '--'}\n",
    "lw = 3\n",
    "\n",
    "x_plot = np.linspace(X.min(), X.max())\n",
    "for title, this_X, this_y in [\n",
    "        ('Modeling Errors Only', X, y),\n",
    "        ('Corrupt X, Small Deviants', X_errors, y),\n",
    "        ('Corrupt y, Small Deviants', X, y_errors),\n",
    "        ('Corrupt X, Large Deviants', X_errors_large, y),\n",
    "        ('Corrupt y, Large Deviants', X, y_errors_large)]:\n",
    "    plt.figure(figsize=(5, 4))\n",
    "    plt.plot(this_X[:, 0], this_y, 'b+')\n",
    "\n",
    "    for name, estimator in estimators:\n",
    "        model = make_pipeline(PolynomialFeatures(3), estimator)\n",
    "        model.fit(this_X, this_y)\n",
    "        mse = mean_squared_error(model.predict(X_test), y_test)\n",
    "        y_plot = model.predict(x_plot[:, np.newaxis])\n",
    "        plt.plot(x_plot, y_plot, color=colors[name], linestyle=linestyle[name],\n",
    "                 linewidth=lw, label='%s: error = %.3f' % (name, mse))\n",
    "\n",
    "    legend_title = 'Error of Mean\\nAbsolute Deviation\\nto Non-corrupt Data'\n",
    "    legend = plt.legend(loc='upper right', frameon=False, title=legend_title,\n",
    "                        prop=dict(size='x-small'))\n",
    "    plt.xlim(-4, 10.2)\n",
    "    plt.ylim(-2, 10.2)\n",
    "    plt.title(title)\n",
    "plt.show()"
   ]
  },
  {
   "cell_type": "code",
   "execution_count": null,
   "metadata": {},
   "outputs": [],
   "source": []
  },
  {
   "cell_type": "code",
   "execution_count": null,
   "metadata": {},
   "outputs": [],
   "source": []
  }
 ],
 "metadata": {
  "kernelspec": {
   "display_name": "Python 2",
   "language": "python",
   "name": "python2"
  },
  "language_info": {
   "codemirror_mode": {
    "name": "ipython",
    "version": 2
   },
   "file_extension": ".py",
   "mimetype": "text/x-python",
   "name": "python",
   "nbconvert_exporter": "python",
   "pygments_lexer": "ipython2",
   "version": "2.7.12"
  }
 },
 "nbformat": 4,
 "nbformat_minor": 2
}
