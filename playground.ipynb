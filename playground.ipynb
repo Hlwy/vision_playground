{
 "cells": [
  {
   "cell_type": "code",
   "execution_count": 6,
   "metadata": {},
   "outputs": [],
   "source": [
    "%matplotlib qt5\n",
    "from __future__ import print_function\n",
    "\n",
    "import os, sys, fnmatch, math\n",
    "import cv2, time\n",
    "import numpy as np\n",
    "import argparse, pprint\n",
    "from matplotlib import pyplot as plt\n",
    "\n",
    "pp = pprint.PrettyPrinter(indent=4)\n",
    "homeDir = os.path.abspath('')"
   ]
  },
  {
   "cell_type": "code",
   "execution_count": 17,
   "metadata": {},
   "outputs": [],
   "source": [
    "def generate_waypoints(initial_conditions, trajectory_type=\"line\", x_offset=None, y_offset=None, input_range=(0,3500),dInput=5,input_offset=0, verbose=False):\n",
    "        trajectory_type = str(trajectory_type)\n",
    "        x0, y0, z0, yaw0 = initial_conditions[:4]\n",
    "        v0, wmax = initial_conditions[-2:]\n",
    "        radius = v0 / wmax\n",
    "\n",
    "        if(x_offset is None): x_offset = x0\n",
    "        if(y_offset is None): y_offset = y0\n",
    "\n",
    "        ins = []\n",
    "        if(trajectory_type == \"line\"):\n",
    "            in_start = input_range[0] + input_offset; in_end = input_range[-1] + dInput\n",
    "            ins = np.arange(in_start,in_end,dInput)\n",
    "            xs = ins * np.cos(np.deg2rad(yaw0)) + x_offset\n",
    "            ys = ins * np.sin(np.deg2rad(yaw0)) + y_offset\n",
    "        elif(trajectory_type == \"circle\"):\n",
    "            in_start = input_range[0]; in_end = input_range[-1] + dInput\n",
    "            ins = np.deg2rad(np.arange(in_start,in_end,dInput) + input_offset)\n",
    "            xs = radius * np.cos(ins) + x_offset\n",
    "            ys = radius * np.sin(ins) - radius + y_offset\n",
    "        else:\n",
    "            print(\"[WARNING] ----- Trajectory [%s] defined for \\'generate_waypoints()\\' is either invalid or not yet supported!\" % (trajectory_type))\n",
    "            xs = np.array([])\n",
    "            ys = np.array([])\n",
    "        print(ins)\n",
    "            \n",
    "        if(verbose): print(x0, y0, z0, yaw0, v0, wmax,trajectory_type)\n",
    "        nPts = xs.shape[0]\n",
    "        zs = np.ones_like(xs) * z0\n",
    "        return nPts, xs, ys, zs"
   ]
  },
  {
   "cell_type": "code",
   "execution_count": 18,
   "metadata": {},
   "outputs": [
    {
     "name": "stdout",
     "output_type": "stream",
     "text": [
      "[-4.71238898 -4.45058959 -4.1887902  -3.92699082 -3.66519143 -3.40339204\n",
      " -3.14159265 -2.87979327 -2.61799388 -2.35619449 -2.0943951  -1.83259571\n",
      " -1.57079633 -1.30899694 -1.04719755 -0.78539816 -0.52359878 -0.26179939\n",
      "  0.          0.26179939  0.52359878  0.78539816  1.04719755  1.30899694\n",
      "  1.57079633]\n"
     ]
    }
   ],
   "source": [
    "states = [0,-4.428739,-49.423587, np.rad2deg(3.81736), 1.367416,np.deg2rad(2.396608)]\n",
    "\n",
    "\n",
    "n, xs, ys, zs = generate_waypoints(states, trajectory_type=\"circle\", input_offset=-270, dInput=15, input_range=(0,360))"
   ]
  },
  {
   "cell_type": "code",
   "execution_count": 16,
   "metadata": {},
   "outputs": [],
   "source": [
    "plt.figure(0)\n",
    "plt.plot(states[0],states[1],'ks')\n",
    "plt.plot(xs[0],ys[0],'bs')\n",
    "plt.axis('equal')\n",
    "plt.show()"
   ]
  },
  {
   "cell_type": "code",
   "execution_count": 20,
   "metadata": {},
   "outputs": [
    {
     "name": "stdout",
     "output_type": "stream",
     "text": [
      "-0.051 -0.753012048193\n",
      "-19.6078431373 -1.328\n"
     ]
    }
   ],
   "source": [
    "Rtrack = -0.051\n",
    "RtrackInv = 1 / Rtrack\n",
    "Kavoid = -1.328\n",
    "Ravoid = 1/Kavoid\n",
    "print(Rtrack, Ravoid)\n",
    "print(RtrackInv,Kavoid)"
   ]
  },
  {
   "cell_type": "code",
   "execution_count": null,
   "metadata": {},
   "outputs": [],
   "source": []
  }
 ],
 "metadata": {
  "kernelspec": {
   "display_name": "Python 2",
   "language": "python",
   "name": "python2"
  },
  "language_info": {
   "codemirror_mode": {
    "name": "ipython",
    "version": 2
   },
   "file_extension": ".py",
   "mimetype": "text/x-python",
   "name": "python",
   "nbconvert_exporter": "python",
   "pygments_lexer": "ipython2",
   "version": "2.7.15rc1"
  }
 },
 "nbformat": 4,
 "nbformat_minor": 2
}
